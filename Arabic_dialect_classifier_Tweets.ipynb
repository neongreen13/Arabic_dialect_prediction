{
 "cells": [
  {
   "cell_type": "markdown",
   "metadata": {},
   "source": [
    "<font color='MediumSeaGreen'> \n",
    "    \n",
    "# Classify Multiple Arabic Dialects from Twitter"
   ]
  },
  {
   "cell_type": "markdown",
   "metadata": {},
   "source": [
    "Steps:\n",
    "1. Download tweets from different Arabic-speaking cities by geolocating the twitter scraper - Cairo-Egypt, Riyadh-Saudi Arabia, Amman-Jordan, Casablanca-Morocco, Baghdad-Iraq, and Modern Standard Arabic from news outlets\n",
    "    - 17,000 tweets were gathered for each dialect, comprising 102,000 total tweets\n",
    "2. Apply dialect detection models from companion notebook to classify multiple Arabic dialects\n",
    "3. Evaluate accuracy"
   ]
  },
  {
   "cell_type": "markdown",
   "metadata": {},
   "source": [
    "<font color='MediumSeaGreen'> \n",
    "\n",
    "### Arabic Dialects Corpus from Twitter"
   ]
  },
  {
   "cell_type": "markdown",
   "metadata": {},
   "source": [
    "<font color='MediumSeaGreen'> \n",
    "\n",
    "#### Saudi Arabian"
   ]
  },
  {
   "cell_type": "code",
   "execution_count": 3,
   "metadata": {},
   "outputs": [],
   "source": [
    "import warnings\n",
    "warnings.filterwarnings('ignore')"
   ]
  },
  {
   "cell_type": "code",
   "execution_count": 1,
   "metadata": {},
   "outputs": [],
   "source": [
    "import pandas as pd\n",
    "saudi = pd.read_excel('Riyadh Tweets.xlsx') #tweets geolocated from Riyadh"
   ]
  },
  {
   "cell_type": "code",
   "execution_count": 2,
   "metadata": {},
   "outputs": [],
   "source": [
    "saudi=saudi[['Created At','Location','Message']]"
   ]
  },
  {
   "cell_type": "code",
   "execution_count": 4,
   "metadata": {},
   "outputs": [
    {
     "data": {
      "text/html": [
       "<div>\n",
       "<style scoped>\n",
       "    .dataframe tbody tr th:only-of-type {\n",
       "        vertical-align: middle;\n",
       "    }\n",
       "\n",
       "    .dataframe tbody tr th {\n",
       "        vertical-align: top;\n",
       "    }\n",
       "\n",
       "    .dataframe thead th {\n",
       "        text-align: right;\n",
       "    }\n",
       "</style>\n",
       "<table border=\"1\" class=\"dataframe\">\n",
       "  <thead>\n",
       "    <tr style=\"text-align: right;\">\n",
       "      <th></th>\n",
       "      <th>Created At</th>\n",
       "      <th>Location</th>\n",
       "      <th>Message</th>\n",
       "      <th>Label</th>\n",
       "    </tr>\n",
       "  </thead>\n",
       "  <tbody>\n",
       "    <tr>\n",
       "      <th>0</th>\n",
       "      <td>2019-06-24 12:43:22</td>\n",
       "      <td>المملكة العربية السعودية</td>\n",
       "      <td>@AJArabic باقي 22  دقيقه  يفتح  انجاز  بنحوله ...</td>\n",
       "      <td>Saudi</td>\n",
       "    </tr>\n",
       "    <tr>\n",
       "      <th>1</th>\n",
       "      <td>2019-06-24 12:43:22</td>\n",
       "      <td>Riyadh</td>\n",
       "      <td>من رضي بالله ربا وبالإسلام دينا وبمحمد نبيا وج...</td>\n",
       "      <td>Saudi</td>\n",
       "    </tr>\n",
       "    <tr>\n",
       "      <th>2</th>\n",
       "      <td>2019-06-24 12:43:22</td>\n",
       "      <td>الرياض</td>\n",
       "      <td>المقابل #المالي #للإقامة_المميزة : https://t.c...</td>\n",
       "      <td>Saudi</td>\n",
       "    </tr>\n",
       "    <tr>\n",
       "      <th>3</th>\n",
       "      <td>2019-06-24 12:43:21</td>\n",
       "      <td>Saudi Arabia</td>\n",
       "      <td>من فرط الحب له ولعيونه احس ودي انو لي قلب ثاني...</td>\n",
       "      <td>Saudi</td>\n",
       "    </tr>\n",
       "    <tr>\n",
       "      <th>4</th>\n",
       "      <td>2019-06-24 12:43:21</td>\n",
       "      <td>الرياض</td>\n",
       "      <td>تعالو خاص 💸</td>\n",
       "      <td>Saudi</td>\n",
       "    </tr>\n",
       "  </tbody>\n",
       "</table>\n",
       "</div>"
      ],
      "text/plain": [
       "           Created At                  Location  \\\n",
       "0 2019-06-24 12:43:22  المملكة العربية السعودية   \n",
       "1 2019-06-24 12:43:22                    Riyadh   \n",
       "2 2019-06-24 12:43:22                    الرياض   \n",
       "3 2019-06-24 12:43:21              Saudi Arabia   \n",
       "4 2019-06-24 12:43:21                    الرياض   \n",
       "\n",
       "                                             Message  Label  \n",
       "0  @AJArabic باقي 22  دقيقه  يفتح  انجاز  بنحوله ...  Saudi  \n",
       "1  من رضي بالله ربا وبالإسلام دينا وبمحمد نبيا وج...  Saudi  \n",
       "2  المقابل #المالي #للإقامة_المميزة : https://t.c...  Saudi  \n",
       "3  من فرط الحب له ولعيونه احس ودي انو لي قلب ثاني...  Saudi  \n",
       "4                                        تعالو خاص 💸  Saudi  "
      ]
     },
     "metadata": {},
     "output_type": "display_data"
    },
    {
     "data": {
      "text/plain": [
       "(17000, 4)"
      ]
     },
     "execution_count": 4,
     "metadata": {},
     "output_type": "execute_result"
    }
   ],
   "source": [
    "saudi['Label'] = 'Saudi'\n",
    "display(saudi.head())\n",
    "saudi.shape"
   ]
  },
  {
   "cell_type": "markdown",
   "metadata": {},
   "source": [
    "<font color='MediumSeaGreen'> \n",
    "\n",
    "#### Egyptian"
   ]
  },
  {
   "cell_type": "code",
   "execution_count": 5,
   "metadata": {},
   "outputs": [],
   "source": [
    "import pandas as pd\n",
    "egypt = pd.read_excel('Cairo Tweets.xlsx') #tweets geolocated from Cairo"
   ]
  },
  {
   "cell_type": "code",
   "execution_count": 6,
   "metadata": {},
   "outputs": [],
   "source": [
    "egypt=egypt[['Created At','Location','Message']]"
   ]
  },
  {
   "cell_type": "code",
   "execution_count": 7,
   "metadata": {},
   "outputs": [
    {
     "data": {
      "text/html": [
       "<div>\n",
       "<style scoped>\n",
       "    .dataframe tbody tr th:only-of-type {\n",
       "        vertical-align: middle;\n",
       "    }\n",
       "\n",
       "    .dataframe tbody tr th {\n",
       "        vertical-align: top;\n",
       "    }\n",
       "\n",
       "    .dataframe thead th {\n",
       "        text-align: right;\n",
       "    }\n",
       "</style>\n",
       "<table border=\"1\" class=\"dataframe\">\n",
       "  <thead>\n",
       "    <tr style=\"text-align: right;\">\n",
       "      <th></th>\n",
       "      <th>Created At</th>\n",
       "      <th>Location</th>\n",
       "      <th>Message</th>\n",
       "      <th>Label</th>\n",
       "    </tr>\n",
       "  </thead>\n",
       "  <tbody>\n",
       "    <tr>\n",
       "      <th>0</th>\n",
       "      <td>2019-06-23 14:21:02</td>\n",
       "      <td>Egypt</td>\n",
       "      <td>علشان نيوبورن دايماً بتشاركك فى تشجيعك💪💪\\n يلا...</td>\n",
       "      <td>Egyptian</td>\n",
       "    </tr>\n",
       "    <tr>\n",
       "      <th>1</th>\n",
       "      <td>2019-06-23 14:21:02</td>\n",
       "      <td>Egypt</td>\n",
       "      <td>@ebrahim_srour95 الفرع الجاى فى دكرنس 😅</td>\n",
       "      <td>Egyptian</td>\n",
       "    </tr>\n",
       "    <tr>\n",
       "      <th>2</th>\n",
       "      <td>2019-06-23 14:21:02</td>\n",
       "      <td>Egypt</td>\n",
       "      <td>@lioromio المشكلة انه حتى لا يصلح للتريقة دي و...</td>\n",
       "      <td>Egyptian</td>\n",
       "    </tr>\n",
       "    <tr>\n",
       "      <th>3</th>\n",
       "      <td>2019-06-23 14:21:01</td>\n",
       "      <td>Egypt</td>\n",
       "      <td>@ehabbebo33 @C0d3l3ss اوبا الشله الحلوه كلها ♥...</td>\n",
       "      <td>Egyptian</td>\n",
       "    </tr>\n",
       "    <tr>\n",
       "      <th>4</th>\n",
       "      <td>2019-06-23 14:21:01</td>\n",
       "      <td>Mansoura</td>\n",
       "      <td>عيب عليكى ي اس دا انا حته صغيرة في نفسي كدا😸😸 ...</td>\n",
       "      <td>Egyptian</td>\n",
       "    </tr>\n",
       "  </tbody>\n",
       "</table>\n",
       "</div>"
      ],
      "text/plain": [
       "           Created At  Location  \\\n",
       "0 2019-06-23 14:21:02     Egypt   \n",
       "1 2019-06-23 14:21:02     Egypt   \n",
       "2 2019-06-23 14:21:02     Egypt   \n",
       "3 2019-06-23 14:21:01     Egypt   \n",
       "4 2019-06-23 14:21:01  Mansoura   \n",
       "\n",
       "                                             Message     Label  \n",
       "0  علشان نيوبورن دايماً بتشاركك فى تشجيعك💪💪\\n يلا...  Egyptian  \n",
       "1            @ebrahim_srour95 الفرع الجاى فى دكرنس 😅  Egyptian  \n",
       "2  @lioromio المشكلة انه حتى لا يصلح للتريقة دي و...  Egyptian  \n",
       "3  @ehabbebo33 @C0d3l3ss اوبا الشله الحلوه كلها ♥...  Egyptian  \n",
       "4  عيب عليكى ي اس دا انا حته صغيرة في نفسي كدا😸😸 ...  Egyptian  "
      ]
     },
     "metadata": {},
     "output_type": "display_data"
    },
    {
     "data": {
      "text/plain": [
       "(17000, 4)"
      ]
     },
     "execution_count": 7,
     "metadata": {},
     "output_type": "execute_result"
    }
   ],
   "source": [
    "egypt['Label'] = 'Egyptian'\n",
    "display(egypt.head())\n",
    "egypt.shape"
   ]
  },
  {
   "cell_type": "markdown",
   "metadata": {},
   "source": [
    "<font color='MediumSeaGreen'> \n",
    "\n",
    "#### Levantine"
   ]
  },
  {
   "cell_type": "code",
   "execution_count": 8,
   "metadata": {},
   "outputs": [],
   "source": [
    "import pandas as pd\n",
    "jordan = pd.read_excel('Levant Tweets.xlsx') #tweets geolocated from Amman"
   ]
  },
  {
   "cell_type": "code",
   "execution_count": 9,
   "metadata": {},
   "outputs": [],
   "source": [
    "jordan=jordan[['Created At','Location','Message']]"
   ]
  },
  {
   "cell_type": "code",
   "execution_count": 10,
   "metadata": {},
   "outputs": [
    {
     "data": {
      "text/html": [
       "<div>\n",
       "<style scoped>\n",
       "    .dataframe tbody tr th:only-of-type {\n",
       "        vertical-align: middle;\n",
       "    }\n",
       "\n",
       "    .dataframe tbody tr th {\n",
       "        vertical-align: top;\n",
       "    }\n",
       "\n",
       "    .dataframe thead th {\n",
       "        text-align: right;\n",
       "    }\n",
       "</style>\n",
       "<table border=\"1\" class=\"dataframe\">\n",
       "  <thead>\n",
       "    <tr style=\"text-align: right;\">\n",
       "      <th></th>\n",
       "      <th>Created At</th>\n",
       "      <th>Location</th>\n",
       "      <th>Message</th>\n",
       "      <th>Label</th>\n",
       "    </tr>\n",
       "  </thead>\n",
       "  <tbody>\n",
       "    <tr>\n",
       "      <th>0</th>\n",
       "      <td>2019-08-18 19:10:47</td>\n",
       "      <td>Gaza</td>\n",
       "      <td>@marah_moneer عأساس إني بستأذن إمي طيب مهي زي ...</td>\n",
       "      <td>Levantine</td>\n",
       "    </tr>\n",
       "    <tr>\n",
       "      <th>1</th>\n",
       "      <td>2019-08-18 19:10:44</td>\n",
       "      <td>Palestine, Gaza</td>\n",
       "      <td>@sohad_ashraf بس بقى مع الزهق</td>\n",
       "      <td>Levantine</td>\n",
       "    </tr>\n",
       "    <tr>\n",
       "      <th>2</th>\n",
       "      <td>2019-08-18 19:10:39</td>\n",
       "      <td>Amman</td>\n",
       "      <td>@farahalfetyani انت جيبي صورة سفانة الزابطة ول...</td>\n",
       "      <td>Levantine</td>\n",
       "    </tr>\n",
       "    <tr>\n",
       "      <th>3</th>\n",
       "      <td>2019-08-18 19:10:38</td>\n",
       "      <td>فلسطين-غزة</td>\n",
       "      <td>من شاطئ بحر غزة بعدستي 👌 https://t.co/ovBTBjTKeS</td>\n",
       "      <td>Levantine</td>\n",
       "    </tr>\n",
       "    <tr>\n",
       "      <th>4</th>\n",
       "      <td>2019-08-18 19:10:34</td>\n",
       "      <td>nablus</td>\n",
       "      <td>كيف الناس بقدرو يكونو سيئيين للهدرجه ؟</td>\n",
       "      <td>Levantine</td>\n",
       "    </tr>\n",
       "  </tbody>\n",
       "</table>\n",
       "</div>"
      ],
      "text/plain": [
       "           Created At         Location  \\\n",
       "0 2019-08-18 19:10:47             Gaza   \n",
       "1 2019-08-18 19:10:44  Palestine, Gaza   \n",
       "2 2019-08-18 19:10:39            Amman   \n",
       "3 2019-08-18 19:10:38       فلسطين-غزة   \n",
       "4 2019-08-18 19:10:34           nablus   \n",
       "\n",
       "                                             Message      Label  \n",
       "0  @marah_moneer عأساس إني بستأذن إمي طيب مهي زي ...  Levantine  \n",
       "1                      @sohad_ashraf بس بقى مع الزهق  Levantine  \n",
       "2  @farahalfetyani انت جيبي صورة سفانة الزابطة ول...  Levantine  \n",
       "3   من شاطئ بحر غزة بعدستي 👌 https://t.co/ovBTBjTKeS  Levantine  \n",
       "4             كيف الناس بقدرو يكونو سيئيين للهدرجه ؟  Levantine  "
      ]
     },
     "metadata": {},
     "output_type": "display_data"
    },
    {
     "data": {
      "text/plain": [
       "(17000, 4)"
      ]
     },
     "execution_count": 10,
     "metadata": {},
     "output_type": "execute_result"
    }
   ],
   "source": [
    "jordan['Label'] = 'Levantine'\n",
    "display(jordan.head())\n",
    "jordan.shape"
   ]
  },
  {
   "cell_type": "markdown",
   "metadata": {},
   "source": [
    "<font color='MediumSeaGreen'> \n",
    "\n",
    "#### Moroccan"
   ]
  },
  {
   "cell_type": "code",
   "execution_count": 11,
   "metadata": {},
   "outputs": [],
   "source": [
    "import pandas as pd\n",
    "maroc = pd.read_excel('Maroc Tweets.xlsx') #tweets geolocated from Casablanca"
   ]
  },
  {
   "cell_type": "code",
   "execution_count": 12,
   "metadata": {},
   "outputs": [],
   "source": [
    "maroc=maroc[['Created At','Location','Message']]"
   ]
  },
  {
   "cell_type": "code",
   "execution_count": 13,
   "metadata": {},
   "outputs": [
    {
     "data": {
      "text/html": [
       "<div>\n",
       "<style scoped>\n",
       "    .dataframe tbody tr th:only-of-type {\n",
       "        vertical-align: middle;\n",
       "    }\n",
       "\n",
       "    .dataframe tbody tr th {\n",
       "        vertical-align: top;\n",
       "    }\n",
       "\n",
       "    .dataframe thead th {\n",
       "        text-align: right;\n",
       "    }\n",
       "</style>\n",
       "<table border=\"1\" class=\"dataframe\">\n",
       "  <thead>\n",
       "    <tr style=\"text-align: right;\">\n",
       "      <th></th>\n",
       "      <th>Created At</th>\n",
       "      <th>Location</th>\n",
       "      <th>Message</th>\n",
       "      <th>Label</th>\n",
       "    </tr>\n",
       "  </thead>\n",
       "  <tbody>\n",
       "    <tr>\n",
       "      <th>0</th>\n",
       "      <td>2019-08-18 15:45:15</td>\n",
       "      <td>maroc</td>\n",
       "      <td>@M__1437 نصالحه بسرعة جتى لا تنطفئ جذوة المشاع...</td>\n",
       "      <td>Moroccan</td>\n",
       "    </tr>\n",
       "    <tr>\n",
       "      <th>1</th>\n",
       "      <td>2019-08-18 15:45:14</td>\n",
       "      <td>Royaume du Maroc</td>\n",
       "      <td>السحر من الأمراض الروحانية المتعبة والتي يعاني...</td>\n",
       "      <td>Moroccan</td>\n",
       "    </tr>\n",
       "    <tr>\n",
       "      <th>2</th>\n",
       "      <td>2019-08-18 15:45:11</td>\n",
       "      <td>Casablanca</td>\n",
       "      <td>@wahid_Elya لا ... اسمح لي ،  بلادك تتبقى بلادك</td>\n",
       "      <td>Moroccan</td>\n",
       "    </tr>\n",
       "    <tr>\n",
       "      <th>3</th>\n",
       "      <td>2019-08-18 15:45:07</td>\n",
       "      <td>UAE,RAK</td>\n",
       "      <td>@Sswearah84sS هيه اصلا في وايد اشيا طعمهم غير</td>\n",
       "      <td>Moroccan</td>\n",
       "    </tr>\n",
       "    <tr>\n",
       "      <th>4</th>\n",
       "      <td>2019-08-18 15:45:04</td>\n",
       "      <td>Around</td>\n",
       "      <td>@9Kora ياخي افهم 🤣💛💛💛💛 #مرابط_ياخي❤️</td>\n",
       "      <td>Moroccan</td>\n",
       "    </tr>\n",
       "  </tbody>\n",
       "</table>\n",
       "</div>"
      ],
      "text/plain": [
       "           Created At          Location  \\\n",
       "0 2019-08-18 15:45:15             maroc   \n",
       "1 2019-08-18 15:45:14  Royaume du Maroc   \n",
       "2 2019-08-18 15:45:11        Casablanca   \n",
       "3 2019-08-18 15:45:07           UAE,RAK   \n",
       "4 2019-08-18 15:45:04            Around   \n",
       "\n",
       "                                             Message     Label  \n",
       "0  @M__1437 نصالحه بسرعة جتى لا تنطفئ جذوة المشاع...  Moroccan  \n",
       "1  السحر من الأمراض الروحانية المتعبة والتي يعاني...  Moroccan  \n",
       "2    @wahid_Elya لا ... اسمح لي ،  بلادك تتبقى بلادك  Moroccan  \n",
       "3      @Sswearah84sS هيه اصلا في وايد اشيا طعمهم غير  Moroccan  \n",
       "4               @9Kora ياخي افهم 🤣💛💛💛💛 #مرابط_ياخي❤️  Moroccan  "
      ]
     },
     "metadata": {},
     "output_type": "display_data"
    },
    {
     "data": {
      "text/plain": [
       "(17000, 4)"
      ]
     },
     "execution_count": 13,
     "metadata": {},
     "output_type": "execute_result"
    }
   ],
   "source": [
    "maroc['Label'] = 'Moroccan'\n",
    "display(maroc.head())\n",
    "maroc.shape"
   ]
  },
  {
   "cell_type": "markdown",
   "metadata": {},
   "source": [
    "<font color='MediumSeaGreen'> \n",
    "\n",
    "#### Iraqi"
   ]
  },
  {
   "cell_type": "code",
   "execution_count": 14,
   "metadata": {},
   "outputs": [],
   "source": [
    "import pandas as pd\n",
    "iraq = pd.read_excel('Iraqi Tweets.xlsx') #tweets geolocated from Baghdad"
   ]
  },
  {
   "cell_type": "code",
   "execution_count": 15,
   "metadata": {},
   "outputs": [],
   "source": [
    "iraq=iraq[['Created At','Location','Message']]"
   ]
  },
  {
   "cell_type": "code",
   "execution_count": 17,
   "metadata": {},
   "outputs": [
    {
     "data": {
      "text/html": [
       "<div>\n",
       "<style scoped>\n",
       "    .dataframe tbody tr th:only-of-type {\n",
       "        vertical-align: middle;\n",
       "    }\n",
       "\n",
       "    .dataframe tbody tr th {\n",
       "        vertical-align: top;\n",
       "    }\n",
       "\n",
       "    .dataframe thead th {\n",
       "        text-align: right;\n",
       "    }\n",
       "</style>\n",
       "<table border=\"1\" class=\"dataframe\">\n",
       "  <thead>\n",
       "    <tr style=\"text-align: right;\">\n",
       "      <th></th>\n",
       "      <th>Created At</th>\n",
       "      <th>Location</th>\n",
       "      <th>Message</th>\n",
       "      <th>Label</th>\n",
       "    </tr>\n",
       "  </thead>\n",
       "  <tbody>\n",
       "    <tr>\n",
       "      <th>0</th>\n",
       "      <td>2019-08-18 02:49:00</td>\n",
       "      <td>bagdad,iraq</td>\n",
       "      <td>@Moha_baghdad ماكو احلى  من الحجي البغدادي 😍😍</td>\n",
       "      <td>Iraqi</td>\n",
       "    </tr>\n",
       "    <tr>\n",
       "      <th>1</th>\n",
       "      <td>2019-08-18 02:48:56</td>\n",
       "      <td>العراق، بغداد</td>\n",
       "      <td>@Bo_Kanna اما</td>\n",
       "      <td>Iraqi</td>\n",
       "    </tr>\n",
       "    <tr>\n",
       "      <th>2</th>\n",
       "      <td>2019-08-18 02:48:50</td>\n",
       "      <td>العراق، بغداد</td>\n",
       "      <td>@Aslan__RM اي والله</td>\n",
       "      <td>Iraqi</td>\n",
       "    </tr>\n",
       "    <tr>\n",
       "      <th>3</th>\n",
       "      <td>2019-08-18 02:48:30</td>\n",
       "      <td>Iraq</td>\n",
       "      <td>@Nooooof911f العراق والسعودية اهل من زمان 💛</td>\n",
       "      <td>Iraqi</td>\n",
       "    </tr>\n",
       "    <tr>\n",
       "      <th>4</th>\n",
       "      <td>2019-08-18 02:48:00</td>\n",
       "      <td>ملتفه حول القمر مبعثره بالسماء</td>\n",
       "      <td>نتي جبار شكل واي فاي علي رضا محول لي 😭😍</td>\n",
       "      <td>Iraqi</td>\n",
       "    </tr>\n",
       "  </tbody>\n",
       "</table>\n",
       "</div>"
      ],
      "text/plain": [
       "           Created At                        Location  \\\n",
       "0 2019-08-18 02:49:00                     bagdad,iraq   \n",
       "1 2019-08-18 02:48:56                   العراق، بغداد   \n",
       "2 2019-08-18 02:48:50                   العراق، بغداد   \n",
       "3 2019-08-18 02:48:30                            Iraq   \n",
       "4 2019-08-18 02:48:00  ملتفه حول القمر مبعثره بالسماء   \n",
       "\n",
       "                                         Message  Label  \n",
       "0  @Moha_baghdad ماكو احلى  من الحجي البغدادي 😍😍  Iraqi  \n",
       "1                                  @Bo_Kanna اما  Iraqi  \n",
       "2                            @Aslan__RM اي والله  Iraqi  \n",
       "3    @Nooooof911f العراق والسعودية اهل من زمان 💛  Iraqi  \n",
       "4        نتي جبار شكل واي فاي علي رضا محول لي 😭😍  Iraqi  "
      ]
     },
     "metadata": {},
     "output_type": "display_data"
    },
    {
     "data": {
      "text/plain": [
       "(17000, 4)"
      ]
     },
     "execution_count": 17,
     "metadata": {},
     "output_type": "execute_result"
    }
   ],
   "source": [
    "iraq['Label'] = 'Iraqi'\n",
    "display(iraq.head())\n",
    "iraq.shape"
   ]
  },
  {
   "cell_type": "markdown",
   "metadata": {},
   "source": [
    "<font color='MediumSeaGreen'> \n",
    "\n",
    "#### Modern Standard Arabic (news)"
   ]
  },
  {
   "cell_type": "code",
   "execution_count": 18,
   "metadata": {},
   "outputs": [],
   "source": [
    "import pandas as pd\n",
    "msa = pd.read_excel('MSA Tweets.xlsx') #tweets from media timeline"
   ]
  },
  {
   "cell_type": "code",
   "execution_count": 19,
   "metadata": {},
   "outputs": [],
   "source": [
    "msa=msa[['Created At','Location','Message']]"
   ]
  },
  {
   "cell_type": "code",
   "execution_count": 20,
   "metadata": {},
   "outputs": [
    {
     "data": {
      "text/html": [
       "<div>\n",
       "<style scoped>\n",
       "    .dataframe tbody tr th:only-of-type {\n",
       "        vertical-align: middle;\n",
       "    }\n",
       "\n",
       "    .dataframe tbody tr th {\n",
       "        vertical-align: top;\n",
       "    }\n",
       "\n",
       "    .dataframe thead th {\n",
       "        text-align: right;\n",
       "    }\n",
       "</style>\n",
       "<table border=\"1\" class=\"dataframe\">\n",
       "  <thead>\n",
       "    <tr style=\"text-align: right;\">\n",
       "      <th></th>\n",
       "      <th>Created At</th>\n",
       "      <th>Location</th>\n",
       "      <th>Message</th>\n",
       "      <th>Label</th>\n",
       "    </tr>\n",
       "  </thead>\n",
       "  <tbody>\n",
       "    <tr>\n",
       "      <th>0</th>\n",
       "      <td>2019-06-25 17:30:09</td>\n",
       "      <td>Qatar</td>\n",
       "      <td>ما وراء الخبر - يناقش ما رشح عن اجتماع مستشاري...</td>\n",
       "      <td>MSA</td>\n",
       "    </tr>\n",
       "    <tr>\n",
       "      <th>1</th>\n",
       "      <td>2019-06-25 17:21:22</td>\n",
       "      <td>Qatar</td>\n",
       "      <td>RT @AJABreaking: عاجل | آنييس كالامار: كان يمك...</td>\n",
       "      <td>MSA</td>\n",
       "    </tr>\n",
       "    <tr>\n",
       "      <th>2</th>\n",
       "      <td>2019-06-25 17:02:56</td>\n",
       "      <td>Qatar</td>\n",
       "      <td>RT @ajmidan: تزامنا مع #ورشة_البحرين الاقتصادي...</td>\n",
       "      <td>MSA</td>\n",
       "    </tr>\n",
       "    <tr>\n",
       "      <th>3</th>\n",
       "      <td>2019-06-25 16:31:29</td>\n",
       "      <td>Qatar</td>\n",
       "      <td>RT @AJABreaking: عاجل | كوشنر: القيادات الفلسط...</td>\n",
       "      <td>MSA</td>\n",
       "    </tr>\n",
       "    <tr>\n",
       "      <th>4</th>\n",
       "      <td>2019-06-25 16:30:00</td>\n",
       "      <td>Qatar</td>\n",
       "      <td>توقيع مذكرة تفاهم بين مكتب الأمم المتحدة لمكاف...</td>\n",
       "      <td>MSA</td>\n",
       "    </tr>\n",
       "  </tbody>\n",
       "</table>\n",
       "</div>"
      ],
      "text/plain": [
       "           Created At Location  \\\n",
       "0 2019-06-25 17:30:09    Qatar   \n",
       "1 2019-06-25 17:21:22    Qatar   \n",
       "2 2019-06-25 17:02:56    Qatar   \n",
       "3 2019-06-25 16:31:29    Qatar   \n",
       "4 2019-06-25 16:30:00    Qatar   \n",
       "\n",
       "                                             Message Label  \n",
       "0  ما وراء الخبر - يناقش ما رشح عن اجتماع مستشاري...   MSA  \n",
       "1  RT @AJABreaking: عاجل | آنييس كالامار: كان يمك...   MSA  \n",
       "2  RT @ajmidan: تزامنا مع #ورشة_البحرين الاقتصادي...   MSA  \n",
       "3  RT @AJABreaking: عاجل | كوشنر: القيادات الفلسط...   MSA  \n",
       "4  توقيع مذكرة تفاهم بين مكتب الأمم المتحدة لمكاف...   MSA  "
      ]
     },
     "metadata": {},
     "output_type": "display_data"
    },
    {
     "data": {
      "text/plain": [
       "(19376, 4)"
      ]
     },
     "execution_count": 20,
     "metadata": {},
     "output_type": "execute_result"
    }
   ],
   "source": [
    "msa['Label'] = 'MSA'\n",
    "display(msa.head())\n",
    "msa.shape"
   ]
  },
  {
   "cell_type": "markdown",
   "metadata": {},
   "source": [
    "<font color='MediumSeaGreen'> \n",
    "\n",
    "#### Dialects Combined"
   ]
  },
  {
   "cell_type": "code",
   "execution_count": 21,
   "metadata": {},
   "outputs": [
    {
     "data": {
      "text/plain": [
       "(104376, 4)"
      ]
     },
     "execution_count": 21,
     "metadata": {},
     "output_type": "execute_result"
    }
   ],
   "source": [
    "frames = [saudi,egypt,jordan,maroc,iraq,msa]\n",
    "df = pd.concat(frames)\n",
    "df.to_excel(\"All Arabic Dialect Tweets Labeled.xlsx\")\n",
    "df.shape"
   ]
  },
  {
   "cell_type": "markdown",
   "metadata": {},
   "source": [
    "<font color='MediumSeaGreen'> \n",
    "\n",
    "### Clean Tweets"
   ]
  },
  {
   "cell_type": "code",
   "execution_count": 22,
   "metadata": {},
   "outputs": [
    {
     "data": {
      "text/plain": [
       "Created At       0\n",
       "Location      5035\n",
       "Message          4\n",
       "Label            0\n",
       "dtype: int64"
      ]
     },
     "execution_count": 22,
     "metadata": {},
     "output_type": "execute_result"
    }
   ],
   "source": [
    "df.isna().sum()"
   ]
  },
  {
   "cell_type": "code",
   "execution_count": 23,
   "metadata": {
    "scrolled": true
   },
   "outputs": [],
   "source": [
    "df.dropna(subset=['Message'],inplace=True)"
   ]
  },
  {
   "cell_type": "code",
   "execution_count": 24,
   "metadata": {},
   "outputs": [
    {
     "data": {
      "text/plain": [
       "(104372, 4)"
      ]
     },
     "execution_count": 24,
     "metadata": {},
     "output_type": "execute_result"
    }
   ],
   "source": [
    "df.shape"
   ]
  },
  {
   "cell_type": "code",
   "execution_count": 25,
   "metadata": {},
   "outputs": [],
   "source": [
    "import re\n",
    "df['clean_tweet'] = df.Message.str.replace('[^\\w\\s#@/:%.,_-]', '', flags=re.UNICODE) #removes emojis\n",
    "df['clean_tweet'] = df.clean_tweet.str.replace('@[_A-Za-z0-9]+', '') #removes handles\n",
    "df['clean_tweet'] = df.clean_tweet.str.replace('RT', '') #removes rt\n",
    "df['clean_tweet'] = df.clean_tweet.str.replace('#',' ') #removes hashtag symbol only\n",
    "df['clean_tweet'] = df.clean_tweet.str.replace(r'http\\S+', '', regex=True).replace(r'www\\S+', '', regex=True) #removes links\n",
    "df['clean_tweet'] = df.clean_tweet.str.replace('\\d+', '') #removes numbers\n",
    "df['clean_tweet'] = df.clean_tweet.str.replace('\\n', ' ') #removes new line\n",
    "df['clean_tweet'] = df.clean_tweet.str.replace('_', '') #removes underscore\n",
    "df['clean_tweet'] = df.clean_tweet.str.replace('[^\\w\\s]','') #removes punctuation"
   ]
  },
  {
   "cell_type": "code",
   "execution_count": 26,
   "metadata": {},
   "outputs": [],
   "source": [
    "df1 = df.head(102000)"
   ]
  },
  {
   "cell_type": "code",
   "execution_count": 27,
   "metadata": {},
   "outputs": [
    {
     "data": {
      "text/plain": [
       "MSA          16.670588\n",
       "Saudi        16.666667\n",
       "Moroccan     16.666667\n",
       "Levantine    16.666667\n",
       "Iraqi        16.666667\n",
       "Egyptian     16.662745\n",
       "Name: Label, dtype: float64"
      ]
     },
     "execution_count": 27,
     "metadata": {},
     "output_type": "execute_result"
    }
   ],
   "source": [
    "df1.Label.value_counts(normalize=True)*100"
   ]
  },
  {
   "cell_type": "code",
   "execution_count": 28,
   "metadata": {
    "scrolled": false
   },
   "outputs": [
    {
     "data": {
      "text/html": [
       "<div>\n",
       "<style scoped>\n",
       "    .dataframe tbody tr th:only-of-type {\n",
       "        vertical-align: middle;\n",
       "    }\n",
       "\n",
       "    .dataframe tbody tr th {\n",
       "        vertical-align: top;\n",
       "    }\n",
       "\n",
       "    .dataframe thead th {\n",
       "        text-align: right;\n",
       "    }\n",
       "</style>\n",
       "<table border=\"1\" class=\"dataframe\">\n",
       "  <thead>\n",
       "    <tr style=\"text-align: right;\">\n",
       "      <th></th>\n",
       "      <th>Created At</th>\n",
       "      <th>Location</th>\n",
       "      <th>Message</th>\n",
       "      <th>Label</th>\n",
       "      <th>clean_tweet</th>\n",
       "    </tr>\n",
       "  </thead>\n",
       "  <tbody>\n",
       "    <tr>\n",
       "      <th>0</th>\n",
       "      <td>2019-06-24 12:43:22</td>\n",
       "      <td>المملكة العربية السعودية</td>\n",
       "      <td>@AJArabic باقي 22  دقيقه  يفتح  انجاز  بنحوله ...</td>\n",
       "      <td>Saudi</td>\n",
       "      <td>باقي   دقيقه  يفتح  انجاز  بنحوله  دولار  على...</td>\n",
       "    </tr>\n",
       "    <tr>\n",
       "      <th>1</th>\n",
       "      <td>2019-06-24 12:43:22</td>\n",
       "      <td>Riyadh</td>\n",
       "      <td>من رضي بالله ربا وبالإسلام دينا وبمحمد نبيا وج...</td>\n",
       "      <td>Saudi</td>\n",
       "      <td>من رضي بالله ربا وبالإسلام دينا وبمحمد نبيا وج...</td>\n",
       "    </tr>\n",
       "    <tr>\n",
       "      <th>2</th>\n",
       "      <td>2019-06-24 12:43:22</td>\n",
       "      <td>الرياض</td>\n",
       "      <td>المقابل #المالي #للإقامة_المميزة : https://t.c...</td>\n",
       "      <td>Saudi</td>\n",
       "      <td>المقابل  المالي  للإقامةالمميزة</td>\n",
       "    </tr>\n",
       "    <tr>\n",
       "      <th>3</th>\n",
       "      <td>2019-06-24 12:43:21</td>\n",
       "      <td>Saudi Arabia</td>\n",
       "      <td>من فرط الحب له ولعيونه احس ودي انو لي قلب ثاني...</td>\n",
       "      <td>Saudi</td>\n",
       "      <td>من فرط الحب له ولعيونه احس ودي انو لي قلب ثاني...</td>\n",
       "    </tr>\n",
       "    <tr>\n",
       "      <th>4</th>\n",
       "      <td>2019-06-24 12:43:21</td>\n",
       "      <td>الرياض</td>\n",
       "      <td>تعالو خاص 💸</td>\n",
       "      <td>Saudi</td>\n",
       "      <td>تعالو خاص</td>\n",
       "    </tr>\n",
       "  </tbody>\n",
       "</table>\n",
       "</div>"
      ],
      "text/plain": [
       "           Created At                  Location  \\\n",
       "0 2019-06-24 12:43:22  المملكة العربية السعودية   \n",
       "1 2019-06-24 12:43:22                    Riyadh   \n",
       "2 2019-06-24 12:43:22                    الرياض   \n",
       "3 2019-06-24 12:43:21              Saudi Arabia   \n",
       "4 2019-06-24 12:43:21                    الرياض   \n",
       "\n",
       "                                             Message  Label  \\\n",
       "0  @AJArabic باقي 22  دقيقه  يفتح  انجاز  بنحوله ...  Saudi   \n",
       "1  من رضي بالله ربا وبالإسلام دينا وبمحمد نبيا وج...  Saudi   \n",
       "2  المقابل #المالي #للإقامة_المميزة : https://t.c...  Saudi   \n",
       "3  من فرط الحب له ولعيونه احس ودي انو لي قلب ثاني...  Saudi   \n",
       "4                                        تعالو خاص 💸  Saudi   \n",
       "\n",
       "                                         clean_tweet  \n",
       "0   باقي   دقيقه  يفتح  انجاز  بنحوله  دولار  على...  \n",
       "1  من رضي بالله ربا وبالإسلام دينا وبمحمد نبيا وج...  \n",
       "2                  المقابل  المالي  للإقامةالمميزة    \n",
       "3  من فرط الحب له ولعيونه احس ودي انو لي قلب ثاني...  \n",
       "4                                         تعالو خاص   "
      ]
     },
     "metadata": {},
     "output_type": "display_data"
    },
    {
     "data": {
      "text/plain": [
       "(102000, 5)"
      ]
     },
     "metadata": {},
     "output_type": "display_data"
    }
   ],
   "source": [
    "display(df1.head())\n",
    "display(df1.shape)"
   ]
  },
  {
   "cell_type": "markdown",
   "metadata": {},
   "source": [
    "<font color='MediumSeaGreen'> \n",
    "\n",
    "#### Arabic stopwords"
   ]
  },
  {
   "cell_type": "code",
   "execution_count": 29,
   "metadata": {},
   "outputs": [
    {
     "name": "stderr",
     "output_type": "stream",
     "text": [
      "[nltk_data] Downloading package stopwords to /home/dog/nltk_data...\n",
      "[nltk_data]   Package stopwords is already up-to-date!\n"
     ]
    }
   ],
   "source": [
    "import nltk\n",
    "nltk.download(\"stopwords\") #arabic stopwords are not biult-in, so we find them by calling a set object\n",
    "arb_stopwords = set(nltk.corpus.stopwords.words(\"arabic\"))"
   ]
  },
  {
   "cell_type": "code",
   "execution_count": 30,
   "metadata": {},
   "outputs": [
    {
     "name": "stdout",
     "output_type": "stream",
     "text": [
      "{'تينك', 'هم', 'اللواتي', 'هي', 'بي', 'مذ', 'ولو', 'هيت', 'بل', 'هاته', 'لوما', 'هلا', 'هما', 'لكن', 'حين', 'إذ', 'نحن', 'لست', 'أولاء', 'ذواتا', 'هنا', 'نعم', 'هكذا', 'اللائي', 'ها', 'آها', 'وما', 'عند', 'بهم', 'أم', 'كلما', 'كأن', 'على', 'كلاهما', 'أنا', 'ليسوا', 'خلا', 'أنتما', 'لسنا', 'بمن', 'لنا', 'إليكن', 'هاهنا', 'حيثما', 'مما', 'كلا', 'فلا', 'كيفما', 'هناك', 'هيهات', 'ليس', 'إذما', 'ذلك', 'متى', 'بكن', 'ذا', 'حبذا', 'إذن', 'اللتان', 'حتى', 'كليكما', 'ذانك', 'اللذان', 'أنت', 'ما', 'ذات', 'سوى', 'بخ', 'بلى', 'لستم', 'ألا', 'فيه', 'ذواتي', 'آي', 'سوف', 'هاتي', 'إليكما', 'فمن', 'لكيلا', 'تلكما', 'فإذا', 'بك', 'بين', 'ذلكم', 'أكثر', 'بعض', 'ذين', 'ريث', 'كليهما', 'دون', 'لو', 'لئن', 'كأين', 'لا', 'أي', 'عدا', 'كلتا', 'بس', 'أينما', 'بكما', 'حاشا', 'أيها', 'ذه', 'عل', 'نحو', 'هنالك', 'فإن', 'وإذ', 'أنى', 'عما', 'ته', 'كل', 'لم', 'بماذا', 'بما', 'بيد', 'لدى', 'في', 'بنا', 'ماذا', 'هذي', 'هو', 'كأنما', 'لي', 'لسن', 'إنا', 'هذين', 'إما', 'هذا', 'إنه', 'ثمة', 'شتان', 'بعد', 'لعل', 'لن', 'أولئك', 'ذلكن', 'كي', 'كيت', 'ليستا', 'منذ', 'لك', 'والذي', 'إلى', 'فيما', 'أنتم', 'به', 'أما', 'ليت', 'بها', 'لهم', 'تي', 'تلكم', 'بهن', 'اللتين', 'مع', 'غير', 'إنما', 'هذان', 'بكم', 'هاتين', 'إلا', 'منها', 'إذا', 'أو', 'إليك', 'اللذين', 'حيث', 'لكما', 'لها', 'والذين', 'أف', 'عن', 'ذلكما', 'قد', 'مه', 'اللتيا', 'أن', 'ولا', 'ذي', 'هاك', 'آه', 'لكم', 'لكنما', 'وهو', 'عليك', 'لكي', 'هذه', 'ذينك', 'وإن', 'ذو', 'كيف', 'لاسيما', 'هل', 'لولا', 'أين', 'ذوا', 'التي', 'لهما', 'كذلك', 'ثم', 'من', 'عسى', 'هؤلاء', 'أنتن', 'بهما', 'ذاك', 'ليست', 'ممن', 'كم', 'هاتان', 'إي', 'تين', 'هن', 'هيا', 'لما', 'فيم', 'لستن', 'إليكم', 'تلك', 'كما', 'عليه', 'إيه', 'الذين', 'لهن', 'يا', 'الذي', 'وإذا', 'إن', 'أقل', 'كذا', 'له', 'ليسا', 'ولكن', 'ومن', 'مهما', 'لستما', 'أوه', 'منه', 'كأي', 'اللاتي', 'ذان', 'فيها'}\n"
     ]
    }
   ],
   "source": [
    "print(arb_stopwords)"
   ]
  },
  {
   "cell_type": "code",
   "execution_count": 31,
   "metadata": {},
   "outputs": [],
   "source": [
    "def delete_stop_words(mess):\n",
    "    \n",
    "    stop_words = set(nltk.corpus.stopwords.words(\"arabic\"))\n",
    "    \n",
    "    return ' '.join(word for word in mess.split() if word not in stop_words and len(word)>1)"
   ]
  },
  {
   "cell_type": "code",
   "execution_count": 32,
   "metadata": {},
   "outputs": [],
   "source": [
    "df1['clean_tweet'] = df1['clean_tweet'].apply(delete_stop_words)"
   ]
  },
  {
   "cell_type": "markdown",
   "metadata": {},
   "source": [
    "<font color='MediumSeaGreen'> \n",
    "\n",
    "# Dialect Detection with Machine Learning"
   ]
  },
  {
   "cell_type": "code",
   "execution_count": 33,
   "metadata": {},
   "outputs": [
    {
     "data": {
      "text/html": [
       "<div>\n",
       "<style scoped>\n",
       "    .dataframe tbody tr th:only-of-type {\n",
       "        vertical-align: middle;\n",
       "    }\n",
       "\n",
       "    .dataframe tbody tr th {\n",
       "        vertical-align: top;\n",
       "    }\n",
       "\n",
       "    .dataframe thead th {\n",
       "        text-align: right;\n",
       "    }\n",
       "</style>\n",
       "<table border=\"1\" class=\"dataframe\">\n",
       "  <thead>\n",
       "    <tr style=\"text-align: right;\">\n",
       "      <th></th>\n",
       "      <th>Created At</th>\n",
       "      <th>Location</th>\n",
       "      <th>Message</th>\n",
       "      <th>Label</th>\n",
       "      <th>clean_tweet</th>\n",
       "    </tr>\n",
       "  </thead>\n",
       "  <tbody>\n",
       "    <tr>\n",
       "      <th>0</th>\n",
       "      <td>2019-06-24 12:43:22</td>\n",
       "      <td>المملكة العربية السعودية</td>\n",
       "      <td>@AJArabic باقي 22  دقيقه  يفتح  انجاز  بنحوله ...</td>\n",
       "      <td>Saudi</td>\n",
       "      <td>باقي دقيقه يفتح انجاز بنحوله دولار بنك انقره و...</td>\n",
       "    </tr>\n",
       "    <tr>\n",
       "      <th>1</th>\n",
       "      <td>2019-06-24 12:43:22</td>\n",
       "      <td>Riyadh</td>\n",
       "      <td>من رضي بالله ربا وبالإسلام دينا وبمحمد نبيا وج...</td>\n",
       "      <td>Saudi</td>\n",
       "      <td>رضي بالله ربا وبالإسلام دينا وبمحمد نبيا وجبت ...</td>\n",
       "    </tr>\n",
       "    <tr>\n",
       "      <th>2</th>\n",
       "      <td>2019-06-24 12:43:22</td>\n",
       "      <td>الرياض</td>\n",
       "      <td>المقابل #المالي #للإقامة_المميزة : https://t.c...</td>\n",
       "      <td>Saudi</td>\n",
       "      <td>المقابل المالي للإقامةالمميزة</td>\n",
       "    </tr>\n",
       "    <tr>\n",
       "      <th>3</th>\n",
       "      <td>2019-06-24 12:43:21</td>\n",
       "      <td>Saudi Arabia</td>\n",
       "      <td>من فرط الحب له ولعيونه احس ودي انو لي قلب ثاني...</td>\n",
       "      <td>Saudi</td>\n",
       "      <td>فرط الحب ولعيونه احس ودي انو قلب ثاني احبه ماي...</td>\n",
       "    </tr>\n",
       "    <tr>\n",
       "      <th>4</th>\n",
       "      <td>2019-06-24 12:43:21</td>\n",
       "      <td>الرياض</td>\n",
       "      <td>تعالو خاص 💸</td>\n",
       "      <td>Saudi</td>\n",
       "      <td>تعالو خاص</td>\n",
       "    </tr>\n",
       "  </tbody>\n",
       "</table>\n",
       "</div>"
      ],
      "text/plain": [
       "           Created At                  Location  \\\n",
       "0 2019-06-24 12:43:22  المملكة العربية السعودية   \n",
       "1 2019-06-24 12:43:22                    Riyadh   \n",
       "2 2019-06-24 12:43:22                    الرياض   \n",
       "3 2019-06-24 12:43:21              Saudi Arabia   \n",
       "4 2019-06-24 12:43:21                    الرياض   \n",
       "\n",
       "                                             Message  Label  \\\n",
       "0  @AJArabic باقي 22  دقيقه  يفتح  انجاز  بنحوله ...  Saudi   \n",
       "1  من رضي بالله ربا وبالإسلام دينا وبمحمد نبيا وج...  Saudi   \n",
       "2  المقابل #المالي #للإقامة_المميزة : https://t.c...  Saudi   \n",
       "3  من فرط الحب له ولعيونه احس ودي انو لي قلب ثاني...  Saudi   \n",
       "4                                        تعالو خاص 💸  Saudi   \n",
       "\n",
       "                                         clean_tweet  \n",
       "0  باقي دقيقه يفتح انجاز بنحوله دولار بنك انقره و...  \n",
       "1  رضي بالله ربا وبالإسلام دينا وبمحمد نبيا وجبت ...  \n",
       "2                      المقابل المالي للإقامةالمميزة  \n",
       "3  فرط الحب ولعيونه احس ودي انو قلب ثاني احبه ماي...  \n",
       "4                                          تعالو خاص  "
      ]
     },
     "execution_count": 33,
     "metadata": {},
     "output_type": "execute_result"
    }
   ],
   "source": [
    "df1.head()"
   ]
  },
  {
   "cell_type": "markdown",
   "metadata": {},
   "source": [
    "<font color='MediumSeaGreen'> \n",
    "\n",
    "### Convert Text to Numerical Features"
   ]
  },
  {
   "cell_type": "code",
   "execution_count": 67,
   "metadata": {},
   "outputs": [],
   "source": [
    "from sklearn.model_selection import train_test_split\n",
    "\n",
    "data = df['clean_tweet'].astype(str)\n",
    "target = df['Label'].astype('category')\n",
    "\n",
    "# Split dataset into training set and test set before feature extraction\n",
    "X_train, X_test, y_train, y_test = train_test_split(data,target, test_size=0.4,random_state=109, shuffle=True) \n",
    "# 60% training and 40% test"
   ]
  },
  {
   "cell_type": "code",
   "execution_count": 68,
   "metadata": {
    "scrolled": true
   },
   "outputs": [
    {
     "data": {
      "text/plain": [
       "(62623, 87880)"
      ]
     },
     "execution_count": 68,
     "metadata": {},
     "output_type": "execute_result"
    }
   ],
   "source": [
    "#feature extractin starts with counting the unique features\n",
    "from sklearn.feature_extraction.text import CountVectorizer\n",
    "count_vect = CountVectorizer()\n",
    "X_train_counts = count_vect.fit_transform(X_train)\n",
    "X_train_counts.shape"
   ]
  },
  {
   "cell_type": "code",
   "execution_count": 69,
   "metadata": {},
   "outputs": [
    {
     "data": {
      "text/plain": [
       "(62623, 87880)"
      ]
     },
     "execution_count": 69,
     "metadata": {},
     "output_type": "execute_result"
    }
   ],
   "source": [
    "#then transforms the features\n",
    "from sklearn.feature_extraction.text import TfidfTransformer\n",
    "tf_transformer = TfidfTransformer(use_idf=False).fit(X_train_counts)\n",
    "X_train_tf = tf_transformer.transform(X_train_counts)\n",
    "X_train_tf.shape"
   ]
  },
  {
   "cell_type": "code",
   "execution_count": 70,
   "metadata": {},
   "outputs": [
    {
     "data": {
      "text/plain": [
       "(62623, 87880)"
      ]
     },
     "execution_count": 70,
     "metadata": {},
     "output_type": "execute_result"
    }
   ],
   "source": [
    "tfidf_transformer = TfidfTransformer()\n",
    "X_train_tfidf = tfidf_transformer.fit_transform(X_train_counts)\n",
    "X_train_tfidf.shape"
   ]
  },
  {
   "cell_type": "code",
   "execution_count": 71,
   "metadata": {},
   "outputs": [
    {
     "data": {
      "text/plain": [
       "(62623, 87880)"
      ]
     },
     "execution_count": 71,
     "metadata": {},
     "output_type": "execute_result"
    }
   ],
   "source": [
    "from sklearn.feature_extraction.text import TfidfVectorizer\n",
    "tfidf = TfidfVectorizer(sublinear_tf=True, min_df=5, norm='l2', ngram_range=(1, 2))\n",
    "\n",
    "features = X_train_tfidf\n",
    "labels = y_train\n",
    "features.shape"
   ]
  },
  {
   "cell_type": "markdown",
   "metadata": {},
   "source": [
    "<font color='MediumSeaGreen'> \n",
    "\n",
    "### Model Comparison"
   ]
  },
  {
   "cell_type": "code",
   "execution_count": 41,
   "metadata": {},
   "outputs": [],
   "source": [
    "import numpy as np\n",
    "from sklearn import metrics\n",
    "from sklearn.pipeline import Pipeline\n",
    "from sklearn.svm import LinearSVC\n",
    "from sklearn.linear_model import SGDClassifier\n",
    "from sklearn.naive_bayes import MultinomialNB\n",
    "from sklearn.naive_bayes import BernoulliNB\n",
    "from sklearn.linear_model import LogisticRegression\n",
    "from sklearn.ensemble import RandomForestClassifier"
   ]
  },
  {
   "cell_type": "code",
   "execution_count": 58,
   "metadata": {
    "scrolled": false
   },
   "outputs": [],
   "source": [
    "import matplotlib as plt\n",
    "from sklearn.model_selection import cross_val_score\n",
    "\n",
    "models = [\n",
    "    LinearSVC(random_state=0, tol=1e-5),\n",
    "    SGDClassifier(loss='hinge', penalty='l2',\n",
    "                                           alpha=1e-3, random_state=109,\n",
    "                                           max_iter=5, tol=None,shuffle=True),\n",
    "    MultinomialNB(),\n",
    "    BernoulliNB(alpha=1.0, binarize=0.0, class_prior=None, fit_prior=True),\n",
    "    LogisticRegression(random_state=0, solver='lbfgs',multi_class='multinomial'),\n",
    "    RandomForestClassifier(n_estimators=100, max_depth=2, random_state=0)\n",
    "]\n",
    "\n",
    "CV = 5\n",
    "cv_df = pd.DataFrame(index=range(CV * len(models)))\n",
    "entries = []\n",
    "for model in models:\n",
    "    model_name = model.__class__.__name__\n",
    "    accuracies = cross_val_score(model, features, labels, scoring='accuracy', cv=CV)\n",
    "    for fold_idx, accuracy in enumerate(accuracies):\n",
    "        entries.append((model_name, fold_idx, accuracy))\n",
    "\n",
    "cv_df = pd.DataFrame(entries, columns=['model_name', 'fold_idx', 'accuracy'])"
   ]
  },
  {
   "cell_type": "code",
   "execution_count": 59,
   "metadata": {},
   "outputs": [
    {
     "data": {
      "text/plain": [
       "model_name\n",
       "BernoulliNB               0.707759\n",
       "LinearSVC                 0.766140\n",
       "LogisticRegression        0.725724\n",
       "MultinomialNB             0.718841\n",
       "RandomForestClassifier    0.189946\n",
       "SGDClassifier             0.659662\n",
       "Name: accuracy, dtype: float64"
      ]
     },
     "execution_count": 59,
     "metadata": {},
     "output_type": "execute_result"
    }
   ],
   "source": [
    "cv_df.groupby('model_name').accuracy.mean()"
   ]
  },
  {
   "cell_type": "code",
   "execution_count": 60,
   "metadata": {},
   "outputs": [
    {
     "data": {
      "image/png": "[encoded data removed]",
      "text/plain": [
       "<Figure size 1512x1080 with 1 Axes>"
      ]
     },
     "metadata": {},
     "output_type": "display_data"
    }
   ],
   "source": [
    "import seaborn as sns\n",
    "\n",
    "sns.boxplot(x='model_name', y='accuracy', data=cv_df)\n",
    "sns.stripplot(x='model_name', y='accuracy', data=cv_df, \n",
    "              size=12, jitter=True, edgecolor=\"gray\", linewidth=2)\n",
    "sns.set(rc={'figure.figsize':(21,15)})"
   ]
  },
  {
   "cell_type": "markdown",
   "metadata": {},
   "source": [
    "Plot Citation:\n",
    "- https://towardsdatascience.com/multi-class-text-classification-with-scikit-learn-12f1e60e0a9f"
   ]
  },
  {
   "cell_type": "markdown",
   "metadata": {},
   "source": [
    "<font color='MediumSeaGreen'> \n",
    "\n",
    "### Model Selection and Evaluation - Linear SVC"
   ]
  },
  {
   "cell_type": "code",
   "execution_count": 72,
   "metadata": {},
   "outputs": [],
   "source": [
    "import matplotlib.pyplot as plt\n",
    "from sklearn.svm import LinearSVC\n",
    "model = Pipeline([('vect', CountVectorizer()),\n",
    "                     ('tfidf', TfidfTransformer()),\n",
    "                     ('clf', LinearSVC(random_state=0, tol=1e-5)),\n",
    "                    ])\n",
    "\n",
    "model.fit(X_train, y_train)\n",
    "\n",
    "y_pred = model.predict(X_test)"
   ]
  },
  {
   "cell_type": "code",
   "execution_count": 62,
   "metadata": {},
   "outputs": [
    {
     "name": "stdout",
     "output_type": "stream",
     "text": [
      "categories: Index(['Egyptian', 'Iraqi', 'Levantine', 'MSA', 'Moroccan', 'Saudi'], dtype='object')\n"
     ]
    }
   ],
   "source": [
    "target = df1['Label'].astype('category')\n",
    "print('categories: {}'.format(target.cat.categories))"
   ]
  },
  {
   "cell_type": "code",
   "execution_count": 63,
   "metadata": {},
   "outputs": [
    {
     "name": "stdout",
     "output_type": "stream",
     "text": [
      "              precision    recall  f1-score   support\n",
      "\n",
      "    Egyptian       0.70      0.58      0.63      6770\n",
      "       Iraqi       0.79      0.88      0.83      6763\n",
      "   Levantine       0.72      0.71      0.71      6714\n",
      "         MSA       0.92      0.97      0.94      7745\n",
      "    Moroccan       0.86      0.95      0.90      6895\n",
      "       Saudi       0.66      0.61      0.63      6862\n",
      "\n",
      "   micro avg       0.79      0.79      0.79     41749\n",
      "   macro avg       0.78      0.78      0.78     41749\n",
      "weighted avg       0.78      0.79      0.78     41749\n",
      "\n"
     ]
    }
   ],
   "source": [
    "from sklearn import metrics\n",
    "print(metrics.classification_report(y_test, y_pred,target_names=target.cat.categories))"
   ]
  },
  {
   "cell_type": "code",
   "execution_count": 64,
   "metadata": {},
   "outputs": [
    {
     "data": {
      "image/png": "[encoded data removed]",
      "text/plain": [
       "<Figure size 720x720 with 2 Axes>"
      ]
     },
     "metadata": {},
     "output_type": "display_data"
    }
   ],
   "source": [
    "from sklearn.metrics import confusion_matrix\n",
    "conf_mat = confusion_matrix(y_test, y_pred)\n",
    "fig, ax = plt.subplots(figsize=(10,10))\n",
    "sns.heatmap(conf_mat, annot=True, fmt='d',\n",
    "            xticklabels=target.cat.categories, yticklabels=target.cat.categories)\n",
    "plt.ylabel('Actual')\n",
    "plt.xlabel('Predicted')\n",
    "plt.show()"
   ]
  },
  {
   "cell_type": "code",
   "execution_count": 73,
   "metadata": {},
   "outputs": [
    {
     "data": {
      "text/plain": [
       "array([0.76992719, 0.81723675, 0.81704513, 0.82059021, 0.74834723])"
      ]
     },
     "execution_count": 73,
     "metadata": {},
     "output_type": "execute_result"
    }
   ],
   "source": [
    "from sklearn.model_selection import cross_val_score\n",
    "X, y = data, target\n",
    "scores = cross_val_score(model, X, y, cv=5)\n",
    "scores"
   ]
  },
  {
   "cell_type": "code",
   "execution_count": 74,
   "metadata": {},
   "outputs": [
    {
     "name": "stdout",
     "output_type": "stream",
     "text": [
      "Accuracy: 0.79 (+/- 0.06)\n"
     ]
    }
   ],
   "source": [
    "print(\"Accuracy: %0.2f (+/- %0.2f)\" % (scores.mean(), scores.std() * 2))"
   ]
  },
  {
   "cell_type": "code",
   "execution_count": 84,
   "metadata": {},
   "outputs": [
    {
     "data": {
      "text/plain": [
       "array([0.63253256, 0.83302856, 0.71441428, 0.94216852, 0.90204476,\n",
       "       0.63423123])"
      ]
     },
     "execution_count": 84,
     "metadata": {},
     "output_type": "execute_result"
    }
   ],
   "source": [
    "from sklearn.metrics import f1_score\n",
    "f1_score(y_test, y_pred, average=None)"
   ]
  },
  {
   "cell_type": "markdown",
   "metadata": {},
   "source": [
    "<font color='MediumSeaGreen'> \n",
    "\n",
    "#### Save model for future use"
   ]
  },
  {
   "cell_type": "code",
   "execution_count": 85,
   "metadata": {},
   "outputs": [],
   "source": [
    "import pickle\n",
    "s = pickle.dumps(model)"
   ]
  },
  {
   "cell_type": "code",
   "execution_count": 87,
   "metadata": {},
   "outputs": [
    {
     "data": {
      "text/plain": [
       "['ArabicDialects.joblib']"
      ]
     },
     "execution_count": 87,
     "metadata": {},
     "output_type": "execute_result"
    }
   ],
   "source": [
    "from joblib import dump, load\n",
    "dump(model, 'ArabicDialects.joblib')"
   ]
  },
  {
   "cell_type": "code",
   "execution_count": null,
   "metadata": {},
   "outputs": [],
   "source": [
    "text_clf = load('ArabicDialects.joblib')"
   ]
  }
 ],
 "metadata": {
  "kernelspec": {
   "display_name": "Python (myENV)",
   "language": "python",
   "name": "myenv"
  },
  "language_info": {
   "codemirror_mode": {
    "name": "ipython",
    "version": 3
   },
   "file_extension": ".py",
   "mimetype": "text/x-python",
   "name": "python",
   "nbconvert_exporter": "python",
   "pygments_lexer": "ipython3",
   "version": "3.5.2"
  }
 },
 "nbformat": 4,
 "nbformat_minor": 2
}
