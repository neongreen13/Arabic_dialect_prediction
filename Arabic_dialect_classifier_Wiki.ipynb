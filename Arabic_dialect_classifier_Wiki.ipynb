{
 "cells": [
  {
   "cell_type": "markdown",
   "metadata": {},
   "source": [
    "<font color='MediumSeaGreen'> \n",
    "    \n",
    "# Build a Machine Learning Classifier to Detect Arabic Dialects on New Text"
   ]
  },
  {
   "cell_type": "markdown",
   "metadata": {},
   "source": [
    "Steps:\n",
    "1. Download a structured dataset from Kaggle with the Egyptian and Modern Standard Arabic dialects already labeled, scrapped from Wikipedia articles in the two dialects\n",
    "2. Select and evaluate the best machine learning model to analyze Arabic text\n",
    "3. Deploy model on new tweets in Arabic"
   ]
  },
  {
   "cell_type": "markdown",
   "metadata": {},
   "source": [
    "<font color='MediumSeaGreen'> \n",
    "\n",
    "### Arabic - Egyptian Corpus"
   ]
  },
  {
   "cell_type": "markdown",
   "metadata": {},
   "source": [
    "Dataset Citation: Kaggle, Arabic - Egyptian comparable Wikipedia corpus\n",
    "- https://www.kaggle.com/mksaad/arb-egy-cmp-corpus"
   ]
  },
  {
   "cell_type": "code",
   "execution_count": 49,
   "metadata": {},
   "outputs": [],
   "source": [
    "#import json dataset and create pandas dataframe\n",
    "import pandas as pd\n",
    "import json   \n",
    "\n",
    "lines = open('ar_arz_wiki_corpus.json').readlines()"
   ]
  },
  {
   "cell_type": "code",
   "execution_count": 50,
   "metadata": {},
   "outputs": [],
   "source": [
    "df = pd.DataFrame(json.loads(line) for line in lines) #convert json to df"
   ]
  },
  {
   "cell_type": "code",
   "execution_count": 51,
   "metadata": {},
   "outputs": [
    {
     "data": {
      "text/html": [
       "<div>\n",
       "<style scoped>\n",
       "    .dataframe tbody tr th:only-of-type {\n",
       "        vertical-align: middle;\n",
       "    }\n",
       "\n",
       "    .dataframe tbody tr th {\n",
       "        vertical-align: top;\n",
       "    }\n",
       "\n",
       "    .dataframe thead th {\n",
       "        text-align: right;\n",
       "    }\n",
       "</style>\n",
       "<table border=\"1\" class=\"dataframe\">\n",
       "  <thead>\n",
       "    <tr style=\"text-align: right;\">\n",
       "      <th></th>\n",
       "      <th>filename</th>\n",
       "      <th>label</th>\n",
       "      <th>text</th>\n",
       "    </tr>\n",
       "  </thead>\n",
       "  <tbody>\n",
       "    <tr>\n",
       "      <th>0</th>\n",
       "      <td>doc_007757.txt</td>\n",
       "      <td>ar</td>\n",
       "      <td>أبريل\\nأبريل أو نيسان أو يوم اليوم الثاني من ا...</td>\n",
       "    </tr>\n",
       "    <tr>\n",
       "      <th>1</th>\n",
       "      <td>doc_009856.txt</td>\n",
       "      <td>ar</td>\n",
       "      <td>السيرابيوم\\nالسيرابيوم هو اسم يطلق على كل معبد...</td>\n",
       "    </tr>\n",
       "    <tr>\n",
       "      <th>2</th>\n",
       "      <td>doc_002548.txt</td>\n",
       "      <td>ar</td>\n",
       "      <td>أبريل\\nأبريل أو نيسان أو يوم اليوم السابع من ا...</td>\n",
       "    </tr>\n",
       "    <tr>\n",
       "      <th>3</th>\n",
       "      <td>doc_001469.txt</td>\n",
       "      <td>ar</td>\n",
       "      <td>الأحزاب السياسية في جنوب السودان\\nهذه الصفحة ه...</td>\n",
       "    </tr>\n",
       "    <tr>\n",
       "      <th>4</th>\n",
       "      <td>doc_007734.txt</td>\n",
       "      <td>ar</td>\n",
       "      <td>قصر بعبدا\\nقصر بعبدا بالانجليزية هو مقر الرئاس...</td>\n",
       "    </tr>\n",
       "  </tbody>\n",
       "</table>\n",
       "</div>"
      ],
      "text/plain": [
       "         filename label                                               text\n",
       "0  doc_007757.txt    ar  أبريل\\nأبريل أو نيسان أو يوم اليوم الثاني من ا...\n",
       "1  doc_009856.txt    ar  السيرابيوم\\nالسيرابيوم هو اسم يطلق على كل معبد...\n",
       "2  doc_002548.txt    ar  أبريل\\nأبريل أو نيسان أو يوم اليوم السابع من ا...\n",
       "3  doc_001469.txt    ar  الأحزاب السياسية في جنوب السودان\\nهذه الصفحة ه...\n",
       "4  doc_007734.txt    ar  قصر بعبدا\\nقصر بعبدا بالانجليزية هو مقر الرئاس..."
      ]
     },
     "metadata": {},
     "output_type": "display_data"
    },
    {
     "data": {
      "text/html": [
       "<div>\n",
       "<style scoped>\n",
       "    .dataframe tbody tr th:only-of-type {\n",
       "        vertical-align: middle;\n",
       "    }\n",
       "\n",
       "    .dataframe tbody tr th {\n",
       "        vertical-align: top;\n",
       "    }\n",
       "\n",
       "    .dataframe thead th {\n",
       "        text-align: right;\n",
       "    }\n",
       "</style>\n",
       "<table border=\"1\" class=\"dataframe\">\n",
       "  <thead>\n",
       "    <tr style=\"text-align: right;\">\n",
       "      <th></th>\n",
       "      <th>filename</th>\n",
       "      <th>label</th>\n",
       "      <th>text</th>\n",
       "    </tr>\n",
       "  </thead>\n",
       "  <tbody>\n",
       "    <tr>\n",
       "      <th>18858</th>\n",
       "      <td>doc_005163.txt</td>\n",
       "      <td>arz</td>\n",
       "      <td>البشير وكين\\nالبشير وكين ممثل مغربي اتولد بمدي...</td>\n",
       "    </tr>\n",
       "    <tr>\n",
       "      <th>18859</th>\n",
       "      <td>doc_000519.txt</td>\n",
       "      <td>arz</td>\n",
       "      <td>القديس سيركيوس\\nالقديس سيركيوس هو البابا التما...</td>\n",
       "    </tr>\n",
       "    <tr>\n",
       "      <th>18860</th>\n",
       "      <td>doc_006282.txt</td>\n",
       "      <td>arz</td>\n",
       "      <td>اشرف بنيامين\\nأشرف بنيامين القاهرة هو مايسترو ...</td>\n",
       "    </tr>\n",
       "    <tr>\n",
       "      <th>18861</th>\n",
       "      <td>doc_003537.txt</td>\n",
       "      <td>arz</td>\n",
       "      <td>اغسطس\\nاغسطس هو اليوم فى السنة الكبيسة من ايام...</td>\n",
       "    </tr>\n",
       "    <tr>\n",
       "      <th>18862</th>\n",
       "      <td>doc_008546.txt</td>\n",
       "      <td>arz</td>\n",
       "      <td>وسط بيروت\\nوسط بيروت هى منطقة فى العاصمة اللبن...</td>\n",
       "    </tr>\n",
       "  </tbody>\n",
       "</table>\n",
       "</div>"
      ],
      "text/plain": [
       "             filename label                                               text\n",
       "18858  doc_005163.txt   arz  البشير وكين\\nالبشير وكين ممثل مغربي اتولد بمدي...\n",
       "18859  doc_000519.txt   arz  القديس سيركيوس\\nالقديس سيركيوس هو البابا التما...\n",
       "18860  doc_006282.txt   arz  اشرف بنيامين\\nأشرف بنيامين القاهرة هو مايسترو ...\n",
       "18861  doc_003537.txt   arz  اغسطس\\nاغسطس هو اليوم فى السنة الكبيسة من ايام...\n",
       "18862  doc_008546.txt   arz  وسط بيروت\\nوسط بيروت هى منطقة فى العاصمة اللبن..."
      ]
     },
     "metadata": {},
     "output_type": "display_data"
    },
    {
     "data": {
      "text/plain": [
       "(18863, 3)"
      ]
     },
     "metadata": {},
     "output_type": "display_data"
    }
   ],
   "source": [
    "display(df.head())\n",
    "display(df.tail())\n",
    "display(df.shape)"
   ]
  },
  {
   "cell_type": "markdown",
   "metadata": {},
   "source": [
    "<font color='MediumSeaGreen'> \n",
    "\n",
    "### Preprocess Text"
   ]
  },
  {
   "cell_type": "markdown",
   "metadata": {},
   "source": [
    "We keep the text preprocessing fairly simple. It inlcudes removing punctuation, new line HTML makrs, and numbers. These were downloaded from scraping Wikipedia and no other text processing is necessary at this point, which maintains the integrity of the text data."
   ]
  },
  {
   "cell_type": "code",
   "execution_count": 52,
   "metadata": {},
   "outputs": [],
   "source": [
    "import re\n",
    "from unidecode import unidecode\n",
    "\n",
    "def pre_process(column):\n",
    "    \n",
    "    column = re.sub('[^\\w\\s]','', column) #removes punctuation\n",
    "    column = re.sub('\\n', ' ', column) #removes new line\n",
    "    column = re.sub('\\d+', ' ', column) #removes numbers\n",
    "    #column = column.strip().strip('\"').strip(\"'\").lower().strip()\n",
    "    \n",
    "    if not column:\n",
    "        column = None\n",
    "    return column"
   ]
  },
  {
   "cell_type": "code",
   "execution_count": 53,
   "metadata": {},
   "outputs": [],
   "source": [
    "df['text_clean'] = df['text'].apply(pre_process)"
   ]
  },
  {
   "cell_type": "code",
   "execution_count": 54,
   "metadata": {
    "scrolled": false
   },
   "outputs": [
    {
     "data": {
      "text/html": [
       "<div>\n",
       "<style scoped>\n",
       "    .dataframe tbody tr th:only-of-type {\n",
       "        vertical-align: middle;\n",
       "    }\n",
       "\n",
       "    .dataframe tbody tr th {\n",
       "        vertical-align: top;\n",
       "    }\n",
       "\n",
       "    .dataframe thead th {\n",
       "        text-align: right;\n",
       "    }\n",
       "</style>\n",
       "<table border=\"1\" class=\"dataframe\">\n",
       "  <thead>\n",
       "    <tr style=\"text-align: right;\">\n",
       "      <th></th>\n",
       "      <th>filename</th>\n",
       "      <th>label</th>\n",
       "      <th>text</th>\n",
       "      <th>text_clean</th>\n",
       "    </tr>\n",
       "  </thead>\n",
       "  <tbody>\n",
       "    <tr>\n",
       "      <th>0</th>\n",
       "      <td>doc_007757.txt</td>\n",
       "      <td>ar</td>\n",
       "      <td>أبريل\\nأبريل أو نيسان أو يوم اليوم الثاني من ا...</td>\n",
       "      <td>أبريل أبريل أو نيسان أو يوم اليوم الثاني من ال...</td>\n",
       "    </tr>\n",
       "    <tr>\n",
       "      <th>1</th>\n",
       "      <td>doc_009856.txt</td>\n",
       "      <td>ar</td>\n",
       "      <td>السيرابيوم\\nالسيرابيوم هو اسم يطلق على كل معبد...</td>\n",
       "      <td>السيرابيوم السيرابيوم هو اسم يطلق على كل معبد ...</td>\n",
       "    </tr>\n",
       "    <tr>\n",
       "      <th>2</th>\n",
       "      <td>doc_002548.txt</td>\n",
       "      <td>ar</td>\n",
       "      <td>أبريل\\nأبريل أو نيسان أو يوم اليوم السابع من ا...</td>\n",
       "      <td>أبريل أبريل أو نيسان أو يوم اليوم السابع من ال...</td>\n",
       "    </tr>\n",
       "    <tr>\n",
       "      <th>3</th>\n",
       "      <td>doc_001469.txt</td>\n",
       "      <td>ar</td>\n",
       "      <td>الأحزاب السياسية في جنوب السودان\\nهذه الصفحة ه...</td>\n",
       "      <td>الأحزاب السياسية في جنوب السودان هذه الصفحة هي...</td>\n",
       "    </tr>\n",
       "    <tr>\n",
       "      <th>4</th>\n",
       "      <td>doc_007734.txt</td>\n",
       "      <td>ar</td>\n",
       "      <td>قصر بعبدا\\nقصر بعبدا بالانجليزية هو مقر الرئاس...</td>\n",
       "      <td>قصر بعبدا قصر بعبدا بالانجليزية هو مقر الرئاسة...</td>\n",
       "    </tr>\n",
       "  </tbody>\n",
       "</table>\n",
       "</div>"
      ],
      "text/plain": [
       "         filename label                                               text  \\\n",
       "0  doc_007757.txt    ar  أبريل\\nأبريل أو نيسان أو يوم اليوم الثاني من ا...   \n",
       "1  doc_009856.txt    ar  السيرابيوم\\nالسيرابيوم هو اسم يطلق على كل معبد...   \n",
       "2  doc_002548.txt    ar  أبريل\\nأبريل أو نيسان أو يوم اليوم السابع من ا...   \n",
       "3  doc_001469.txt    ar  الأحزاب السياسية في جنوب السودان\\nهذه الصفحة ه...   \n",
       "4  doc_007734.txt    ar  قصر بعبدا\\nقصر بعبدا بالانجليزية هو مقر الرئاس...   \n",
       "\n",
       "                                          text_clean  \n",
       "0  أبريل أبريل أو نيسان أو يوم اليوم الثاني من ال...  \n",
       "1  السيرابيوم السيرابيوم هو اسم يطلق على كل معبد ...  \n",
       "2  أبريل أبريل أو نيسان أو يوم اليوم السابع من ال...  \n",
       "3  الأحزاب السياسية في جنوب السودان هذه الصفحة هي...  \n",
       "4  قصر بعبدا قصر بعبدا بالانجليزية هو مقر الرئاسة...  "
      ]
     },
     "metadata": {},
     "output_type": "display_data"
    },
    {
     "data": {
      "text/plain": [
       "(18863, 4)"
      ]
     },
     "metadata": {},
     "output_type": "display_data"
    }
   ],
   "source": [
    "display(df.head())\n",
    "display(df.shape)"
   ]
  },
  {
   "cell_type": "markdown",
   "metadata": {},
   "source": [
    "<font color='MediumSeaGreen'> \n",
    "\n",
    "### Exploratory Data Analysis on Text"
   ]
  },
  {
   "cell_type": "code",
   "execution_count": 7,
   "metadata": {},
   "outputs": [
    {
     "data": {
      "text/plain": [
       "ar     51.619573\n",
       "arz    48.380427\n",
       "Name: label, dtype: float64"
      ]
     },
     "execution_count": 7,
     "metadata": {},
     "output_type": "execute_result"
    }
   ],
   "source": [
    "df.label.value_counts(normalize=True)*100"
   ]
  },
  {
   "cell_type": "markdown",
   "metadata": {},
   "source": [
    "Checking the balance within the dataset between the classification of the two dialects. Fortunatley it is a 51.61% to 48.38 split, so it is fairly balanced and no futher work on the distribution of the classes is necessary at this point."
   ]
  },
  {
   "cell_type": "markdown",
   "metadata": {},
   "source": [
    "<font color='MediumSeaGreen'> \n",
    "\n",
    "#### Arabic stopwords"
   ]
  },
  {
   "cell_type": "code",
   "execution_count": 55,
   "metadata": {},
   "outputs": [
    {
     "name": "stderr",
     "output_type": "stream",
     "text": [
      "[nltk_data] Downloading package stopwords to /home/dog/nltk_data...\n",
      "[nltk_data]   Package stopwords is already up-to-date!\n"
     ]
    }
   ],
   "source": [
    "import nltk\n",
    "nltk.download(\"stopwords\") #arabic stopwords are not biult-in, so we find them by calling a set object\n",
    "arb_stopwords = set(nltk.corpus.stopwords.words(\"arabic\"))"
   ]
  },
  {
   "cell_type": "code",
   "execution_count": 56,
   "metadata": {},
   "outputs": [
    {
     "name": "stdout",
     "output_type": "stream",
     "text": [
      "{'عليه', 'لسنا', 'هنالك', 'هؤلاء', 'أنت', 'هاتين', 'منه', 'أن', 'اللذين', 'بلى', 'لكنما', 'ذات', 'لو', 'لم', 'مهما', 'بماذا', 'ذواتي', 'اللاتي', 'أو', 'كلا', 'لعل', 'ليسوا', 'والذي', 'أولاء', 'كل', 'كلما', 'تين', 'ته', 'عل', 'تلكم', 'ذواتا', 'لكي', 'كأنما', 'أقل', 'أنتما', 'بهم', 'تينك', 'كما', 'لكم', 'كيت', 'ذاك', 'ذا', 'لستم', 'بك', 'ثمة', 'بهن', 'بيد', 'كليكما', 'لنا', 'هيت', 'اللتيا', 'بكن', 'تي', 'اللواتي', 'لكيلا', 'أنى', 'أما', 'مه', 'فيما', 'منها', 'وإذ', 'ذينك', 'ذان', 'حتى', 'أنا', 'آها', 'قد', 'هما', 'هاتي', 'ليسا', 'أنتم', 'هم', 'إما', 'هنا', 'إنه', 'بمن', 'لستن', 'نعم', 'هو', 'إليك', 'بها', 'أولئك', 'ممن', 'وإن', 'ولكن', 'مع', 'مما', 'هذين', 'أيها', 'ما', 'سوى', 'لستما', 'ماذا', 'هل', 'اللذان', 'فإن', 'لدى', 'لولا', 'ألا', 'كأين', 'كليهما', 'بي', 'ها', 'اللتان', 'كيفما', 'ذو', 'بهما', 'ذين', 'حبذا', 'عدا', 'عن', 'هذه', 'حيث', 'بكم', 'كي', 'هيهات', 'آه', 'إلى', 'لها', 'له', 'به', 'لهن', 'ذوا', 'كم', 'لسن', 'آي', 'إن', 'لست', 'هكذا', 'عليك', 'اللائي', 'كذلك', 'هناك', 'لكما', 'أنتن', 'بل', 'كذا', 'لكن', 'ذه', 'هاتان', 'فمن', 'أف', 'حين', 'ليت', 'هذان', 'بين', 'لهم', 'ومن', 'ذانك', 'إنا', 'سوف', 'إذن', 'وإذا', 'أكثر', 'إليكما', 'كلاهما', 'ولو', 'إي', 'ذلك', 'إنما', 'بكما', 'فيه', 'أوه', 'كلتا', 'بنا', 'ذي', 'هاته', 'هذا', 'ولا', 'لن', 'هن', 'بعض', 'لئن', 'إذما', 'إليكم', 'أم', 'ريث', 'لهما', 'إلا', 'الذي', 'الذين', 'كأن', 'لاسيما', 'والذين', 'هيا', 'فيم', 'إذا', 'فإذا', 'إليكن', 'ليست', 'ثم', 'دون', 'التي', 'عند', 'شتان', 'أي', 'ليس', 'بس', 'حيثما', 'غير', 'وهو', 'هاهنا', 'تلكما', 'فلا', 'من', 'تلك', 'متى', 'مذ', 'عما', 'أين', 'إذ', 'أينما', 'هلا', 'لوما', 'بخ', 'عسى', 'كأي', 'ذلكن', 'بما', 'حاشا', 'ليستا', 'ذلكم', 'بعد', 'وما', 'اللتين', 'على', 'منذ', 'هي', 'فيها', 'إيه', 'لا', 'لما', 'في', 'لي', 'نحو', 'نحن', 'ذلكما', 'هاك', 'كيف', 'يا', 'لك', 'خلا', 'هذي'}\n"
     ]
    }
   ],
   "source": [
    "print(arb_stopwords)"
   ]
  },
  {
   "cell_type": "code",
   "execution_count": 57,
   "metadata": {},
   "outputs": [],
   "source": [
    "def delete_stop_words(mess):\n",
    "    \n",
    "    stop_words = set(nltk.corpus.stopwords.words(\"arabic\"))\n",
    "    \n",
    "    return ' '.join(word for word in mess.split() if word not in stop_words and len(word)>1)"
   ]
  },
  {
   "cell_type": "code",
   "execution_count": 58,
   "metadata": {},
   "outputs": [],
   "source": [
    "df['text_clean'] = df['text_clean'].apply(delete_stop_words)"
   ]
  },
  {
   "cell_type": "markdown",
   "metadata": {},
   "source": [
    "Dataset Labels:\n",
    "- ar - Modern Standard Arabic\n",
    "- arz - Egyptian Arabic dialect"
   ]
  },
  {
   "cell_type": "code",
   "execution_count": 12,
   "metadata": {
    "scrolled": true
   },
   "outputs": [],
   "source": [
    "df_ar = df[df['label'] == 'ar'] #split into ar and arz datasets\n",
    "df_arz = df[df['label'] == 'arz']"
   ]
  },
  {
   "cell_type": "code",
   "execution_count": 13,
   "metadata": {
    "scrolled": true
   },
   "outputs": [
    {
     "data": {
      "text/html": [
       "<div>\n",
       "<style scoped>\n",
       "    .dataframe tbody tr th:only-of-type {\n",
       "        vertical-align: middle;\n",
       "    }\n",
       "\n",
       "    .dataframe tbody tr th {\n",
       "        vertical-align: top;\n",
       "    }\n",
       "\n",
       "    .dataframe thead th {\n",
       "        text-align: right;\n",
       "    }\n",
       "</style>\n",
       "<table border=\"1\" class=\"dataframe\">\n",
       "  <thead>\n",
       "    <tr style=\"text-align: right;\">\n",
       "      <th></th>\n",
       "      <th>filename</th>\n",
       "      <th>label</th>\n",
       "      <th>text</th>\n",
       "      <th>text_clean</th>\n",
       "    </tr>\n",
       "  </thead>\n",
       "  <tbody>\n",
       "    <tr>\n",
       "      <th>0</th>\n",
       "      <td>doc_007757.txt</td>\n",
       "      <td>ar</td>\n",
       "      <td>أبريل\\nأبريل أو نيسان أو يوم اليوم الثاني من ا...</td>\n",
       "      <td>أبريل أبريل نيسان يوم اليوم الثاني الشهر الراب...</td>\n",
       "    </tr>\n",
       "    <tr>\n",
       "      <th>1</th>\n",
       "      <td>doc_009856.txt</td>\n",
       "      <td>ar</td>\n",
       "      <td>السيرابيوم\\nالسيرابيوم هو اسم يطلق على كل معبد...</td>\n",
       "      <td>السيرابيوم السيرابيوم اسم يطلق معبد هيكل ديني ...</td>\n",
       "    </tr>\n",
       "    <tr>\n",
       "      <th>2</th>\n",
       "      <td>doc_002548.txt</td>\n",
       "      <td>ar</td>\n",
       "      <td>أبريل\\nأبريل أو نيسان أو يوم اليوم السابع من ا...</td>\n",
       "      <td>أبريل أبريل نيسان يوم اليوم السابع الشهر الراب...</td>\n",
       "    </tr>\n",
       "    <tr>\n",
       "      <th>3</th>\n",
       "      <td>doc_001469.txt</td>\n",
       "      <td>ar</td>\n",
       "      <td>الأحزاب السياسية في جنوب السودان\\nهذه الصفحة ه...</td>\n",
       "      <td>الأحزاب السياسية جنوب السودان الصفحة قائمة للأ...</td>\n",
       "    </tr>\n",
       "    <tr>\n",
       "      <th>4</th>\n",
       "      <td>doc_007734.txt</td>\n",
       "      <td>ar</td>\n",
       "      <td>قصر بعبدا\\nقصر بعبدا بالانجليزية هو مقر الرئاس...</td>\n",
       "      <td>قصر بعبدا قصر بعبدا بالانجليزية مقر الرئاسة ال...</td>\n",
       "    </tr>\n",
       "  </tbody>\n",
       "</table>\n",
       "</div>"
      ],
      "text/plain": [
       "         filename label                                               text  \\\n",
       "0  doc_007757.txt    ar  أبريل\\nأبريل أو نيسان أو يوم اليوم الثاني من ا...   \n",
       "1  doc_009856.txt    ar  السيرابيوم\\nالسيرابيوم هو اسم يطلق على كل معبد...   \n",
       "2  doc_002548.txt    ar  أبريل\\nأبريل أو نيسان أو يوم اليوم السابع من ا...   \n",
       "3  doc_001469.txt    ar  الأحزاب السياسية في جنوب السودان\\nهذه الصفحة ه...   \n",
       "4  doc_007734.txt    ar  قصر بعبدا\\nقصر بعبدا بالانجليزية هو مقر الرئاس...   \n",
       "\n",
       "                                          text_clean  \n",
       "0  أبريل أبريل نيسان يوم اليوم الثاني الشهر الراب...  \n",
       "1  السيرابيوم السيرابيوم اسم يطلق معبد هيكل ديني ...  \n",
       "2  أبريل أبريل نيسان يوم اليوم السابع الشهر الراب...  \n",
       "3  الأحزاب السياسية جنوب السودان الصفحة قائمة للأ...  \n",
       "4  قصر بعبدا قصر بعبدا بالانجليزية مقر الرئاسة ال...  "
      ]
     },
     "metadata": {},
     "output_type": "display_data"
    },
    {
     "data": {
      "text/html": [
       "<div>\n",
       "<style scoped>\n",
       "    .dataframe tbody tr th:only-of-type {\n",
       "        vertical-align: middle;\n",
       "    }\n",
       "\n",
       "    .dataframe tbody tr th {\n",
       "        vertical-align: top;\n",
       "    }\n",
       "\n",
       "    .dataframe thead th {\n",
       "        text-align: right;\n",
       "    }\n",
       "</style>\n",
       "<table border=\"1\" class=\"dataframe\">\n",
       "  <thead>\n",
       "    <tr style=\"text-align: right;\">\n",
       "      <th></th>\n",
       "      <th>filename</th>\n",
       "      <th>label</th>\n",
       "      <th>text</th>\n",
       "      <th>text_clean</th>\n",
       "    </tr>\n",
       "  </thead>\n",
       "  <tbody>\n",
       "    <tr>\n",
       "      <th>9732</th>\n",
       "      <td>doc_005163.txt</td>\n",
       "      <td>ar</td>\n",
       "      <td>البشير وكين\\nالبشير وكين ممثل مغربي من مواليد ...</td>\n",
       "      <td>البشير وكين البشير وكين ممثل مغربي مواليد الدا...</td>\n",
       "    </tr>\n",
       "    <tr>\n",
       "      <th>9733</th>\n",
       "      <td>doc_000519.txt</td>\n",
       "      <td>ar</td>\n",
       "      <td>سيرغيوس\\nالبابا القديس سيرغيوس باللاتينية هو أ...</td>\n",
       "      <td>سيرغيوس البابا القديس سيرغيوس باللاتينية أسقف ...</td>\n",
       "    </tr>\n",
       "    <tr>\n",
       "      <th>9734</th>\n",
       "      <td>doc_006282.txt</td>\n",
       "      <td>ar</td>\n",
       "      <td>أشرف بنيامين\\nأشرف بنيامين قائد أوركسترا سيمفو...</td>\n",
       "      <td>أشرف بنيامين أشرف بنيامين قائد أوركسترا سيمفون...</td>\n",
       "    </tr>\n",
       "    <tr>\n",
       "      <th>9735</th>\n",
       "      <td>doc_003537.txt</td>\n",
       "      <td>ar</td>\n",
       "      <td>أغسطس\\nأغسطس أو آب أو يوم اليوم الرابع والعشرو...</td>\n",
       "      <td>أغسطس أغسطس آب يوم اليوم الرابع والعشرون الشهر...</td>\n",
       "    </tr>\n",
       "    <tr>\n",
       "      <th>9736</th>\n",
       "      <td>doc_008546.txt</td>\n",
       "      <td>ar</td>\n",
       "      <td>وسط بيروت\\nوسط بيروت هي منطقة في العاصمة اللبن...</td>\n",
       "      <td>وسط بيروت وسط بيروت منطقة العاصمة اللبنانية بي...</td>\n",
       "    </tr>\n",
       "  </tbody>\n",
       "</table>\n",
       "</div>"
      ],
      "text/plain": [
       "            filename label                                               text  \\\n",
       "9732  doc_005163.txt    ar  البشير وكين\\nالبشير وكين ممثل مغربي من مواليد ...   \n",
       "9733  doc_000519.txt    ar  سيرغيوس\\nالبابا القديس سيرغيوس باللاتينية هو أ...   \n",
       "9734  doc_006282.txt    ar  أشرف بنيامين\\nأشرف بنيامين قائد أوركسترا سيمفو...   \n",
       "9735  doc_003537.txt    ar  أغسطس\\nأغسطس أو آب أو يوم اليوم الرابع والعشرو...   \n",
       "9736  doc_008546.txt    ar  وسط بيروت\\nوسط بيروت هي منطقة في العاصمة اللبن...   \n",
       "\n",
       "                                             text_clean  \n",
       "9732  البشير وكين البشير وكين ممثل مغربي مواليد الدا...  \n",
       "9733  سيرغيوس البابا القديس سيرغيوس باللاتينية أسقف ...  \n",
       "9734  أشرف بنيامين أشرف بنيامين قائد أوركسترا سيمفون...  \n",
       "9735  أغسطس أغسطس آب يوم اليوم الرابع والعشرون الشهر...  \n",
       "9736  وسط بيروت وسط بيروت منطقة العاصمة اللبنانية بي...  "
      ]
     },
     "metadata": {},
     "output_type": "display_data"
    }
   ],
   "source": [
    "display(df_ar.head())\n",
    "display(df_ar.tail())"
   ]
  },
  {
   "cell_type": "code",
   "execution_count": 14,
   "metadata": {
    "scrolled": true
   },
   "outputs": [
    {
     "data": {
      "text/html": [
       "<div>\n",
       "<style scoped>\n",
       "    .dataframe tbody tr th:only-of-type {\n",
       "        vertical-align: middle;\n",
       "    }\n",
       "\n",
       "    .dataframe tbody tr th {\n",
       "        vertical-align: top;\n",
       "    }\n",
       "\n",
       "    .dataframe thead th {\n",
       "        text-align: right;\n",
       "    }\n",
       "</style>\n",
       "<table border=\"1\" class=\"dataframe\">\n",
       "  <thead>\n",
       "    <tr style=\"text-align: right;\">\n",
       "      <th></th>\n",
       "      <th>filename</th>\n",
       "      <th>label</th>\n",
       "      <th>text</th>\n",
       "      <th>text_clean</th>\n",
       "    </tr>\n",
       "  </thead>\n",
       "  <tbody>\n",
       "    <tr>\n",
       "      <th>9737</th>\n",
       "      <td>doc_007757.txt</td>\n",
       "      <td>arz</td>\n",
       "      <td>ابريل\\nابريل هو اليوم فى السنة الكبيسة من ايام...</td>\n",
       "      <td>ابريل ابريل اليوم فى السنة الكبيسة ايام السنة ...</td>\n",
       "    </tr>\n",
       "    <tr>\n",
       "      <th>9738</th>\n",
       "      <td>doc_009856.txt</td>\n",
       "      <td>arz</td>\n",
       "      <td>سيرابيوم\\nالسيراپيوم مكان محفور فى صخور سقاره ...</td>\n",
       "      <td>سيرابيوم السيراپيوم مكان محفور فى صخور سقاره ف...</td>\n",
       "    </tr>\n",
       "    <tr>\n",
       "      <th>9739</th>\n",
       "      <td>doc_002548.txt</td>\n",
       "      <td>arz</td>\n",
       "      <td>ابريل\\nابريل هو اليوم فى السنة الكبيسة من ايام...</td>\n",
       "      <td>ابريل ابريل اليوم فى السنة الكبيسة ايام السنة ...</td>\n",
       "    </tr>\n",
       "    <tr>\n",
       "      <th>9740</th>\n",
       "      <td>doc_007734.txt</td>\n",
       "      <td>arz</td>\n",
       "      <td>قصر بعبدا\\nقصر بعبدا هو مقر رئاسة الجمهورية ال...</td>\n",
       "      <td>قصر بعبدا قصر بعبدا مقر رئاسة الجمهورية اللبنا...</td>\n",
       "    </tr>\n",
       "    <tr>\n",
       "      <th>9741</th>\n",
       "      <td>doc_005433.txt</td>\n",
       "      <td>arz</td>\n",
       "      <td>سريان\\nالسريان او الاشوريين هما الشعب الأرامى ...</td>\n",
       "      <td>سريان السريان او الاشوريين الشعب الأرامى الأشو...</td>\n",
       "    </tr>\n",
       "  </tbody>\n",
       "</table>\n",
       "</div>"
      ],
      "text/plain": [
       "            filename label                                               text  \\\n",
       "9737  doc_007757.txt   arz  ابريل\\nابريل هو اليوم فى السنة الكبيسة من ايام...   \n",
       "9738  doc_009856.txt   arz  سيرابيوم\\nالسيراپيوم مكان محفور فى صخور سقاره ...   \n",
       "9739  doc_002548.txt   arz  ابريل\\nابريل هو اليوم فى السنة الكبيسة من ايام...   \n",
       "9740  doc_007734.txt   arz  قصر بعبدا\\nقصر بعبدا هو مقر رئاسة الجمهورية ال...   \n",
       "9741  doc_005433.txt   arz  سريان\\nالسريان او الاشوريين هما الشعب الأرامى ...   \n",
       "\n",
       "                                             text_clean  \n",
       "9737  ابريل ابريل اليوم فى السنة الكبيسة ايام السنة ...  \n",
       "9738  سيرابيوم السيراپيوم مكان محفور فى صخور سقاره ف...  \n",
       "9739  ابريل ابريل اليوم فى السنة الكبيسة ايام السنة ...  \n",
       "9740  قصر بعبدا قصر بعبدا مقر رئاسة الجمهورية اللبنا...  \n",
       "9741  سريان السريان او الاشوريين الشعب الأرامى الأشو...  "
      ]
     },
     "metadata": {},
     "output_type": "display_data"
    },
    {
     "data": {
      "text/html": [
       "<div>\n",
       "<style scoped>\n",
       "    .dataframe tbody tr th:only-of-type {\n",
       "        vertical-align: middle;\n",
       "    }\n",
       "\n",
       "    .dataframe tbody tr th {\n",
       "        vertical-align: top;\n",
       "    }\n",
       "\n",
       "    .dataframe thead th {\n",
       "        text-align: right;\n",
       "    }\n",
       "</style>\n",
       "<table border=\"1\" class=\"dataframe\">\n",
       "  <thead>\n",
       "    <tr style=\"text-align: right;\">\n",
       "      <th></th>\n",
       "      <th>filename</th>\n",
       "      <th>label</th>\n",
       "      <th>text</th>\n",
       "      <th>text_clean</th>\n",
       "    </tr>\n",
       "  </thead>\n",
       "  <tbody>\n",
       "    <tr>\n",
       "      <th>18858</th>\n",
       "      <td>doc_005163.txt</td>\n",
       "      <td>arz</td>\n",
       "      <td>البشير وكين\\nالبشير وكين ممثل مغربي اتولد بمدي...</td>\n",
       "      <td>البشير وكين البشير وكين ممثل مغربي اتولد بمدين...</td>\n",
       "    </tr>\n",
       "    <tr>\n",
       "      <th>18859</th>\n",
       "      <td>doc_000519.txt</td>\n",
       "      <td>arz</td>\n",
       "      <td>القديس سيركيوس\\nالقديس سيركيوس هو البابا التما...</td>\n",
       "      <td>القديس سيركيوس القديس سيركيوس البابا التمانية ...</td>\n",
       "    </tr>\n",
       "    <tr>\n",
       "      <th>18860</th>\n",
       "      <td>doc_006282.txt</td>\n",
       "      <td>arz</td>\n",
       "      <td>اشرف بنيامين\\nأشرف بنيامين القاهرة هو مايسترو ...</td>\n",
       "      <td>اشرف بنيامين أشرف بنيامين القاهرة مايسترو مصرى...</td>\n",
       "    </tr>\n",
       "    <tr>\n",
       "      <th>18861</th>\n",
       "      <td>doc_003537.txt</td>\n",
       "      <td>arz</td>\n",
       "      <td>اغسطس\\nاغسطس هو اليوم فى السنة الكبيسة من ايام...</td>\n",
       "      <td>اغسطس اغسطس اليوم فى السنة الكبيسة ايام السنة ...</td>\n",
       "    </tr>\n",
       "    <tr>\n",
       "      <th>18862</th>\n",
       "      <td>doc_008546.txt</td>\n",
       "      <td>arz</td>\n",
       "      <td>وسط بيروت\\nوسط بيروت هى منطقة فى العاصمة اللبن...</td>\n",
       "      <td>وسط بيروت وسط بيروت هى منطقة فى العاصمة اللبنا...</td>\n",
       "    </tr>\n",
       "  </tbody>\n",
       "</table>\n",
       "</div>"
      ],
      "text/plain": [
       "             filename label  \\\n",
       "18858  doc_005163.txt   arz   \n",
       "18859  doc_000519.txt   arz   \n",
       "18860  doc_006282.txt   arz   \n",
       "18861  doc_003537.txt   arz   \n",
       "18862  doc_008546.txt   arz   \n",
       "\n",
       "                                                    text  \\\n",
       "18858  البشير وكين\\nالبشير وكين ممثل مغربي اتولد بمدي...   \n",
       "18859  القديس سيركيوس\\nالقديس سيركيوس هو البابا التما...   \n",
       "18860  اشرف بنيامين\\nأشرف بنيامين القاهرة هو مايسترو ...   \n",
       "18861  اغسطس\\nاغسطس هو اليوم فى السنة الكبيسة من ايام...   \n",
       "18862  وسط بيروت\\nوسط بيروت هى منطقة فى العاصمة اللبن...   \n",
       "\n",
       "                                              text_clean  \n",
       "18858  البشير وكين البشير وكين ممثل مغربي اتولد بمدين...  \n",
       "18859  القديس سيركيوس القديس سيركيوس البابا التمانية ...  \n",
       "18860  اشرف بنيامين أشرف بنيامين القاهرة مايسترو مصرى...  \n",
       "18861  اغسطس اغسطس اليوم فى السنة الكبيسة ايام السنة ...  \n",
       "18862  وسط بيروت وسط بيروت هى منطقة فى العاصمة اللبنا...  "
      ]
     },
     "metadata": {},
     "output_type": "display_data"
    }
   ],
   "source": [
    "display(df_arz.head())\n",
    "display(df_arz.tail())"
   ]
  },
  {
   "cell_type": "markdown",
   "metadata": {},
   "source": [
    "<font color='MediumSeaGreen'> \n",
    "\n",
    "#### Segment Unigrams"
   ]
  },
  {
   "cell_type": "code",
   "execution_count": 15,
   "metadata": {
    "scrolled": true
   },
   "outputs": [
    {
     "name": "stdout",
     "output_type": "stream",
     "text": [
      "351603\n"
     ]
    },
    {
     "data": {
      "text/plain": [
       "['عام',\n",
       " 'كان',\n",
       " 'كانت',\n",
       " 'وقد',\n",
       " 'وفي',\n",
       " 'قبل',\n",
       " 'سنة',\n",
       " 'بن',\n",
       " 'خلال',\n",
       " 'وكان',\n",
       " 'تم',\n",
       " 'مصر',\n",
       " 'مثل',\n",
       " 'أيضا',\n",
       " 'العالم',\n",
       " 'أنه',\n",
       " 'وهي',\n",
       " 'مدينة',\n",
       " 'عدد',\n",
       " 'القرن']"
      ]
     },
     "execution_count": 15,
     "metadata": {},
     "output_type": "execute_result"
    }
   ],
   "source": [
    "import nltk\n",
    "from nltk.tokenize import word_tokenize\n",
    "\n",
    "corpus = df_ar.text_clean.str.cat(sep=' ')\n",
    "\n",
    "#function to split text into word\n",
    "tokens = word_tokenize(corpus)\n",
    "\n",
    "vocabulary = set(tokens)\n",
    "print(len(vocabulary))\n",
    "\n",
    "frequency_dist = nltk.FreqDist(tokens)\n",
    "sorted(frequency_dist,key=frequency_dist.__getitem__, reverse=True)[0:20]"
   ]
  },
  {
   "cell_type": "code",
   "execution_count": 16,
   "metadata": {},
   "outputs": [],
   "source": [
    "from sklearn.feature_extraction.text import CountVectorizer\n",
    "def get_top_n_words(corpus, n=None):\n",
    "    vec = CountVectorizer(1,1).fit(corpus)\n",
    "    bag_of_words = vec.transform(corpus)\n",
    "    sum_words = bag_of_words.sum(axis=0) \n",
    "    words_freq = [(word, sum_words[0, idx]) for word, idx in vec.vocabulary_.items()]\n",
    "    words_freq =sorted(words_freq, key = lambda x: x[1], reverse=True)\n",
    "    return words_freq[:n]\n",
    "common_words = get_top_n_words(df_ar['text_clean'], 50)"
   ]
  },
  {
   "cell_type": "code",
   "execution_count": 17,
   "metadata": {
    "scrolled": true
   },
   "outputs": [
    {
     "data": {
      "text/html": [
       "<div>\n",
       "<style scoped>\n",
       "    .dataframe tbody tr th:only-of-type {\n",
       "        vertical-align: middle;\n",
       "    }\n",
       "\n",
       "    .dataframe tbody tr th {\n",
       "        vertical-align: top;\n",
       "    }\n",
       "\n",
       "    .dataframe thead th {\n",
       "        text-align: right;\n",
       "    }\n",
       "</style>\n",
       "<table border=\"1\" class=\"dataframe\">\n",
       "  <thead>\n",
       "    <tr style=\"text-align: right;\">\n",
       "      <th></th>\n",
       "      <th>word</th>\n",
       "      <th>count</th>\n",
       "    </tr>\n",
       "  </thead>\n",
       "  <tbody>\n",
       "    <tr>\n",
       "      <th>0</th>\n",
       "      <td>عام</td>\n",
       "      <td>45295</td>\n",
       "    </tr>\n",
       "    <tr>\n",
       "      <th>1</th>\n",
       "      <td>كان</td>\n",
       "      <td>34069</td>\n",
       "    </tr>\n",
       "    <tr>\n",
       "      <th>2</th>\n",
       "      <td>كانت</td>\n",
       "      <td>20528</td>\n",
       "    </tr>\n",
       "    <tr>\n",
       "      <th>3</th>\n",
       "      <td>وقد</td>\n",
       "      <td>18980</td>\n",
       "    </tr>\n",
       "    <tr>\n",
       "      <th>4</th>\n",
       "      <td>وفي</td>\n",
       "      <td>17888</td>\n",
       "    </tr>\n",
       "    <tr>\n",
       "      <th>5</th>\n",
       "      <td>قبل</td>\n",
       "      <td>15303</td>\n",
       "    </tr>\n",
       "    <tr>\n",
       "      <th>6</th>\n",
       "      <td>سنة</td>\n",
       "      <td>15037</td>\n",
       "    </tr>\n",
       "    <tr>\n",
       "      <th>7</th>\n",
       "      <td>بن</td>\n",
       "      <td>13680</td>\n",
       "    </tr>\n",
       "    <tr>\n",
       "      <th>8</th>\n",
       "      <td>خلال</td>\n",
       "      <td>12779</td>\n",
       "    </tr>\n",
       "    <tr>\n",
       "      <th>9</th>\n",
       "      <td>وكان</td>\n",
       "      <td>12661</td>\n",
       "    </tr>\n",
       "    <tr>\n",
       "      <th>10</th>\n",
       "      <td>تم</td>\n",
       "      <td>12155</td>\n",
       "    </tr>\n",
       "    <tr>\n",
       "      <th>11</th>\n",
       "      <td>مصر</td>\n",
       "      <td>12115</td>\n",
       "    </tr>\n",
       "    <tr>\n",
       "      <th>12</th>\n",
       "      <td>مثل</td>\n",
       "      <td>11569</td>\n",
       "    </tr>\n",
       "    <tr>\n",
       "      <th>13</th>\n",
       "      <td>أيضا</td>\n",
       "      <td>11534</td>\n",
       "    </tr>\n",
       "    <tr>\n",
       "      <th>14</th>\n",
       "      <td>العالم</td>\n",
       "      <td>10596</td>\n",
       "    </tr>\n",
       "    <tr>\n",
       "      <th>15</th>\n",
       "      <td>أنه</td>\n",
       "      <td>10380</td>\n",
       "    </tr>\n",
       "    <tr>\n",
       "      <th>16</th>\n",
       "      <td>وهي</td>\n",
       "      <td>10339</td>\n",
       "    </tr>\n",
       "    <tr>\n",
       "      <th>17</th>\n",
       "      <td>مدينة</td>\n",
       "      <td>9675</td>\n",
       "    </tr>\n",
       "    <tr>\n",
       "      <th>18</th>\n",
       "      <td>عدد</td>\n",
       "      <td>9329</td>\n",
       "    </tr>\n",
       "    <tr>\n",
       "      <th>19</th>\n",
       "      <td>القرن</td>\n",
       "      <td>9098</td>\n",
       "    </tr>\n",
       "    <tr>\n",
       "      <th>20</th>\n",
       "      <td>المدينة</td>\n",
       "      <td>8961</td>\n",
       "    </tr>\n",
       "    <tr>\n",
       "      <th>21</th>\n",
       "      <td>عبد</td>\n",
       "      <td>8852</td>\n",
       "    </tr>\n",
       "    <tr>\n",
       "      <th>22</th>\n",
       "      <td>محمد</td>\n",
       "      <td>8771</td>\n",
       "    </tr>\n",
       "    <tr>\n",
       "      <th>23</th>\n",
       "      <td>أول</td>\n",
       "      <td>8596</td>\n",
       "    </tr>\n",
       "    <tr>\n",
       "      <th>24</th>\n",
       "      <td>والتي</td>\n",
       "      <td>8496</td>\n",
       "    </tr>\n",
       "    <tr>\n",
       "      <th>25</th>\n",
       "      <td>الأول</td>\n",
       "      <td>8449</td>\n",
       "    </tr>\n",
       "    <tr>\n",
       "      <th>26</th>\n",
       "      <td>عشر</td>\n",
       "      <td>8329</td>\n",
       "    </tr>\n",
       "    <tr>\n",
       "      <th>27</th>\n",
       "      <td>الله</td>\n",
       "      <td>8278</td>\n",
       "    </tr>\n",
       "    <tr>\n",
       "      <th>28</th>\n",
       "      <td>المتحدة</td>\n",
       "      <td>8130</td>\n",
       "    </tr>\n",
       "    <tr>\n",
       "      <th>29</th>\n",
       "      <td>أخرى</td>\n",
       "      <td>7888</td>\n",
       "    </tr>\n",
       "    <tr>\n",
       "      <th>30</th>\n",
       "      <td>فقد</td>\n",
       "      <td>7516</td>\n",
       "    </tr>\n",
       "    <tr>\n",
       "      <th>31</th>\n",
       "      <td>العربية</td>\n",
       "      <td>7387</td>\n",
       "    </tr>\n",
       "    <tr>\n",
       "      <th>32</th>\n",
       "      <td>الدولة</td>\n",
       "      <td>7354</td>\n",
       "    </tr>\n",
       "    <tr>\n",
       "      <th>33</th>\n",
       "      <td>العديد</td>\n",
       "      <td>7197</td>\n",
       "    </tr>\n",
       "    <tr>\n",
       "      <th>34</th>\n",
       "      <td>علي</td>\n",
       "      <td>7133</td>\n",
       "    </tr>\n",
       "    <tr>\n",
       "      <th>35</th>\n",
       "      <td>الثاني</td>\n",
       "      <td>6902</td>\n",
       "    </tr>\n",
       "    <tr>\n",
       "      <th>36</th>\n",
       "      <td>الحرب</td>\n",
       "      <td>6845</td>\n",
       "    </tr>\n",
       "    <tr>\n",
       "      <th>37</th>\n",
       "      <td>الأولى</td>\n",
       "      <td>6662</td>\n",
       "    </tr>\n",
       "    <tr>\n",
       "      <th>38</th>\n",
       "      <td>العام</td>\n",
       "      <td>6603</td>\n",
       "    </tr>\n",
       "    <tr>\n",
       "      <th>39</th>\n",
       "      <td>عندما</td>\n",
       "      <td>6552</td>\n",
       "    </tr>\n",
       "    <tr>\n",
       "      <th>40</th>\n",
       "      <td>الملك</td>\n",
       "      <td>6529</td>\n",
       "    </tr>\n",
       "    <tr>\n",
       "      <th>41</th>\n",
       "      <td>بشكل</td>\n",
       "      <td>6460</td>\n",
       "    </tr>\n",
       "    <tr>\n",
       "      <th>42</th>\n",
       "      <td>أحد</td>\n",
       "      <td>6422</td>\n",
       "    </tr>\n",
       "    <tr>\n",
       "      <th>43</th>\n",
       "      <td>البلاد</td>\n",
       "      <td>6054</td>\n",
       "    </tr>\n",
       "    <tr>\n",
       "      <th>44</th>\n",
       "      <td>الدين</td>\n",
       "      <td>5986</td>\n",
       "    </tr>\n",
       "    <tr>\n",
       "      <th>45</th>\n",
       "      <td>يوم</td>\n",
       "      <td>5935</td>\n",
       "    </tr>\n",
       "    <tr>\n",
       "      <th>46</th>\n",
       "      <td>قام</td>\n",
       "      <td>5870</td>\n",
       "    </tr>\n",
       "    <tr>\n",
       "      <th>47</th>\n",
       "      <td>وكانت</td>\n",
       "      <td>5833</td>\n",
       "    </tr>\n",
       "    <tr>\n",
       "      <th>48</th>\n",
       "      <td>تحت</td>\n",
       "      <td>5703</td>\n",
       "    </tr>\n",
       "    <tr>\n",
       "      <th>49</th>\n",
       "      <td>وذلك</td>\n",
       "      <td>5556</td>\n",
       "    </tr>\n",
       "  </tbody>\n",
       "</table>\n",
       "</div>"
      ],
      "text/plain": [
       "       word  count\n",
       "0       عام  45295\n",
       "1       كان  34069\n",
       "2      كانت  20528\n",
       "3       وقد  18980\n",
       "4       وفي  17888\n",
       "5       قبل  15303\n",
       "6       سنة  15037\n",
       "7        بن  13680\n",
       "8      خلال  12779\n",
       "9      وكان  12661\n",
       "10       تم  12155\n",
       "11      مصر  12115\n",
       "12      مثل  11569\n",
       "13     أيضا  11534\n",
       "14   العالم  10596\n",
       "15      أنه  10380\n",
       "16      وهي  10339\n",
       "17    مدينة   9675\n",
       "18      عدد   9329\n",
       "19    القرن   9098\n",
       "20  المدينة   8961\n",
       "21      عبد   8852\n",
       "22     محمد   8771\n",
       "23      أول   8596\n",
       "24    والتي   8496\n",
       "25    الأول   8449\n",
       "26      عشر   8329\n",
       "27     الله   8278\n",
       "28  المتحدة   8130\n",
       "29     أخرى   7888\n",
       "30      فقد   7516\n",
       "31  العربية   7387\n",
       "32   الدولة   7354\n",
       "33   العديد   7197\n",
       "34      علي   7133\n",
       "35   الثاني   6902\n",
       "36    الحرب   6845\n",
       "37   الأولى   6662\n",
       "38    العام   6603\n",
       "39    عندما   6552\n",
       "40    الملك   6529\n",
       "41     بشكل   6460\n",
       "42      أحد   6422\n",
       "43   البلاد   6054\n",
       "44    الدين   5986\n",
       "45      يوم   5935\n",
       "46      قام   5870\n",
       "47    وكانت   5833\n",
       "48      تحت   5703\n",
       "49     وذلك   5556"
      ]
     },
     "execution_count": 17,
     "metadata": {},
     "output_type": "execute_result"
    }
   ],
   "source": [
    "df1_ar = pd.DataFrame(common_words, columns = ['word' , 'count'])\n",
    "df1_ar.head(50) #without stopwords"
   ]
  },
  {
   "cell_type": "code",
   "execution_count": 18,
   "metadata": {
    "scrolled": true
   },
   "outputs": [
    {
     "name": "stdout",
     "output_type": "stream",
     "text": [
      "122343\n"
     ]
    },
    {
     "data": {
      "text/plain": [
       "['فى',\n",
       " 'اللى',\n",
       " 'كان',\n",
       " 'سنة',\n",
       " 'مصر',\n",
       " 'كانت',\n",
       " 'ان',\n",
       " 'او',\n",
       " 'فيلم',\n",
       " 'دى',\n",
       " 'هى',\n",
       " 'ده',\n",
       " 'عشان',\n",
       " 'انه',\n",
       " 'يوم',\n",
       " 'محمد',\n",
       " 'زى',\n",
       " 'مش',\n",
       " 'بن',\n",
       " 'كمان']"
      ]
     },
     "execution_count": 18,
     "metadata": {},
     "output_type": "execute_result"
    }
   ],
   "source": [
    "import nltk\n",
    "from nltk.tokenize import word_tokenize\n",
    "\n",
    "corpus_2 = df_arz.text_clean.str.cat(sep=' ')\n",
    "\n",
    "tokens_2 = word_tokenize(corpus_2)\n",
    "\n",
    "vocabulary_2 = set(tokens_2)\n",
    "print(len(vocabulary_2))\n",
    "\n",
    "frequency_dist_2 = nltk.FreqDist(tokens_2)\n",
    "sorted(frequency_dist_2,key=frequency_dist_2.__getitem__, reverse=True)[0:20]"
   ]
  },
  {
   "cell_type": "code",
   "execution_count": 19,
   "metadata": {},
   "outputs": [],
   "source": [
    "from sklearn.feature_extraction.text import CountVectorizer\n",
    "def get_top_n_words(corpus, n=None):\n",
    "    vec = CountVectorizer(1,1).fit(corpus)\n",
    "    bag_of_words = vec.transform(corpus)\n",
    "    sum_words = bag_of_words.sum(axis=0) \n",
    "    words_freq = [(word, sum_words[0, idx]) for word, idx in vec.vocabulary_.items()]\n",
    "    words_freq =sorted(words_freq, key = lambda x: x[1], reverse=True)\n",
    "    return words_freq[:n]\n",
    "common_words = get_top_n_words(df_arz['text_clean'], 50)"
   ]
  },
  {
   "cell_type": "code",
   "execution_count": 20,
   "metadata": {
    "scrolled": true
   },
   "outputs": [
    {
     "data": {
      "text/html": [
       "<div>\n",
       "<style scoped>\n",
       "    .dataframe tbody tr th:only-of-type {\n",
       "        vertical-align: middle;\n",
       "    }\n",
       "\n",
       "    .dataframe tbody tr th {\n",
       "        vertical-align: top;\n",
       "    }\n",
       "\n",
       "    .dataframe thead th {\n",
       "        text-align: right;\n",
       "    }\n",
       "</style>\n",
       "<table border=\"1\" class=\"dataframe\">\n",
       "  <thead>\n",
       "    <tr style=\"text-align: right;\">\n",
       "      <th></th>\n",
       "      <th>word</th>\n",
       "      <th>count</th>\n",
       "    </tr>\n",
       "  </thead>\n",
       "  <tbody>\n",
       "    <tr>\n",
       "      <th>0</th>\n",
       "      <td>فى</td>\n",
       "      <td>52308</td>\n",
       "    </tr>\n",
       "    <tr>\n",
       "      <th>1</th>\n",
       "      <td>اللى</td>\n",
       "      <td>15605</td>\n",
       "    </tr>\n",
       "    <tr>\n",
       "      <th>2</th>\n",
       "      <td>كان</td>\n",
       "      <td>10629</td>\n",
       "    </tr>\n",
       "    <tr>\n",
       "      <th>3</th>\n",
       "      <td>سنة</td>\n",
       "      <td>9835</td>\n",
       "    </tr>\n",
       "    <tr>\n",
       "      <th>4</th>\n",
       "      <td>مصر</td>\n",
       "      <td>9018</td>\n",
       "    </tr>\n",
       "    <tr>\n",
       "      <th>5</th>\n",
       "      <td>كانت</td>\n",
       "      <td>4780</td>\n",
       "    </tr>\n",
       "    <tr>\n",
       "      <th>6</th>\n",
       "      <td>ان</td>\n",
       "      <td>4675</td>\n",
       "    </tr>\n",
       "    <tr>\n",
       "      <th>7</th>\n",
       "      <td>او</td>\n",
       "      <td>4579</td>\n",
       "    </tr>\n",
       "    <tr>\n",
       "      <th>8</th>\n",
       "      <td>فيلم</td>\n",
       "      <td>3326</td>\n",
       "    </tr>\n",
       "    <tr>\n",
       "      <th>9</th>\n",
       "      <td>دى</td>\n",
       "      <td>3272</td>\n",
       "    </tr>\n",
       "    <tr>\n",
       "      <th>10</th>\n",
       "      <td>هى</td>\n",
       "      <td>3251</td>\n",
       "    </tr>\n",
       "    <tr>\n",
       "      <th>11</th>\n",
       "      <td>ده</td>\n",
       "      <td>3193</td>\n",
       "    </tr>\n",
       "    <tr>\n",
       "      <th>12</th>\n",
       "      <td>عشان</td>\n",
       "      <td>3030</td>\n",
       "    </tr>\n",
       "    <tr>\n",
       "      <th>13</th>\n",
       "      <td>انه</td>\n",
       "      <td>2979</td>\n",
       "    </tr>\n",
       "    <tr>\n",
       "      <th>14</th>\n",
       "      <td>يوم</td>\n",
       "      <td>2807</td>\n",
       "    </tr>\n",
       "    <tr>\n",
       "      <th>15</th>\n",
       "      <td>محمد</td>\n",
       "      <td>2666</td>\n",
       "    </tr>\n",
       "    <tr>\n",
       "      <th>16</th>\n",
       "      <td>زى</td>\n",
       "      <td>2533</td>\n",
       "    </tr>\n",
       "    <tr>\n",
       "      <th>17</th>\n",
       "      <td>مش</td>\n",
       "      <td>2214</td>\n",
       "    </tr>\n",
       "    <tr>\n",
       "      <th>18</th>\n",
       "      <td>بن</td>\n",
       "      <td>2199</td>\n",
       "    </tr>\n",
       "    <tr>\n",
       "      <th>19</th>\n",
       "      <td>كمان</td>\n",
       "      <td>2138</td>\n",
       "    </tr>\n",
       "    <tr>\n",
       "      <th>20</th>\n",
       "      <td>الدين</td>\n",
       "      <td>2093</td>\n",
       "    </tr>\n",
       "    <tr>\n",
       "      <th>21</th>\n",
       "      <td>عبد</td>\n",
       "      <td>1958</td>\n",
       "    </tr>\n",
       "    <tr>\n",
       "      <th>22</th>\n",
       "      <td>العالم</td>\n",
       "      <td>1841</td>\n",
       "    </tr>\n",
       "    <tr>\n",
       "      <th>23</th>\n",
       "      <td>اول</td>\n",
       "      <td>1830</td>\n",
       "    </tr>\n",
       "    <tr>\n",
       "      <th>24</th>\n",
       "      <td>كده</td>\n",
       "      <td>1737</td>\n",
       "    </tr>\n",
       "    <tr>\n",
       "      <th>25</th>\n",
       "      <td>قبل</td>\n",
       "      <td>1718</td>\n",
       "    </tr>\n",
       "    <tr>\n",
       "      <th>26</th>\n",
       "      <td>واحد</td>\n",
       "      <td>1704</td>\n",
       "    </tr>\n",
       "    <tr>\n",
       "      <th>27</th>\n",
       "      <td>الملك</td>\n",
       "      <td>1675</td>\n",
       "    </tr>\n",
       "    <tr>\n",
       "      <th>28</th>\n",
       "      <td>سنه</td>\n",
       "      <td>1629</td>\n",
       "    </tr>\n",
       "    <tr>\n",
       "      <th>29</th>\n",
       "      <td>لحد</td>\n",
       "      <td>1587</td>\n",
       "    </tr>\n",
       "    <tr>\n",
       "      <th>30</th>\n",
       "      <td>مدينة</td>\n",
       "      <td>1558</td>\n",
       "    </tr>\n",
       "    <tr>\n",
       "      <th>31</th>\n",
       "      <td>المصريه</td>\n",
       "      <td>1403</td>\n",
       "    </tr>\n",
       "    <tr>\n",
       "      <th>32</th>\n",
       "      <td>الناس</td>\n",
       "      <td>1399</td>\n",
       "    </tr>\n",
       "    <tr>\n",
       "      <th>33</th>\n",
       "      <td>المصرى</td>\n",
       "      <td>1390</td>\n",
       "    </tr>\n",
       "    <tr>\n",
       "      <th>34</th>\n",
       "      <td>القاهره</td>\n",
       "      <td>1386</td>\n",
       "    </tr>\n",
       "    <tr>\n",
       "      <th>35</th>\n",
       "      <td>رئيس</td>\n",
       "      <td>1360</td>\n",
       "    </tr>\n",
       "    <tr>\n",
       "      <th>36</th>\n",
       "      <td>لغاية</td>\n",
       "      <td>1356</td>\n",
       "    </tr>\n",
       "    <tr>\n",
       "      <th>37</th>\n",
       "      <td>عدد</td>\n",
       "      <td>1355</td>\n",
       "    </tr>\n",
       "    <tr>\n",
       "      <th>38</th>\n",
       "      <td>كبير</td>\n",
       "      <td>1354</td>\n",
       "    </tr>\n",
       "    <tr>\n",
       "      <th>39</th>\n",
       "      <td>السنة</td>\n",
       "      <td>1289</td>\n",
       "    </tr>\n",
       "    <tr>\n",
       "      <th>40</th>\n",
       "      <td>القرن</td>\n",
       "      <td>1286</td>\n",
       "    </tr>\n",
       "    <tr>\n",
       "      <th>41</th>\n",
       "      <td>ابن</td>\n",
       "      <td>1285</td>\n",
       "    </tr>\n",
       "    <tr>\n",
       "      <th>42</th>\n",
       "      <td>اتولد</td>\n",
       "      <td>1259</td>\n",
       "    </tr>\n",
       "    <tr>\n",
       "      <th>43</th>\n",
       "      <td>ابو</td>\n",
       "      <td>1238</td>\n",
       "    </tr>\n",
       "    <tr>\n",
       "      <th>44</th>\n",
       "      <td>ممكن</td>\n",
       "      <td>1223</td>\n",
       "    </tr>\n",
       "    <tr>\n",
       "      <th>45</th>\n",
       "      <td>المصريين</td>\n",
       "      <td>1221</td>\n",
       "    </tr>\n",
       "    <tr>\n",
       "      <th>46</th>\n",
       "      <td>الاول</td>\n",
       "      <td>1218</td>\n",
       "    </tr>\n",
       "    <tr>\n",
       "      <th>47</th>\n",
       "      <td>كنيسة</td>\n",
       "      <td>1209</td>\n",
       "    </tr>\n",
       "    <tr>\n",
       "      <th>48</th>\n",
       "      <td>اسم</td>\n",
       "      <td>1195</td>\n",
       "    </tr>\n",
       "    <tr>\n",
       "      <th>49</th>\n",
       "      <td>اسمه</td>\n",
       "      <td>1162</td>\n",
       "    </tr>\n",
       "  </tbody>\n",
       "</table>\n",
       "</div>"
      ],
      "text/plain": [
       "        word  count\n",
       "0         فى  52308\n",
       "1       اللى  15605\n",
       "2        كان  10629\n",
       "3        سنة   9835\n",
       "4        مصر   9018\n",
       "5       كانت   4780\n",
       "6         ان   4675\n",
       "7         او   4579\n",
       "8       فيلم   3326\n",
       "9         دى   3272\n",
       "10        هى   3251\n",
       "11        ده   3193\n",
       "12      عشان   3030\n",
       "13       انه   2979\n",
       "14       يوم   2807\n",
       "15      محمد   2666\n",
       "16        زى   2533\n",
       "17        مش   2214\n",
       "18        بن   2199\n",
       "19      كمان   2138\n",
       "20     الدين   2093\n",
       "21       عبد   1958\n",
       "22    العالم   1841\n",
       "23       اول   1830\n",
       "24       كده   1737\n",
       "25       قبل   1718\n",
       "26      واحد   1704\n",
       "27     الملك   1675\n",
       "28       سنه   1629\n",
       "29       لحد   1587\n",
       "30     مدينة   1558\n",
       "31   المصريه   1403\n",
       "32     الناس   1399\n",
       "33    المصرى   1390\n",
       "34   القاهره   1386\n",
       "35      رئيس   1360\n",
       "36     لغاية   1356\n",
       "37       عدد   1355\n",
       "38      كبير   1354\n",
       "39     السنة   1289\n",
       "40     القرن   1286\n",
       "41       ابن   1285\n",
       "42     اتولد   1259\n",
       "43       ابو   1238\n",
       "44      ممكن   1223\n",
       "45  المصريين   1221\n",
       "46     الاول   1218\n",
       "47     كنيسة   1209\n",
       "48       اسم   1195\n",
       "49      اسمه   1162"
      ]
     },
     "execution_count": 20,
     "metadata": {},
     "output_type": "execute_result"
    }
   ],
   "source": [
    "df2_arz = pd.DataFrame(common_words, columns = ['word' , 'count'])\n",
    "df2_arz.head(50)"
   ]
  },
  {
   "cell_type": "code",
   "execution_count": 42,
   "metadata": {},
   "outputs": [],
   "source": [
    "arz = df2_arz.head(500)"
   ]
  },
  {
   "cell_type": "markdown",
   "metadata": {},
   "source": [
    "<font color='MediumSeaGreen'> \n",
    "\n",
    "#### Bi-grams"
   ]
  },
  {
   "cell_type": "code",
   "execution_count": 26,
   "metadata": {},
   "outputs": [
    {
     "name": "stdout",
     "output_type": "stream",
     "text": [
      "الولايات المتحدة 3859\n",
      "وفي عام 2803\n",
      "لكرة القدم 2173\n",
      "عبد الله 1940\n",
      "الحرب العالمية 1935\n",
      "قبل الميلاد 1597\n",
      "القرن العشرين 1582\n",
      "كأس العالم 1472\n",
      "مرة أخرى 1412\n",
      "القرن التاسع 1407\n",
      "التاسع عشر 1362\n",
      "بن عبد 1227\n",
      "محمد بن 1220\n",
      "العالمية الثانية 1157\n",
      "سبيل المثال 1144\n",
      "صلاح الدين 1104\n",
      "الأمم المتحدة 1067\n",
      "المملكة المتحدة 1059\n",
      "كرة القدم 1036\n",
      "لأول مرة 1035\n"
     ]
    },
    {
     "data": {
      "text/plain": [
       "Text(0.5, 0, 'count')"
      ]
     },
     "execution_count": 26,
     "metadata": {},
     "output_type": "execute_result"
    },
    {
     "data": {
      "image/png": "[encoded data removed]",
      "text/plain": [
       "<Figure size 432x288 with 1 Axes>"
      ]
     },
     "metadata": {
      "needs_background": "light"
     },
     "output_type": "display_data"
    }
   ],
   "source": [
    "import matplotlib.pyplot as plt\n",
    "def get_top_n_bigram(corpus, n=None):\n",
    "    vec = CountVectorizer(ngram_range=(2, 2)).fit(corpus)\n",
    "    bag_of_words = vec.transform(corpus)\n",
    "    sum_words = bag_of_words.sum(axis=0) \n",
    "    words_freq = [(word, sum_words[0, idx]) for word, idx in vec.vocabulary_.items()]\n",
    "    words_freq =sorted(words_freq, key = lambda x: x[1], reverse=True)\n",
    "    return words_freq[:n]\n",
    "common_words = get_top_n_bigram(df_ar['text_clean'], 20)\n",
    "for word, freq in common_words:\n",
    "    print(word, freq)\n",
    "df2 = pd.DataFrame(common_words, columns = ['text_clean' , 'count'])\n",
    "df2.groupby('text_clean').sum()['count'].sort_values(ascending=False).plot.barh().invert_yaxis()\n",
    "plt.title('Top 20 MSA Arabic Bigrams from Wiki')\n",
    "plt.xlabel('count')"
   ]
  },
  {
   "cell_type": "code",
   "execution_count": 28,
   "metadata": {
    "scrolled": true
   },
   "outputs": [
    {
     "name": "stderr",
     "output_type": "stream",
     "text": [
      "/home/dog/myENV/lib/python3.5/site-packages/ipykernel_launcher.py:1: SettingWithCopyWarning: \n",
      "A value is trying to be set on a copy of a slice from a DataFrame.\n",
      "Try using .loc[row_indexer,col_indexer] = value instead\n",
      "\n",
      "See the caveats in the documentation: http://pandas.pydata.org/pandas-docs/stable/indexing.html#indexing-view-versus-copy\n",
      "  \"\"\"Entry point for launching an IPython kernel.\n"
     ]
    }
   ],
   "source": [
    "#removes stopwords again\n",
    "df_arz['text_clean'] = df_arz['text_clean'].apply(delete_stop_words)"
   ]
  },
  {
   "cell_type": "code",
   "execution_count": 29,
   "metadata": {},
   "outputs": [
    {
     "name": "stdout",
     "output_type": "stream",
     "text": [
      "فى مصر 2198\n",
      "فى سنة 1594\n",
      "اللى كان 1281\n",
      "مصر كنيسة 811\n",
      "فى العالم 724\n",
      "اللى كانت 673\n",
      "مصر فى 618\n",
      "سنة فى 580\n",
      "صلاح الدين 568\n",
      "اتولد فى 564\n",
      "فى القاهره 551\n",
      "فى مدينة 534\n",
      "فى القرن 490\n",
      "فى التقويم 438\n",
      "فى نفس 410\n",
      "التقويم الجريجورى 410\n",
      "فى عهد 402\n",
      "فى السنة 386\n",
      "لحد نهاية 366\n",
      "السنة فى 365\n"
     ]
    },
    {
     "data": {
      "text/plain": [
       "Text(0.5, 0, 'count')"
      ]
     },
     "execution_count": 29,
     "metadata": {},
     "output_type": "execute_result"
    },
    {
     "data": {
      "image/png": "[encoded data removed]",
      "text/plain": [
       "<Figure size 432x288 with 1 Axes>"
      ]
     },
     "metadata": {
      "needs_background": "light"
     },
     "output_type": "display_data"
    }
   ],
   "source": [
    "def get_top_n_bigram(corpus, n=None):\n",
    "    vec = CountVectorizer(ngram_range=(2, 2)).fit(corpus)\n",
    "    bag_of_words = vec.transform(corpus)\n",
    "    sum_words = bag_of_words.sum(axis=0) \n",
    "    words_freq = [(word, sum_words[0, idx]) for word, idx in vec.vocabulary_.items()]\n",
    "    words_freq =sorted(words_freq, key = lambda x: x[1], reverse=True)\n",
    "    return words_freq[:n]\n",
    "common_words = get_top_n_bigram(df_arz['text_clean'], 20)\n",
    "for word, freq in common_words:\n",
    "    print(word, freq)\n",
    "df2 = pd.DataFrame(common_words, columns = ['text_clean' , 'count'])\n",
    "df2.groupby('text_clean').sum()['count'].sort_values(ascending=False).plot.barh().invert_yaxis()\n",
    "plt.title('Top 20 Egyptian Arabic Bigrams from Wiki')\n",
    "plt.xlabel('count')"
   ]
  },
  {
   "cell_type": "markdown",
   "metadata": {},
   "source": [
    "<font color='MediumSeaGreen'> \n",
    "\n",
    "#### Arabic Stemmer"
   ]
  },
  {
   "cell_type": "code",
   "execution_count": 30,
   "metadata": {},
   "outputs": [
    {
     "name": "stdout",
     "output_type": "stream",
     "text": [
      "حرك\n"
     ]
    }
   ],
   "source": [
    "#run check that the stemmer works\n",
    "import nltk\n",
    "from nltk.stem.isri import ISRIStemmer\n",
    "stemmer  = ISRIStemmer()\n",
    "w= 'حركات'\n",
    "print(stemmer .stem(w))"
   ]
  },
  {
   "cell_type": "code",
   "execution_count": 31,
   "metadata": {},
   "outputs": [
    {
     "data": {
      "text/html": [
       "<div>\n",
       "<style scoped>\n",
       "    .dataframe tbody tr th:only-of-type {\n",
       "        vertical-align: middle;\n",
       "    }\n",
       "\n",
       "    .dataframe tbody tr th {\n",
       "        vertical-align: top;\n",
       "    }\n",
       "\n",
       "    .dataframe thead th {\n",
       "        text-align: right;\n",
       "    }\n",
       "</style>\n",
       "<table border=\"1\" class=\"dataframe\">\n",
       "  <thead>\n",
       "    <tr style=\"text-align: right;\">\n",
       "      <th></th>\n",
       "      <th>filename</th>\n",
       "      <th>label</th>\n",
       "      <th>text</th>\n",
       "      <th>text_clean</th>\n",
       "      <th>stemmed</th>\n",
       "    </tr>\n",
       "  </thead>\n",
       "  <tbody>\n",
       "    <tr>\n",
       "      <th>0</th>\n",
       "      <td>doc_007757.txt</td>\n",
       "      <td>ar</td>\n",
       "      <td>أبريل\\nأبريل أو نيسان أو يوم اليوم الثاني من ا...</td>\n",
       "      <td>أبريل أبريل نيسان يوم اليوم الثاني الشهر الراب...</td>\n",
       "      <td>[ا, ب, ر, ي, ل,  , ا, ب, ر, ي, ل,  , ن, ي, س, ...</td>\n",
       "    </tr>\n",
       "    <tr>\n",
       "      <th>1</th>\n",
       "      <td>doc_009856.txt</td>\n",
       "      <td>ar</td>\n",
       "      <td>السيرابيوم\\nالسيرابيوم هو اسم يطلق على كل معبد...</td>\n",
       "      <td>السيرابيوم السيرابيوم اسم يطلق معبد هيكل ديني ...</td>\n",
       "      <td>[ا, ل, س, ي, ر, ا, ب, ي, و, م,  , ا, ل, س, ي, ...</td>\n",
       "    </tr>\n",
       "    <tr>\n",
       "      <th>2</th>\n",
       "      <td>doc_002548.txt</td>\n",
       "      <td>ar</td>\n",
       "      <td>أبريل\\nأبريل أو نيسان أو يوم اليوم السابع من ا...</td>\n",
       "      <td>أبريل أبريل نيسان يوم اليوم السابع الشهر الراب...</td>\n",
       "      <td>[ا, ب, ر, ي, ل,  , ا, ب, ر, ي, ل,  , ن, ي, س, ...</td>\n",
       "    </tr>\n",
       "    <tr>\n",
       "      <th>3</th>\n",
       "      <td>doc_001469.txt</td>\n",
       "      <td>ar</td>\n",
       "      <td>الأحزاب السياسية في جنوب السودان\\nهذه الصفحة ه...</td>\n",
       "      <td>الأحزاب السياسية جنوب السودان الصفحة قائمة للأ...</td>\n",
       "      <td>[ا, ل, ا, ح, ز, ا, ب,  , ا, ل, س, ي, ا, س, ي, ...</td>\n",
       "    </tr>\n",
       "    <tr>\n",
       "      <th>4</th>\n",
       "      <td>doc_007734.txt</td>\n",
       "      <td>ar</td>\n",
       "      <td>قصر بعبدا\\nقصر بعبدا بالانجليزية هو مقر الرئاس...</td>\n",
       "      <td>قصر بعبدا قصر بعبدا بالانجليزية مقر الرئاسة ال...</td>\n",
       "      <td>[ق, ص, ر,  , ب, ع, ب, د, ا,  , ق, ص, ر,  , ب, ...</td>\n",
       "    </tr>\n",
       "  </tbody>\n",
       "</table>\n",
       "</div>"
      ],
      "text/plain": [
       "         filename label                                               text  \\\n",
       "0  doc_007757.txt    ar  أبريل\\nأبريل أو نيسان أو يوم اليوم الثاني من ا...   \n",
       "1  doc_009856.txt    ar  السيرابيوم\\nالسيرابيوم هو اسم يطلق على كل معبد...   \n",
       "2  doc_002548.txt    ar  أبريل\\nأبريل أو نيسان أو يوم اليوم السابع من ا...   \n",
       "3  doc_001469.txt    ar  الأحزاب السياسية في جنوب السودان\\nهذه الصفحة ه...   \n",
       "4  doc_007734.txt    ar  قصر بعبدا\\nقصر بعبدا بالانجليزية هو مقر الرئاس...   \n",
       "\n",
       "                                          text_clean  \\\n",
       "0  أبريل أبريل نيسان يوم اليوم الثاني الشهر الراب...   \n",
       "1  السيرابيوم السيرابيوم اسم يطلق معبد هيكل ديني ...   \n",
       "2  أبريل أبريل نيسان يوم اليوم السابع الشهر الراب...   \n",
       "3  الأحزاب السياسية جنوب السودان الصفحة قائمة للأ...   \n",
       "4  قصر بعبدا قصر بعبدا بالانجليزية مقر الرئاسة ال...   \n",
       "\n",
       "                                             stemmed  \n",
       "0  [ا, ب, ر, ي, ل,  , ا, ب, ر, ي, ل,  , ن, ي, س, ...  \n",
       "1  [ا, ل, س, ي, ر, ا, ب, ي, و, م,  , ا, ل, س, ي, ...  \n",
       "2  [ا, ب, ر, ي, ل,  , ا, ب, ر, ي, ل,  , ن, ي, س, ...  \n",
       "3  [ا, ل, ا, ح, ز, ا, ب,  , ا, ل, س, ي, ا, س, ي, ...  \n",
       "4  [ق, ص, ر,  , ب, ع, ب, د, ا,  , ق, ص, ر,  , ب, ...  "
      ]
     },
     "execution_count": 31,
     "metadata": {},
     "output_type": "execute_result"
    }
   ],
   "source": [
    "df['stemmed'] = df[\"text_clean\"].apply(lambda x: [stemmer.stem(y) for y in x])\n",
    "df.head()"
   ]
  },
  {
   "cell_type": "code",
   "execution_count": 33,
   "metadata": {},
   "outputs": [
    {
     "name": "stdout",
     "output_type": "stream",
     "text": [
      "['ا', 'ب', 'ر', 'ي', 'ل', ' ', 'ا', 'ب', 'ر', 'ي', 'ل', ' ', 'ن', 'ي', 'س', 'ا', 'ن', ' ', 'ي', 'و', 'م', ' ', 'ا', 'ل', 'ي', 'و', 'م', ' ', 'ا', 'ل', 'ث', 'ا', 'ن', 'ي', ' ', 'ا', 'ل', 'ش', 'ه', 'ر', ' ', 'ا', 'ل', 'ر', 'ا', 'ب', 'ع', ' ', 'ا', 'ل', 'ي', 'و', 'م', ' ', 'ا', 'ل', 'ث', 'ا', 'ن', 'ي', ' ', 'و', 'ا', 'ل', 'ت', 'س', 'ع', 'و', 'ن', ' ', 'ا', 'ل', 'س', 'ن', 'ة', ' ', 'ا', 'ل', 'ب', 'س', 'ي', 'ط', 'ة', ' ', 'ا', 'ل', 'ي', 'و', 'م', ' ', 'ا', 'ل', 'ث', 'ا', 'ل', 'ث', ' ', 'و', 'ا', 'ل', 'ت', 'س', 'ع', 'و', 'ن', ' ', 'ا', 'ل', 'س', 'ن', 'و', 'ا', 'ت', ' ', 'ا', 'ل', 'ك', 'ب', 'ي', 'س', 'ة', ' ', 'و', 'ف', 'ق', 'ا', ' ', 'ل', 'ل', 'ت', 'ق', 'و', 'ي', 'م', ' ', 'ا', 'ل', 'م', 'ي', 'ل', 'ا', 'د', 'ي', ' ', 'ا', 'ل', 'غ', 'ر', 'ب', 'ي', ' ', 'ا', 'ل', 'غ', 'ر', 'ي', 'غ', 'و', 'ر', 'ي', ' ', 'ي', 'ب', 'ق', 'ى', ' ', 'ب', 'ع', 'د', 'ه', ' ', 'ي', 'و', 'م', 'ا', ' ', 'ل', 'ا', 'ن', 'ت', 'ه', 'ا', 'ء', ' ', 'ا', 'ل', 'س', 'ن', 'ة']\n"
     ]
    }
   ],
   "source": [
    "print(df['stemmed'][0])"
   ]
  },
  {
   "cell_type": "code",
   "execution_count": 36,
   "metadata": {},
   "outputs": [
    {
     "data": {
      "text/html": [
       "<div>\n",
       "<style scoped>\n",
       "    .dataframe tbody tr th:only-of-type {\n",
       "        vertical-align: middle;\n",
       "    }\n",
       "\n",
       "    .dataframe tbody tr th {\n",
       "        vertical-align: top;\n",
       "    }\n",
       "\n",
       "    .dataframe thead th {\n",
       "        text-align: right;\n",
       "    }\n",
       "</style>\n",
       "<table border=\"1\" class=\"dataframe\">\n",
       "  <thead>\n",
       "    <tr style=\"text-align: right;\">\n",
       "      <th></th>\n",
       "      <th>word</th>\n",
       "      <th>count</th>\n",
       "      <th>stemmed</th>\n",
       "    </tr>\n",
       "  </thead>\n",
       "  <tbody>\n",
       "    <tr>\n",
       "      <th>0</th>\n",
       "      <td>عام</td>\n",
       "      <td>45295</td>\n",
       "      <td>[ع, ا, م]</td>\n",
       "    </tr>\n",
       "    <tr>\n",
       "      <th>1</th>\n",
       "      <td>كان</td>\n",
       "      <td>34069</td>\n",
       "      <td>[ك, ا, ن]</td>\n",
       "    </tr>\n",
       "    <tr>\n",
       "      <th>2</th>\n",
       "      <td>كانت</td>\n",
       "      <td>20528</td>\n",
       "      <td>[ك, ا, ن, ت]</td>\n",
       "    </tr>\n",
       "    <tr>\n",
       "      <th>3</th>\n",
       "      <td>وقد</td>\n",
       "      <td>18980</td>\n",
       "      <td>[و, ق, د]</td>\n",
       "    </tr>\n",
       "    <tr>\n",
       "      <th>4</th>\n",
       "      <td>وفي</td>\n",
       "      <td>17888</td>\n",
       "      <td>[و, ف, ي]</td>\n",
       "    </tr>\n",
       "  </tbody>\n",
       "</table>\n",
       "</div>"
      ],
      "text/plain": [
       "   word  count       stemmed\n",
       "0   عام  45295     [ع, ا, م]\n",
       "1   كان  34069     [ك, ا, ن]\n",
       "2  كانت  20528  [ك, ا, ن, ت]\n",
       "3   وقد  18980     [و, ق, د]\n",
       "4   وفي  17888     [و, ف, ي]"
      ]
     },
     "execution_count": 36,
     "metadata": {},
     "output_type": "execute_result"
    }
   ],
   "source": [
    "df1_ar['stemmed'] = df1_ar[\"word\"].apply(lambda x: [stemmer.stem(y) for y in x])\n",
    "df1_ar.head()"
   ]
  },
  {
   "cell_type": "code",
   "execution_count": 39,
   "metadata": {},
   "outputs": [
    {
     "data": {
      "text/plain": [
       "'سمي'"
      ]
     },
     "execution_count": 39,
     "metadata": {},
     "output_type": "execute_result"
    }
   ],
   "source": [
    "from snowballstemmer import stemmer\n",
    "ar_stemmer = stemmer(\"arabic\")\n",
    "ar_stemmer.stemWord(u\"فسميتموها\") #exmaple to check that it works"
   ]
  },
  {
   "cell_type": "code",
   "execution_count": 40,
   "metadata": {},
   "outputs": [
    {
     "data": {
      "text/html": [
       "<div>\n",
       "<style scoped>\n",
       "    .dataframe tbody tr th:only-of-type {\n",
       "        vertical-align: middle;\n",
       "    }\n",
       "\n",
       "    .dataframe tbody tr th {\n",
       "        vertical-align: top;\n",
       "    }\n",
       "\n",
       "    .dataframe thead th {\n",
       "        text-align: right;\n",
       "    }\n",
       "</style>\n",
       "<table border=\"1\" class=\"dataframe\">\n",
       "  <thead>\n",
       "    <tr style=\"text-align: right;\">\n",
       "      <th></th>\n",
       "      <th>filename</th>\n",
       "      <th>label</th>\n",
       "      <th>text</th>\n",
       "      <th>text_clean</th>\n",
       "      <th>stemmed</th>\n",
       "      <th>stemmed 2</th>\n",
       "    </tr>\n",
       "  </thead>\n",
       "  <tbody>\n",
       "    <tr>\n",
       "      <th>0</th>\n",
       "      <td>doc_007757.txt</td>\n",
       "      <td>ar</td>\n",
       "      <td>أبريل\\nأبريل أو نيسان أو يوم اليوم الثاني من ا...</td>\n",
       "      <td>أبريل أبريل نيسان يوم اليوم الثاني الشهر الراب...</td>\n",
       "      <td>[ا, ب, ر, ي, ل,  , ا, ب, ر, ي, ل,  , ن, ي, س, ...</td>\n",
       "      <td>[ء, ب, ر, ي, ل,  , ء, ب, ر, ي, ل,  , ن, ي, س, ...</td>\n",
       "    </tr>\n",
       "    <tr>\n",
       "      <th>1</th>\n",
       "      <td>doc_009856.txt</td>\n",
       "      <td>ar</td>\n",
       "      <td>السيرابيوم\\nالسيرابيوم هو اسم يطلق على كل معبد...</td>\n",
       "      <td>السيرابيوم السيرابيوم اسم يطلق معبد هيكل ديني ...</td>\n",
       "      <td>[ا, ل, س, ي, ر, ا, ب, ي, و, م,  , ا, ل, س, ي, ...</td>\n",
       "      <td>[ا, ل, س, ي, ر, ا, ب, ي, و, م,  , ا, ل, س, ي, ...</td>\n",
       "    </tr>\n",
       "    <tr>\n",
       "      <th>2</th>\n",
       "      <td>doc_002548.txt</td>\n",
       "      <td>ar</td>\n",
       "      <td>أبريل\\nأبريل أو نيسان أو يوم اليوم السابع من ا...</td>\n",
       "      <td>أبريل أبريل نيسان يوم اليوم السابع الشهر الراب...</td>\n",
       "      <td>[ا, ب, ر, ي, ل,  , ا, ب, ر, ي, ل,  , ن, ي, س, ...</td>\n",
       "      <td>[ء, ب, ر, ي, ل,  , ء, ب, ر, ي, ل,  , ن, ي, س, ...</td>\n",
       "    </tr>\n",
       "    <tr>\n",
       "      <th>3</th>\n",
       "      <td>doc_001469.txt</td>\n",
       "      <td>ar</td>\n",
       "      <td>الأحزاب السياسية في جنوب السودان\\nهذه الصفحة ه...</td>\n",
       "      <td>الأحزاب السياسية جنوب السودان الصفحة قائمة للأ...</td>\n",
       "      <td>[ا, ل, ا, ح, ز, ا, ب,  , ا, ل, س, ي, ا, س, ي, ...</td>\n",
       "      <td>[ا, ل, ء, ح, ز, ا, ب,  , ا, ل, س, ي, ا, س, ي, ...</td>\n",
       "    </tr>\n",
       "    <tr>\n",
       "      <th>4</th>\n",
       "      <td>doc_007734.txt</td>\n",
       "      <td>ar</td>\n",
       "      <td>قصر بعبدا\\nقصر بعبدا بالانجليزية هو مقر الرئاس...</td>\n",
       "      <td>قصر بعبدا قصر بعبدا بالانجليزية مقر الرئاسة ال...</td>\n",
       "      <td>[ق, ص, ر,  , ب, ع, ب, د, ا,  , ق, ص, ر,  , ب, ...</td>\n",
       "      <td>[ق, ص, ر,  , ب, ع, ب, د, ا,  , ق, ص, ر,  , ب, ...</td>\n",
       "    </tr>\n",
       "  </tbody>\n",
       "</table>\n",
       "</div>"
      ],
      "text/plain": [
       "         filename label                                               text  \\\n",
       "0  doc_007757.txt    ar  أبريل\\nأبريل أو نيسان أو يوم اليوم الثاني من ا...   \n",
       "1  doc_009856.txt    ar  السيرابيوم\\nالسيرابيوم هو اسم يطلق على كل معبد...   \n",
       "2  doc_002548.txt    ar  أبريل\\nأبريل أو نيسان أو يوم اليوم السابع من ا...   \n",
       "3  doc_001469.txt    ar  الأحزاب السياسية في جنوب السودان\\nهذه الصفحة ه...   \n",
       "4  doc_007734.txt    ar  قصر بعبدا\\nقصر بعبدا بالانجليزية هو مقر الرئاس...   \n",
       "\n",
       "                                          text_clean  \\\n",
       "0  أبريل أبريل نيسان يوم اليوم الثاني الشهر الراب...   \n",
       "1  السيرابيوم السيرابيوم اسم يطلق معبد هيكل ديني ...   \n",
       "2  أبريل أبريل نيسان يوم اليوم السابع الشهر الراب...   \n",
       "3  الأحزاب السياسية جنوب السودان الصفحة قائمة للأ...   \n",
       "4  قصر بعبدا قصر بعبدا بالانجليزية مقر الرئاسة ال...   \n",
       "\n",
       "                                             stemmed  \\\n",
       "0  [ا, ب, ر, ي, ل,  , ا, ب, ر, ي, ل,  , ن, ي, س, ...   \n",
       "1  [ا, ل, س, ي, ر, ا, ب, ي, و, م,  , ا, ل, س, ي, ...   \n",
       "2  [ا, ب, ر, ي, ل,  , ا, ب, ر, ي, ل,  , ن, ي, س, ...   \n",
       "3  [ا, ل, ا, ح, ز, ا, ب,  , ا, ل, س, ي, ا, س, ي, ...   \n",
       "4  [ق, ص, ر,  , ب, ع, ب, د, ا,  , ق, ص, ر,  , ب, ...   \n",
       "\n",
       "                                           stemmed 2  \n",
       "0  [ء, ب, ر, ي, ل,  , ء, ب, ر, ي, ل,  , ن, ي, س, ...  \n",
       "1  [ا, ل, س, ي, ر, ا, ب, ي, و, م,  , ا, ل, س, ي, ...  \n",
       "2  [ء, ب, ر, ي, ل,  , ء, ب, ر, ي, ل,  , ن, ي, س, ...  \n",
       "3  [ا, ل, ء, ح, ز, ا, ب,  , ا, ل, س, ي, ا, س, ي, ...  \n",
       "4  [ق, ص, ر,  , ب, ع, ب, د, ا,  , ق, ص, ر,  , ب, ...  "
      ]
     },
     "execution_count": 40,
     "metadata": {},
     "output_type": "execute_result"
    }
   ],
   "source": [
    "df['stemmed 2'] = df[\"text_clean\"].apply(lambda x: [ar_stemmer.stemWord(y) for y in x])\n",
    "df.head()"
   ]
  },
  {
   "cell_type": "markdown",
   "metadata": {},
   "source": [
    "Stemming Arabic words has proven to be quite difficult. Both NLTK's ISRIStemmer and the snowballstemmer reduced all the Arabic words to a single letter, instead of their three letter root. In process of trying other packages from GitHub."
   ]
  },
  {
   "cell_type": "markdown",
   "metadata": {},
   "source": [
    "<font color='MediumSeaGreen'> \n",
    "\n",
    "#### Rare Words List"
   ]
  },
  {
   "cell_type": "code",
   "execution_count": 30,
   "metadata": {},
   "outputs": [
    {
     "data": {
      "text/plain": [
       "بغدى             1\n",
       "اربد             1\n",
       "المسلوخة         1\n",
       "أخالتسيخه        1\n",
       "متكلا            1\n",
       "ساخطه            1\n",
       "قدسون            1\n",
       "وتشيليابتسك      1\n",
       "نسختنا           1\n",
       "الجليسيرين       1\n",
       "والبوسليسترين    1\n",
       "ألبانيتين        1\n",
       "إزيكم            1\n",
       "فتستضيف          1\n",
       "بعملاتها         1\n",
       "وتحوز            1\n",
       "نهون             1\n",
       "الشعبوي          1\n",
       "إبراهين          1\n",
       "ونهوض            1\n",
       "فالغنى           1\n",
       "تلقيحه           1\n",
       "الأحبال          1\n",
       "للنتقل           1\n",
       "كالانخفاضات      1\n",
       "dtype: int64"
      ]
     },
     "execution_count": 30,
     "metadata": {},
     "output_type": "execute_result"
    }
   ],
   "source": [
    "freq = pd.Series(' '.join(df_ar['text_clean']).split()).value_counts()[-25:]\n",
    "freq #rare words in df_ar"
   ]
  },
  {
   "cell_type": "code",
   "execution_count": 31,
   "metadata": {},
   "outputs": [
    {
     "data": {
      "text/plain": [
       "شاهو             1\n",
       "ديكارتو          1\n",
       "بتوصفهم          1\n",
       "الارتدوكسيه      1\n",
       "أيات             1\n",
       "لصيغ             1\n",
       "عوضا             1\n",
       "سيڤيلا           1\n",
       "ربيئل            1\n",
       "أجدادها          1\n",
       "الصوغيره         1\n",
       "ازبيجان          1\n",
       "والدكاترة        1\n",
       "بيعتمدش          1\n",
       "عالقة            1\n",
       "چيوجرافيك        1\n",
       "مباركة           1\n",
       "وتفصل            1\n",
       "وانشدي           1\n",
       "تسلمش            1\n",
       "الفكهانى         1\n",
       "للقديسة          1\n",
       "المركزالثقافى    1\n",
       "الدياب           1\n",
       "بتبسط            1\n",
       "dtype: int64"
      ]
     },
     "execution_count": 31,
     "metadata": {},
     "output_type": "execute_result"
    }
   ],
   "source": [
    "freq2 = pd.Series(' '.join(df_arz['text_clean']).split()).value_counts()[-25:]\n",
    "freq2 #rare words in df_arz"
   ]
  },
  {
   "cell_type": "markdown",
   "metadata": {},
   "source": [
    "<font color='MediumSeaGreen'> \n",
    "\n",
    "#### Find Differences in Lists"
   ]
  },
  {
   "cell_type": "code",
   "execution_count": 41,
   "metadata": {},
   "outputs": [],
   "source": [
    "import numpy as np\n",
    "from sklearn.feature_extraction.text import CountVectorizer\n",
    "count = CountVectorizer()\n",
    "bag_of_words_ar = count.fit_transform(df_ar['text_clean'])\n",
    "feature_names_ar = count.get_feature_names()"
   ]
  },
  {
   "cell_type": "code",
   "execution_count": 42,
   "metadata": {},
   "outputs": [],
   "source": [
    "bag_of_words_arz = count.fit_transform(df_arz['text_clean'])\n",
    "feature_names_arz = count.get_feature_names()"
   ]
  },
  {
   "cell_type": "code",
   "execution_count": 35,
   "metadata": {},
   "outputs": [],
   "source": [
    "diff_egy = set(feature_names_ar) ^ set(feature_names_arz)"
   ]
  },
  {
   "cell_type": "code",
   "execution_count": 43,
   "metadata": {},
   "outputs": [],
   "source": [
    "egyptian_arabic = list(diff_egy)"
   ]
  },
  {
   "cell_type": "code",
   "execution_count": 37,
   "metadata": {},
   "outputs": [],
   "source": [
    "#renders a list of 318,000 words \n",
    "arz = pd.DataFrame(egyptian_arabic) \n",
    "arz.to_excel(\"ARZ only.xlsx\")"
   ]
  },
  {
   "cell_type": "markdown",
   "metadata": {},
   "source": [
    "<font color='MediumSeaGreen'> \n",
    "\n",
    "# Dialect Detection with Machine Learning"
   ]
  },
  {
   "cell_type": "markdown",
   "metadata": {},
   "source": [
    "Our goal is to classify text data into dialectical categories. According to SciKit learn's machine learning map,  https://scikit-learn.org/stable/tutorial/machine_learning_map/, the first model to detect the categories with less than 100K samples would be a Linear Support Vector Machine, and if that doesn't work we should use a Naive Bayes model. However, we will explore how to select a model for this project."
   ]
  },
  {
   "cell_type": "code",
   "execution_count": 59,
   "metadata": {},
   "outputs": [],
   "source": [
    "df.drop(columns=['filename', 'text'], inplace=True)"
   ]
  },
  {
   "cell_type": "code",
   "execution_count": 60,
   "metadata": {},
   "outputs": [
    {
     "data": {
      "text/html": [
       "<div>\n",
       "<style scoped>\n",
       "    .dataframe tbody tr th:only-of-type {\n",
       "        vertical-align: middle;\n",
       "    }\n",
       "\n",
       "    .dataframe tbody tr th {\n",
       "        vertical-align: top;\n",
       "    }\n",
       "\n",
       "    .dataframe thead th {\n",
       "        text-align: right;\n",
       "    }\n",
       "</style>\n",
       "<table border=\"1\" class=\"dataframe\">\n",
       "  <thead>\n",
       "    <tr style=\"text-align: right;\">\n",
       "      <th></th>\n",
       "      <th>label</th>\n",
       "      <th>text_clean</th>\n",
       "    </tr>\n",
       "  </thead>\n",
       "  <tbody>\n",
       "    <tr>\n",
       "      <th>0</th>\n",
       "      <td>ar</td>\n",
       "      <td>أبريل أبريل نيسان يوم اليوم الثاني الشهر الراب...</td>\n",
       "    </tr>\n",
       "    <tr>\n",
       "      <th>1</th>\n",
       "      <td>ar</td>\n",
       "      <td>السيرابيوم السيرابيوم اسم يطلق معبد هيكل ديني ...</td>\n",
       "    </tr>\n",
       "    <tr>\n",
       "      <th>2</th>\n",
       "      <td>ar</td>\n",
       "      <td>أبريل أبريل نيسان يوم اليوم السابع الشهر الراب...</td>\n",
       "    </tr>\n",
       "    <tr>\n",
       "      <th>3</th>\n",
       "      <td>ar</td>\n",
       "      <td>الأحزاب السياسية جنوب السودان الصفحة قائمة للأ...</td>\n",
       "    </tr>\n",
       "    <tr>\n",
       "      <th>4</th>\n",
       "      <td>ar</td>\n",
       "      <td>قصر بعبدا قصر بعبدا بالانجليزية مقر الرئاسة ال...</td>\n",
       "    </tr>\n",
       "  </tbody>\n",
       "</table>\n",
       "</div>"
      ],
      "text/plain": [
       "  label                                         text_clean\n",
       "0    ar  أبريل أبريل نيسان يوم اليوم الثاني الشهر الراب...\n",
       "1    ar  السيرابيوم السيرابيوم اسم يطلق معبد هيكل ديني ...\n",
       "2    ar  أبريل أبريل نيسان يوم اليوم السابع الشهر الراب...\n",
       "3    ar  الأحزاب السياسية جنوب السودان الصفحة قائمة للأ...\n",
       "4    ar  قصر بعبدا قصر بعبدا بالانجليزية مقر الرئاسة ال..."
      ]
     },
     "execution_count": 60,
     "metadata": {},
     "output_type": "execute_result"
    }
   ],
   "source": [
    "df.head()"
   ]
  },
  {
   "cell_type": "markdown",
   "metadata": {},
   "source": [
    "<font color='MediumSeaGreen'> \n",
    "\n",
    "### Convert Text to Numerical Features"
   ]
  },
  {
   "cell_type": "code",
   "execution_count": 131,
   "metadata": {},
   "outputs": [],
   "source": [
    "from sklearn.model_selection import train_test_split\n",
    "\n",
    "data = df['text_clean'].astype(str)\n",
    "target = df['label'].astype('category')\n",
    "\n",
    "# Split dataset into training set and test set before feature extraction\n",
    "X_train, X_test, y_train, y_test = train_test_split(data,target, test_size=0.4,random_state=109) # 60% training and 40% test"
   ]
  },
  {
   "cell_type": "code",
   "execution_count": 132,
   "metadata": {},
   "outputs": [
    {
     "data": {
      "text/plain": [
       "(11317, 299688)"
      ]
     },
     "execution_count": 132,
     "metadata": {},
     "output_type": "execute_result"
    }
   ],
   "source": [
    "#feature extractin starts with counting the unique features\n",
    "from sklearn.feature_extraction.text import CountVectorizer\n",
    "count_vect = CountVectorizer()\n",
    "X_train_counts = count_vect.fit_transform(X_train)\n",
    "X_train_counts.shape"
   ]
  },
  {
   "cell_type": "code",
   "execution_count": 133,
   "metadata": {},
   "outputs": [
    {
     "data": {
      "text/plain": [
       "(11317, 299688)"
      ]
     },
     "execution_count": 133,
     "metadata": {},
     "output_type": "execute_result"
    }
   ],
   "source": [
    "#then transforms the features\n",
    "from sklearn.feature_extraction.text import TfidfTransformer\n",
    "tf_transformer = TfidfTransformer(use_idf=False).fit(X_train_counts)\n",
    "X_train_tf = tf_transformer.transform(X_train_counts)\n",
    "X_train_tf.shape"
   ]
  },
  {
   "cell_type": "code",
   "execution_count": 134,
   "metadata": {},
   "outputs": [
    {
     "data": {
      "text/plain": [
       "(11317, 299688)"
      ]
     },
     "execution_count": 134,
     "metadata": {},
     "output_type": "execute_result"
    }
   ],
   "source": [
    "tfidf_transformer = TfidfTransformer()\n",
    "X_train_tfidf = tfidf_transformer.fit_transform(X_train_counts)\n",
    "X_train_tfidf.shape"
   ]
  },
  {
   "cell_type": "markdown",
   "metadata": {},
   "source": [
    "<font color='MediumSeaGreen'> \n",
    "\n",
    "### Linear Support Vector Machine (SVM)"
   ]
  },
  {
   "cell_type": "code",
   "execution_count": 18,
   "metadata": {},
   "outputs": [],
   "source": [
    "from sklearn.pipeline import Pipeline\n",
    "from sklearn.svm import LinearSVC\n",
    "text_clf = Pipeline([('vect', CountVectorizer()),\n",
    "                     ('tfidf', TfidfTransformer()),\n",
    "                     ('clf', LinearSVC(random_state=0, tol=1e-5)),\n",
    "                    ])"
   ]
  },
  {
   "cell_type": "code",
   "execution_count": 19,
   "metadata": {},
   "outputs": [
    {
     "data": {
      "text/plain": [
       "Pipeline(memory=None,\n",
       "     steps=[('vect', CountVectorizer(analyzer='word', binary=False, decode_error='strict',\n",
       "        dtype=<class 'numpy.int64'>, encoding='utf-8', input='content',\n",
       "        lowercase=True, max_df=1.0, max_features=None, min_df=1,\n",
       "        ngram_range=(1, 1), preprocessor=None, stop_words=None,\n",
       "        strip...hinge', max_iter=1000,\n",
       "     multi_class='ovr', penalty='l2', random_state=0, tol=1e-05, verbose=0))])"
      ]
     },
     "execution_count": 19,
     "metadata": {},
     "output_type": "execute_result"
    }
   ],
   "source": [
    "text_clf.fit(X_train, y_train)  "
   ]
  },
  {
   "cell_type": "code",
   "execution_count": 20,
   "metadata": {},
   "outputs": [
    {
     "data": {
      "text/plain": [
       "0.9734958918632388"
      ]
     },
     "execution_count": 20,
     "metadata": {},
     "output_type": "execute_result"
    }
   ],
   "source": [
    "import numpy as np\n",
    "predicted = text_clf.predict(X_test)\n",
    "np.mean(predicted == y_test) "
   ]
  },
  {
   "cell_type": "code",
   "execution_count": 21,
   "metadata": {},
   "outputs": [
    {
     "name": "stdout",
     "output_type": "stream",
     "text": [
      "categories: Index(['ar', 'arz'], dtype='object')\n"
     ]
    }
   ],
   "source": [
    "target = df['label'].astype('category')\n",
    "print('categories: {}'.format(target.cat.categories))"
   ]
  },
  {
   "cell_type": "code",
   "execution_count": 22,
   "metadata": {},
   "outputs": [
    {
     "name": "stdout",
     "output_type": "stream",
     "text": [
      "              precision    recall  f1-score   support\n",
      "\n",
      "          ar       0.97      0.98      0.97      3923\n",
      "         arz       0.98      0.97      0.97      3623\n",
      "\n",
      "   micro avg       0.97      0.97      0.97      7546\n",
      "   macro avg       0.97      0.97      0.97      7546\n",
      "weighted avg       0.97      0.97      0.97      7546\n",
      "\n"
     ]
    }
   ],
   "source": [
    "from sklearn import metrics\n",
    "print(metrics.classification_report(y_test, predicted,target_names=target.cat.categories))"
   ]
  },
  {
   "cell_type": "code",
   "execution_count": 23,
   "metadata": {},
   "outputs": [
    {
     "data": {
      "text/plain": [
       "array([[3849,   74],\n",
       "       [ 126, 3497]])"
      ]
     },
     "execution_count": 23,
     "metadata": {},
     "output_type": "execute_result"
    }
   ],
   "source": [
    "metrics.confusion_matrix(y_test, predicted)"
   ]
  },
  {
   "cell_type": "markdown",
   "metadata": {},
   "source": [
    "<font color='MediumSeaGreen'> \n",
    "\n",
    "### SGDClassifier - Linear SVM"
   ]
  },
  {
   "cell_type": "code",
   "execution_count": 27,
   "metadata": {},
   "outputs": [],
   "source": [
    "from sklearn.pipeline import Pipeline\n",
    "from sklearn.linear_model import SGDClassifier\n",
    "text_clf = Pipeline([('vect', CountVectorizer()),\n",
    "                     ('tfidf', TfidfTransformer()),\n",
    "                     ('clf', SGDClassifier(loss='hinge', penalty='l2',\n",
    "                                           alpha=1e-3, random_state=109,\n",
    "                                           max_iter=5, tol=None,shuffle=True)),\n",
    "                    ])"
   ]
  },
  {
   "cell_type": "code",
   "execution_count": 31,
   "metadata": {},
   "outputs": [
    {
     "name": "stderr",
     "output_type": "stream",
     "text": [
      "/home/dog/myENV/lib/python3.5/site-packages/sklearn/linear_model/stochastic_gradient.py:183: FutureWarning: max_iter and tol parameters have been added in SGDClassifier in 0.19. If max_iter is set but tol is left unset, the default value for tol in 0.19 and 0.20 will be None (which is equivalent to -infinity, so it has no effect) but will change in 0.21 to 1e-3. Specify tol to silence this warning.\n",
      "  FutureWarning)\n"
     ]
    },
    {
     "data": {
      "text/plain": [
       "Pipeline(memory=None,\n",
       "     steps=[('vect', CountVectorizer(analyzer='word', binary=False, decode_error='strict',\n",
       "        dtype=<class 'numpy.int64'>, encoding='utf-8', input='content',\n",
       "        lowercase=True, max_df=1.0, max_features=None, min_df=1,\n",
       "        ngram_range=(1, 1), preprocessor=None, stop_words=None,\n",
       "        strip...om_state=109, shuffle=True, tol=None,\n",
       "       validation_fraction=0.1, verbose=0, warm_start=False))])"
      ]
     },
     "execution_count": 31,
     "metadata": {},
     "output_type": "execute_result"
    }
   ],
   "source": [
    "text_clf.fit(X_train, y_train)  "
   ]
  },
  {
   "cell_type": "code",
   "execution_count": 32,
   "metadata": {},
   "outputs": [
    {
     "data": {
      "text/plain": [
       "0.9550755367081898"
      ]
     },
     "execution_count": 32,
     "metadata": {},
     "output_type": "execute_result"
    }
   ],
   "source": [
    "import numpy as np\n",
    "predicted = text_clf.predict(X_test)\n",
    "np.mean(predicted == y_test) "
   ]
  },
  {
   "cell_type": "code",
   "execution_count": 33,
   "metadata": {},
   "outputs": [
    {
     "name": "stdout",
     "output_type": "stream",
     "text": [
      "              precision    recall  f1-score   support\n",
      "\n",
      "          ar       0.93      0.99      0.96      3923\n",
      "         arz       0.99      0.91      0.95      3623\n",
      "\n",
      "   micro avg       0.96      0.96      0.96      7546\n",
      "   macro avg       0.96      0.95      0.95      7546\n",
      "weighted avg       0.96      0.96      0.95      7546\n",
      "\n"
     ]
    }
   ],
   "source": [
    "from sklearn import metrics\n",
    "print(metrics.classification_report(y_test, predicted,target_names=target.cat.categories))"
   ]
  },
  {
   "cell_type": "code",
   "execution_count": 34,
   "metadata": {},
   "outputs": [
    {
     "data": {
      "text/plain": [
       "array([[3892,   31],\n",
       "       [ 308, 3315]])"
      ]
     },
     "execution_count": 34,
     "metadata": {},
     "output_type": "execute_result"
    }
   ],
   "source": [
    "metrics.confusion_matrix(y_test, predicted)"
   ]
  },
  {
   "cell_type": "markdown",
   "metadata": {},
   "source": [
    "<font color='MediumSeaGreen'> \n",
    "\n",
    "### Multinomial - Naive Bayes"
   ]
  },
  {
   "cell_type": "code",
   "execution_count": 28,
   "metadata": {},
   "outputs": [],
   "source": [
    "from sklearn.naive_bayes import MultinomialNB\n",
    "clf = MultinomialNB().fit(X_train_tfidf, y_train)"
   ]
  },
  {
   "cell_type": "code",
   "execution_count": 29,
   "metadata": {},
   "outputs": [],
   "source": [
    "from sklearn.pipeline import Pipeline\n",
    "text_clf = Pipeline([('vect', CountVectorizer()),\n",
    "                     ('tfidf', TfidfTransformer()),\n",
    "                     ('clf', MultinomialNB()),\n",
    "                    ])"
   ]
  },
  {
   "cell_type": "code",
   "execution_count": 37,
   "metadata": {},
   "outputs": [
    {
     "data": {
      "text/plain": [
       "Pipeline(memory=None,\n",
       "     steps=[('vect', CountVectorizer(analyzer='word', binary=False, decode_error='strict',\n",
       "        dtype=<class 'numpy.int64'>, encoding='utf-8', input='content',\n",
       "        lowercase=True, max_df=1.0, max_features=None, min_df=1,\n",
       "        ngram_range=(1, 1), preprocessor=None, stop_words=None,\n",
       "        strip...inear_tf=False, use_idf=True)), ('clf', MultinomialNB(alpha=1.0, class_prior=None, fit_prior=True))])"
      ]
     },
     "execution_count": 37,
     "metadata": {},
     "output_type": "execute_result"
    }
   ],
   "source": [
    "text_clf.fit(X_train, y_train) "
   ]
  },
  {
   "cell_type": "code",
   "execution_count": 38,
   "metadata": {},
   "outputs": [
    {
     "data": {
      "text/plain": [
       "0.9461966604823747"
      ]
     },
     "execution_count": 38,
     "metadata": {},
     "output_type": "execute_result"
    }
   ],
   "source": [
    "import numpy as np\n",
    "predicted = text_clf.predict(X_test)\n",
    "np.mean(predicted == y_test)"
   ]
  },
  {
   "cell_type": "code",
   "execution_count": 39,
   "metadata": {},
   "outputs": [
    {
     "name": "stdout",
     "output_type": "stream",
     "text": [
      "              precision    recall  f1-score   support\n",
      "\n",
      "          ar       0.91      0.99      0.95      3923\n",
      "         arz       0.99      0.90      0.94      3623\n",
      "\n",
      "   micro avg       0.95      0.95      0.95      7546\n",
      "   macro avg       0.95      0.94      0.95      7546\n",
      "weighted avg       0.95      0.95      0.95      7546\n",
      "\n"
     ]
    }
   ],
   "source": [
    "from sklearn import metrics\n",
    "print(metrics.classification_report(y_test, predicted,target_names=target.cat.categories))"
   ]
  },
  {
   "cell_type": "markdown",
   "metadata": {},
   "source": [
    "<font color='MediumSeaGreen'> \n",
    "\n",
    "### Bernoulli - Naive Bayes"
   ]
  },
  {
   "cell_type": "code",
   "execution_count": 30,
   "metadata": {},
   "outputs": [],
   "source": [
    "from sklearn.naive_bayes import BernoulliNB\n",
    "text_clf = Pipeline([('vect', CountVectorizer()),\n",
    "                     ('tfidf', TfidfTransformer()),\n",
    "                     ('clf', BernoulliNB(alpha=1.0, binarize=0.0, class_prior=None, fit_prior=True)),\n",
    "                    ])"
   ]
  },
  {
   "cell_type": "code",
   "execution_count": 41,
   "metadata": {},
   "outputs": [
    {
     "data": {
      "text/plain": [
       "Pipeline(memory=None,\n",
       "     steps=[('vect', CountVectorizer(analyzer='word', binary=False, decode_error='strict',\n",
       "        dtype=<class 'numpy.int64'>, encoding='utf-8', input='content',\n",
       "        lowercase=True, max_df=1.0, max_features=None, min_df=1,\n",
       "        ngram_range=(1, 1), preprocessor=None, stop_words=None,\n",
       "        strip...se, use_idf=True)), ('clf', BernoulliNB(alpha=1.0, binarize=0.0, class_prior=None, fit_prior=True))])"
      ]
     },
     "execution_count": 41,
     "metadata": {},
     "output_type": "execute_result"
    }
   ],
   "source": [
    "text_clf.fit(X_train, y_train)  "
   ]
  },
  {
   "cell_type": "code",
   "execution_count": 42,
   "metadata": {},
   "outputs": [
    {
     "data": {
      "text/plain": [
       "0.7141531937450305"
      ]
     },
     "execution_count": 42,
     "metadata": {},
     "output_type": "execute_result"
    }
   ],
   "source": [
    "predicted = text_clf.predict(X_test)\n",
    "np.mean(predicted == y_test) "
   ]
  },
  {
   "cell_type": "code",
   "execution_count": 43,
   "metadata": {},
   "outputs": [
    {
     "name": "stdout",
     "output_type": "stream",
     "text": [
      "              precision    recall  f1-score   support\n",
      "\n",
      "          ar       0.98      0.46      0.63      3923\n",
      "         arz       0.63      0.99      0.77      3623\n",
      "\n",
      "   micro avg       0.71      0.71      0.71      7546\n",
      "   macro avg       0.81      0.72      0.70      7546\n",
      "weighted avg       0.81      0.71      0.69      7546\n",
      "\n"
     ]
    }
   ],
   "source": [
    "from sklearn import metrics\n",
    "print(metrics.classification_report(y_test, predicted,target_names=target.cat.categories))"
   ]
  },
  {
   "cell_type": "markdown",
   "metadata": {},
   "source": [
    "<font color='MediumSeaGreen'> \n",
    "\n",
    "### Logistic Regression - Linear Model "
   ]
  },
  {
   "cell_type": "code",
   "execution_count": 32,
   "metadata": {},
   "outputs": [],
   "source": [
    "from sklearn.linear_model import LogisticRegression\n",
    "text_clf = Pipeline([('vect', CountVectorizer()),\n",
    "                     ('tfidf', TfidfTransformer()),\n",
    "                     ('clf', LogisticRegression(random_state=0, solver='lbfgs',multi_class='multinomial')),\n",
    "                    ])"
   ]
  },
  {
   "cell_type": "code",
   "execution_count": 45,
   "metadata": {},
   "outputs": [
    {
     "data": {
      "text/plain": [
       "Pipeline(memory=None,\n",
       "     steps=[('vect', CountVectorizer(analyzer='word', binary=False, decode_error='strict',\n",
       "        dtype=<class 'numpy.int64'>, encoding='utf-8', input='content',\n",
       "        lowercase=True, max_df=1.0, max_features=None, min_df=1,\n",
       "        ngram_range=(1, 1), preprocessor=None, stop_words=None,\n",
       "        strip..., penalty='l2', random_state=0, solver='lbfgs',\n",
       "          tol=0.0001, verbose=0, warm_start=False))])"
      ]
     },
     "execution_count": 45,
     "metadata": {},
     "output_type": "execute_result"
    }
   ],
   "source": [
    "text_clf.fit(X_train, y_train) "
   ]
  },
  {
   "cell_type": "code",
   "execution_count": 46,
   "metadata": {},
   "outputs": [
    {
     "data": {
      "text/plain": [
       "0.9734958918632388"
      ]
     },
     "execution_count": 46,
     "metadata": {},
     "output_type": "execute_result"
    }
   ],
   "source": [
    "predicted = text_clf.predict(X_test)\n",
    "np.mean(predicted == y_test) "
   ]
  },
  {
   "cell_type": "code",
   "execution_count": 47,
   "metadata": {},
   "outputs": [
    {
     "name": "stdout",
     "output_type": "stream",
     "text": [
      "              precision    recall  f1-score   support\n",
      "\n",
      "          ar       0.96      0.99      0.97      3923\n",
      "         arz       0.98      0.96      0.97      3623\n",
      "\n",
      "   micro avg       0.97      0.97      0.97      7546\n",
      "   macro avg       0.97      0.97      0.97      7546\n",
      "weighted avg       0.97      0.97      0.97      7546\n",
      "\n"
     ]
    }
   ],
   "source": [
    "from sklearn import metrics\n",
    "print(metrics.classification_report(y_test, predicted,target_names=target.cat.categories))"
   ]
  },
  {
   "cell_type": "markdown",
   "metadata": {},
   "source": [
    "<font color='MediumSeaGreen'> \n",
    "\n",
    "### Random Forests - Ensemble Model"
   ]
  },
  {
   "cell_type": "code",
   "execution_count": 33,
   "metadata": {},
   "outputs": [],
   "source": [
    "from sklearn.ensemble import RandomForestClassifier\n",
    "text_clf = Pipeline([('vect', CountVectorizer()),\n",
    "                     ('tfidf', TfidfTransformer()),\n",
    "                     ('clf', RandomForestClassifier(n_estimators=100, max_depth=2, random_state=0)),\n",
    "                    ])"
   ]
  },
  {
   "cell_type": "code",
   "execution_count": 49,
   "metadata": {},
   "outputs": [
    {
     "data": {
      "text/plain": [
       "Pipeline(memory=None,\n",
       "     steps=[('vect', CountVectorizer(analyzer='word', binary=False, decode_error='strict',\n",
       "        dtype=<class 'numpy.int64'>, encoding='utf-8', input='content',\n",
       "        lowercase=True, max_df=1.0, max_features=None, min_df=1,\n",
       "        ngram_range=(1, 1), preprocessor=None, stop_words=None,\n",
       "        strip...mators=100, n_jobs=None,\n",
       "            oob_score=False, random_state=0, verbose=0, warm_start=False))])"
      ]
     },
     "execution_count": 49,
     "metadata": {},
     "output_type": "execute_result"
    }
   ],
   "source": [
    "text_clf.fit(X_train, y_train) "
   ]
  },
  {
   "cell_type": "code",
   "execution_count": 50,
   "metadata": {},
   "outputs": [
    {
     "data": {
      "text/plain": [
       "0.7805459846276173"
      ]
     },
     "execution_count": 50,
     "metadata": {},
     "output_type": "execute_result"
    }
   ],
   "source": [
    "predicted = text_clf.predict(X_test)\n",
    "np.mean(predicted == y_test) "
   ]
  },
  {
   "cell_type": "code",
   "execution_count": 51,
   "metadata": {},
   "outputs": [
    {
     "name": "stdout",
     "output_type": "stream",
     "text": [
      "              precision    recall  f1-score   support\n",
      "\n",
      "          ar       0.95      0.61      0.74      3923\n",
      "         arz       0.69      0.97      0.81      3623\n",
      "\n",
      "   micro avg       0.78      0.78      0.78      7546\n",
      "   macro avg       0.82      0.79      0.78      7546\n",
      "weighted avg       0.83      0.78      0.77      7546\n",
      "\n"
     ]
    }
   ],
   "source": [
    "from sklearn import metrics\n",
    "print(metrics.classification_report(y_test, predicted,target_names=target.cat.categories))"
   ]
  },
  {
   "cell_type": "markdown",
   "metadata": {},
   "source": [
    "<font color='MediumSeaGreen'> \n",
    "\n",
    "### Plot Models for Comparison"
   ]
  },
  {
   "cell_type": "code",
   "execution_count": 66,
   "metadata": {},
   "outputs": [],
   "source": [
    "import numpy as np\n",
    "from sklearn import metrics\n",
    "from sklearn.pipeline import Pipeline\n",
    "from sklearn.svm import LinearSVC\n",
    "from sklearn.linear_model import SGDClassifier\n",
    "from sklearn.naive_bayes import MultinomialNB\n",
    "from sklearn.naive_bayes import BernoulliNB\n",
    "from sklearn.linear_model import LogisticRegression\n",
    "from sklearn.ensemble import RandomForestClassifier"
   ]
  },
  {
   "cell_type": "code",
   "execution_count": 67,
   "metadata": {},
   "outputs": [
    {
     "name": "stderr",
     "output_type": "stream",
     "text": [
      "/home/dog/myENV/lib/python3.5/site-packages/sklearn/linear_model/stochastic_gradient.py:183: FutureWarning: max_iter and tol parameters have been added in SGDClassifier in 0.19. If max_iter is set but tol is left unset, the default value for tol in 0.19 and 0.20 will be None (which is equivalent to -infinity, so it has no effect) but will change in 0.21 to 1e-3. Specify tol to silence this warning.\n",
      "  FutureWarning)\n"
     ]
    }
   ],
   "source": [
    "import matplotlib as plt\n",
    "from sklearn.model_selection import cross_val_score\n",
    "\n",
    "models = [\n",
    "    LinearSVC(random_state=0, tol=1e-5),\n",
    "    SGDClassifier(loss='hinge', penalty='l2',\n",
    "                                           alpha=1e-3, random_state=109,\n",
    "                                           max_iter=5, tol=None,shuffle=True),\n",
    "    MultinomialNB(),\n",
    "    BernoulliNB(alpha=1.0, binarize=0.0, class_prior=None, fit_prior=True),\n",
    "    LogisticRegression(random_state=0, solver='lbfgs',multi_class='multinomial'),\n",
    "    RandomForestClassifier(n_estimators=100, max_depth=2, random_state=0)\n",
    "]\n",
    "\n",
    "CV = 5\n",
    "cv_df = pd.DataFrame(index=range(CV * len(models)))\n",
    "entries = []\n",
    "for model in models:\n",
    "    model_name = model.__class__.__name__\n",
    "    accuracies = cross_val_score(model, features, labels, scoring='accuracy', cv=CV)\n",
    "    for fold_idx, accuracy in enumerate(accuracies):\n",
    "        entries.append((model_name, fold_idx, accuracy))\n",
    "\n",
    "cv_df = pd.DataFrame(entries, columns=['model_name', 'fold_idx', 'accuracy'])"
   ]
  },
  {
   "cell_type": "code",
   "execution_count": 68,
   "metadata": {},
   "outputs": [
    {
     "data": {
      "text/plain": [
       "model_name\n",
       "BernoulliNB               0.711676\n",
       "LinearSVC                 0.980826\n",
       "LogisticRegression        0.979235\n",
       "MultinomialNB             0.953787\n",
       "RandomForestClassifier    0.805517\n",
       "SGDClassifier             0.957321\n",
       "Name: accuracy, dtype: float64"
      ]
     },
     "execution_count": 68,
     "metadata": {},
     "output_type": "execute_result"
    }
   ],
   "source": [
    "cv_df.groupby('model_name').accuracy.mean()"
   ]
  },
  {
   "cell_type": "code",
   "execution_count": 36,
   "metadata": {},
   "outputs": [
    {
     "data": {
      "image/png": "[encoded data removed]",
      "text/plain": [
       "<Figure size 1512x1080 with 1 Axes>"
      ]
     },
     "metadata": {},
     "output_type": "display_data"
    }
   ],
   "source": [
    "import seaborn as sns\n",
    "\n",
    "sns.boxplot(x='model_name', y='accuracy', data=cv_df)\n",
    "sns.stripplot(x='model_name', y='accuracy', data=cv_df, \n",
    "              size=12, jitter=True, edgecolor=\"gray\", linewidth=2)\n",
    "sns.set(rc={'figure.figsize':(21,15)})"
   ]
  },
  {
   "cell_type": "markdown",
   "metadata": {},
   "source": [
    "Plot Citation:\n",
    "- https://towardsdatascience.com/multi-class-text-classification-with-scikit-learn-12f1e60e0a9f"
   ]
  },
  {
   "cell_type": "markdown",
   "metadata": {},
   "source": [
    "<font color='MediumSeaGreen'> \n",
    "\n",
    "### Model Selection"
   ]
  },
  {
   "cell_type": "code",
   "execution_count": 135,
   "metadata": {},
   "outputs": [],
   "source": [
    "import matplotlib.pyplot as plt\n",
    "from sklearn.svm import LinearSVC\n",
    "model = Pipeline([('vect', CountVectorizer()),\n",
    "                     ('tfidf', TfidfTransformer()),\n",
    "                     ('clf', LinearSVC(random_state=0, tol=1e-5)),\n",
    "                    ])\n",
    "\n",
    "model.fit(X_train, y_train)\n",
    "\n",
    "y_pred = model.predict(X_test)"
   ]
  },
  {
   "cell_type": "code",
   "execution_count": 136,
   "metadata": {},
   "outputs": [
    {
     "data": {
      "text/plain": [
       "0.9734958918632388"
      ]
     },
     "execution_count": 136,
     "metadata": {},
     "output_type": "execute_result"
    }
   ],
   "source": [
    "import numpy as np\n",
    "predicted = model.predict(X_test)\n",
    "np.mean(predicted == y_test) "
   ]
  },
  {
   "cell_type": "markdown",
   "metadata": {},
   "source": [
    "<font color='MediumSeaGreen'> \n",
    "\n",
    "### Evaluation Metrics for Classification Models"
   ]
  },
  {
   "cell_type": "code",
   "execution_count": 137,
   "metadata": {},
   "outputs": [
    {
     "name": "stdout",
     "output_type": "stream",
     "text": [
      "categories: Index(['ar', 'arz'], dtype='object')\n"
     ]
    }
   ],
   "source": [
    "target = df['label'].astype('category')\n",
    "print('categories: {}'.format(target.cat.categories))"
   ]
  },
  {
   "cell_type": "code",
   "execution_count": 138,
   "metadata": {},
   "outputs": [
    {
     "name": "stdout",
     "output_type": "stream",
     "text": [
      "              precision    recall  f1-score   support\n",
      "\n",
      "          ar       0.97      0.98      0.97      3923\n",
      "         arz       0.98      0.97      0.97      3623\n",
      "\n",
      "   micro avg       0.97      0.97      0.97      7546\n",
      "   macro avg       0.97      0.97      0.97      7546\n",
      "weighted avg       0.97      0.97      0.97      7546\n",
      "\n"
     ]
    }
   ],
   "source": [
    "from sklearn import metrics\n",
    "print(metrics.classification_report(y_test, predicted,target_names=target.cat.categories))"
   ]
  },
  {
   "cell_type": "code",
   "execution_count": 139,
   "metadata": {},
   "outputs": [
    {
     "data": {
      "text/plain": [
       "array([0.97774245, 0.98197721, 0.98860021, 0.98780488, 0.98621421])"
      ]
     },
     "execution_count": 139,
     "metadata": {},
     "output_type": "execute_result"
    }
   ],
   "source": [
    "#to check model, we cross validate on the test data after we used the training data to teach the model\n",
    "from sklearn.model_selection import cross_val_score\n",
    "X, y = data, target\n",
    "scores = cross_val_score(model, X, y, cv=5)\n",
    "scores  "
   ]
  },
  {
   "cell_type": "code",
   "execution_count": 140,
   "metadata": {},
   "outputs": [
    {
     "name": "stdout",
     "output_type": "stream",
     "text": [
      "Accuracy: 0.98 (+/- 0.01)\n"
     ]
    }
   ],
   "source": [
    "print(\"Accuracy: %0.2f (+/- %0.2f)\" % (scores.mean(), scores.std() * 2))"
   ]
  },
  {
   "cell_type": "code",
   "execution_count": 39,
   "metadata": {
    "scrolled": false
   },
   "outputs": [
    {
     "data": {
      "image/png": "[encoded data removed]",
      "text/plain": [
       "<Figure size 720x720 with 2 Axes>"
      ]
     },
     "metadata": {},
     "output_type": "display_data"
    }
   ],
   "source": [
    "#create a confusion matrix to see what was accuratly predicted and what was not\n",
    "from sklearn.metrics import confusion_matrix\n",
    "conf_mat = confusion_matrix(y_test, y_pred)\n",
    "fig, ax = plt.subplots(figsize=(10,10))\n",
    "sns.heatmap(conf_mat, annot=True, fmt='d',\n",
    "            xticklabels=target.cat.categories, yticklabels=target.cat.categories)\n",
    "plt.ylabel('Actual')\n",
    "plt.xlabel('Predicted')\n",
    "plt.show()"
   ]
  },
  {
   "cell_type": "code",
   "execution_count": 143,
   "metadata": {},
   "outputs": [
    {
     "data": {
      "text/plain": [
       "array([0.99565876, 0.99662921, 0.99806038, 0.99858032, 0.99826808])"
      ]
     },
     "execution_count": 143,
     "metadata": {},
     "output_type": "execute_result"
    }
   ],
   "source": [
    "#we change the cross validation scoring to roc_auc\n",
    "from sklearn.model_selection import cross_val_score\n",
    "scores = cross_val_score(model, X, y, cv=5, scoring='roc_auc')\n",
    "scores  "
   ]
  },
  {
   "cell_type": "code",
   "execution_count": 144,
   "metadata": {},
   "outputs": [
    {
     "name": "stdout",
     "output_type": "stream",
     "text": [
      "Accuracy: 1.00 (+/- 0.00)\n"
     ]
    }
   ],
   "source": [
    "print(\"Accuracy: %0.2f (+/- %0.2f)\" % (scores.mean(), scores.std() * 2))"
   ]
  },
  {
   "cell_type": "code",
   "execution_count": 151,
   "metadata": {},
   "outputs": [
    {
     "data": {
      "text/plain": [
       "array([0.97467713, 0.97219905])"
      ]
     },
     "execution_count": 151,
     "metadata": {},
     "output_type": "execute_result"
    }
   ],
   "source": [
    "#next we calculate the f1 score\n",
    "from sklearn.metrics import f1_score\n",
    "f1_score(y_test, y_pred, average=None)"
   ]
  },
  {
   "cell_type": "code",
   "execution_count": 153,
   "metadata": {},
   "outputs": [
    {
     "data": {
      "text/plain": [
       "0.9731795382954611"
      ]
     },
     "execution_count": 153,
     "metadata": {},
     "output_type": "execute_result"
    }
   ],
   "source": [
    "#compare to a balanced accuracy score\n",
    "from sklearn.metrics import balanced_accuracy_score\n",
    "balanced_accuracy_score(y_test, y_pred)"
   ]
  },
  {
   "cell_type": "markdown",
   "metadata": {},
   "source": [
    "<font color='MediumSeaGreen'> \n",
    "\n",
    "## Deploy Dialect Detection on New Data in Arabic Tweets"
   ]
  },
  {
   "cell_type": "markdown",
   "metadata": {},
   "source": [
    "<font color='MediumSeaGreen'> \n",
    "\n",
    "#### Load Sample Arabic Tweets Dataset"
   ]
  },
  {
   "cell_type": "code",
   "execution_count": 154,
   "metadata": {},
   "outputs": [],
   "source": [
    "import pandas as pd\n",
    "df_1_1 = pd.read_excel('Test.xlsx') #tweets geolocated from Cairo\n",
    "df_2_2 = pd.read_excel('Test1.xlsx') #tweets geolocated from Cairo\n",
    "df_3_3 = pd.read_excel('AlArabiya.xlsx') #tweets from MSA media\n",
    "df_4_4 = pd.read_excel('Test_b.xlsx') #tweets from MSA media"
   ]
  },
  {
   "cell_type": "code",
   "execution_count": 155,
   "metadata": {},
   "outputs": [],
   "source": [
    "frames = [df_1_1,df_2_2,df_3_3, df_4_4]\n",
    "df1 = pd.concat(frames)"
   ]
  },
  {
   "cell_type": "markdown",
   "metadata": {},
   "source": [
    "<font color='MediumSeaGreen'> \n",
    "\n",
    "#### Clean Text"
   ]
  },
  {
   "cell_type": "code",
   "execution_count": 156,
   "metadata": {},
   "outputs": [],
   "source": [
    "import re\n",
    "df1['clean_tweet'] = df1.Message.str.replace('[^\\w\\s#@/:%.,_-]', '', flags=re.UNICODE) #removes emojis\n",
    "df1['clean_tweet'] = df1.clean_tweet.str.replace('@[_A-Za-z0-9]+', '') #removes handles\n",
    "df1['clean_tweet'] = df1.clean_tweet.str.replace('RT', '') #removes rt\n",
    "df1['clean_tweet'] = df1.clean_tweet.str.replace('#',' ') #removes hashtag symbol only\n",
    "df1['clean_tweet'] = df1.clean_tweet.str.replace(r'http\\S+', '', regex=True).replace(r'www\\S+', '', regex=True) #removes links\n",
    "df1['clean_tweet'] = df1.clean_tweet.str.replace('\\d+', '') #removes numbers\n",
    "df1['clean_tweet'] = df1.clean_tweet.str.replace('\\n', ' ') #removes new line\n",
    "df1['clean_tweet'] = df1.clean_tweet.str.replace('_', '') #removes underscore\n",
    "df1['clean_tweet'] = df1.clean_tweet.str.replace('[^\\w\\s]','') #removes punctuation"
   ]
  },
  {
   "cell_type": "code",
   "execution_count": 157,
   "metadata": {},
   "outputs": [
    {
     "data": {
      "text/html": [
       "<div>\n",
       "<style scoped>\n",
       "    .dataframe tbody tr th:only-of-type {\n",
       "        vertical-align: middle;\n",
       "    }\n",
       "\n",
       "    .dataframe tbody tr th {\n",
       "        vertical-align: top;\n",
       "    }\n",
       "\n",
       "    .dataframe thead th {\n",
       "        text-align: right;\n",
       "    }\n",
       "</style>\n",
       "<table border=\"1\" class=\"dataframe\">\n",
       "  <thead>\n",
       "    <tr style=\"text-align: right;\">\n",
       "      <th></th>\n",
       "      <th>Created At</th>\n",
       "      <th>Followers</th>\n",
       "      <th>Following</th>\n",
       "      <th>Likes</th>\n",
       "      <th>Location</th>\n",
       "      <th>Retweet Count</th>\n",
       "      <th>clean_tweet</th>\n",
       "    </tr>\n",
       "  </thead>\n",
       "  <tbody>\n",
       "    <tr>\n",
       "      <th>0</th>\n",
       "      <td>2019-06-18 19:25:01</td>\n",
       "      <td>441</td>\n",
       "      <td>5000</td>\n",
       "      <td>1604</td>\n",
       "      <td>Mumbai, India</td>\n",
       "      <td>0</td>\n",
       "      <td>مرحبا مكتب استقدام مومبائ الهند سائق خاص و عام...</td>\n",
       "    </tr>\n",
       "    <tr>\n",
       "      <th>1</th>\n",
       "      <td>2019-06-18 19:25:01</td>\n",
       "      <td>72</td>\n",
       "      <td>187</td>\n",
       "      <td>771</td>\n",
       "      <td>دولة الكويت</td>\n",
       "      <td>0</td>\n",
       "      <td>وإنني لا أملك شيئا ثمينا سوى أمي</td>\n",
       "    </tr>\n",
       "    <tr>\n",
       "      <th>2</th>\n",
       "      <td>2019-06-18 19:25:01</td>\n",
       "      <td>439</td>\n",
       "      <td>381</td>\n",
       "      <td>2152</td>\n",
       "      <td>NaN</td>\n",
       "      <td>0</td>\n",
       "      <td>الموضوع بيكسب فعلا انت ما بكدبش</td>\n",
       "    </tr>\n",
       "    <tr>\n",
       "      <th>3</th>\n",
       "      <td>2019-06-18 19:25:01</td>\n",
       "      <td>178</td>\n",
       "      <td>179</td>\n",
       "      <td>2622</td>\n",
       "      <td>NaN</td>\n",
       "      <td>0</td>\n",
       "      <td>الحمد لله  المشاغبينوفلورزوفسحالصيف</td>\n",
       "    </tr>\n",
       "    <tr>\n",
       "      <th>4</th>\n",
       "      <td>2019-06-18 19:25:01</td>\n",
       "      <td>29</td>\n",
       "      <td>404</td>\n",
       "      <td>93</td>\n",
       "      <td>NaN</td>\n",
       "      <td>0</td>\n",
       "      <td>لامستحيللل نعم مع العقيد</td>\n",
       "    </tr>\n",
       "  </tbody>\n",
       "</table>\n",
       "</div>"
      ],
      "text/plain": [
       "           Created At  Followers  Following  Likes       Location  \\\n",
       "0 2019-06-18 19:25:01        441       5000   1604  Mumbai, India   \n",
       "1 2019-06-18 19:25:01         72        187    771    دولة الكويت   \n",
       "2 2019-06-18 19:25:01        439        381   2152            NaN   \n",
       "3 2019-06-18 19:25:01        178        179   2622            NaN   \n",
       "4 2019-06-18 19:25:01         29        404     93            NaN   \n",
       "\n",
       "   Retweet Count                                        clean_tweet  \n",
       "0              0  مرحبا مكتب استقدام مومبائ الهند سائق خاص و عام...  \n",
       "1              0                  وإنني لا أملك شيئا ثمينا سوى أمي   \n",
       "2              0                   الموضوع بيكسب فعلا انت ما بكدبش   \n",
       "3              0                الحمد لله  المشاغبينوفلورزوفسحالصيف  \n",
       "4              0                           لامستحيللل نعم مع العقيد  "
      ]
     },
     "execution_count": 157,
     "metadata": {},
     "output_type": "execute_result"
    }
   ],
   "source": [
    "df1=df1[['Created At','Followers','Following','Likes','Location','Retweet Count','clean_tweet']]\n",
    "df1.head() #only columsn of data for analysis were kept in the df, all usernames were removed for privacy"
   ]
  },
  {
   "cell_type": "markdown",
   "metadata": {},
   "source": [
    "<font color='MediumSeaGreen'> \n",
    "\n",
    "### Run Model on Tweet Message"
   ]
  },
  {
   "cell_type": "code",
   "execution_count": 158,
   "metadata": {},
   "outputs": [],
   "source": [
    "#add new column with predicted dialect on each tweet message\n",
    "df1['Dialect Detection'] = model.predict(df1.clean_tweet)"
   ]
  },
  {
   "cell_type": "code",
   "execution_count": 159,
   "metadata": {
    "scrolled": false
   },
   "outputs": [
    {
     "data": {
      "text/html": [
       "<div>\n",
       "<style scoped>\n",
       "    .dataframe tbody tr th:only-of-type {\n",
       "        vertical-align: middle;\n",
       "    }\n",
       "\n",
       "    .dataframe tbody tr th {\n",
       "        vertical-align: top;\n",
       "    }\n",
       "\n",
       "    .dataframe thead th {\n",
       "        text-align: right;\n",
       "    }\n",
       "</style>\n",
       "<table border=\"1\" class=\"dataframe\">\n",
       "  <thead>\n",
       "    <tr style=\"text-align: right;\">\n",
       "      <th></th>\n",
       "      <th>Created At</th>\n",
       "      <th>Followers</th>\n",
       "      <th>Following</th>\n",
       "      <th>Likes</th>\n",
       "      <th>Location</th>\n",
       "      <th>Retweet Count</th>\n",
       "      <th>clean_tweet</th>\n",
       "      <th>Dialect Detection</th>\n",
       "    </tr>\n",
       "  </thead>\n",
       "  <tbody>\n",
       "    <tr>\n",
       "      <th>0</th>\n",
       "      <td>2019-06-18 19:25:01</td>\n",
       "      <td>441</td>\n",
       "      <td>5000</td>\n",
       "      <td>1604</td>\n",
       "      <td>Mumbai, India</td>\n",
       "      <td>0</td>\n",
       "      <td>مرحبا مكتب استقدام مومبائ الهند سائق خاص و عام...</td>\n",
       "      <td>ar</td>\n",
       "    </tr>\n",
       "    <tr>\n",
       "      <th>1</th>\n",
       "      <td>2019-06-18 19:25:01</td>\n",
       "      <td>72</td>\n",
       "      <td>187</td>\n",
       "      <td>771</td>\n",
       "      <td>دولة الكويت</td>\n",
       "      <td>0</td>\n",
       "      <td>وإنني لا أملك شيئا ثمينا سوى أمي</td>\n",
       "      <td>ar</td>\n",
       "    </tr>\n",
       "    <tr>\n",
       "      <th>2</th>\n",
       "      <td>2019-06-18 19:25:01</td>\n",
       "      <td>439</td>\n",
       "      <td>381</td>\n",
       "      <td>2152</td>\n",
       "      <td>NaN</td>\n",
       "      <td>0</td>\n",
       "      <td>الموضوع بيكسب فعلا انت ما بكدبش</td>\n",
       "      <td>arz</td>\n",
       "    </tr>\n",
       "    <tr>\n",
       "      <th>3</th>\n",
       "      <td>2019-06-18 19:25:01</td>\n",
       "      <td>178</td>\n",
       "      <td>179</td>\n",
       "      <td>2622</td>\n",
       "      <td>NaN</td>\n",
       "      <td>0</td>\n",
       "      <td>الحمد لله  المشاغبينوفلورزوفسحالصيف</td>\n",
       "      <td>ar</td>\n",
       "    </tr>\n",
       "    <tr>\n",
       "      <th>4</th>\n",
       "      <td>2019-06-18 19:25:01</td>\n",
       "      <td>29</td>\n",
       "      <td>404</td>\n",
       "      <td>93</td>\n",
       "      <td>NaN</td>\n",
       "      <td>0</td>\n",
       "      <td>لامستحيللل نعم مع العقيد</td>\n",
       "      <td>ar</td>\n",
       "    </tr>\n",
       "    <tr>\n",
       "      <th>5</th>\n",
       "      <td>2019-06-18 19:25:01</td>\n",
       "      <td>814</td>\n",
       "      <td>71</td>\n",
       "      <td>275</td>\n",
       "      <td>NaN</td>\n",
       "      <td>0</td>\n",
       "      <td>السؤال دا صار يطرح نفسو بكثره والله هما اغبياء...</td>\n",
       "      <td>arz</td>\n",
       "    </tr>\n",
       "    <tr>\n",
       "      <th>6</th>\n",
       "      <td>2019-06-18 19:25:01</td>\n",
       "      <td>1225</td>\n",
       "      <td>996</td>\n",
       "      <td>5736</td>\n",
       "      <td>مصر</td>\n",
       "      <td>0</td>\n",
       "      <td>زعلانه ان حزنك راح</td>\n",
       "      <td>ar</td>\n",
       "    </tr>\n",
       "    <tr>\n",
       "      <th>7</th>\n",
       "      <td>2019-06-18 19:25:01</td>\n",
       "      <td>56</td>\n",
       "      <td>245</td>\n",
       "      <td>2105</td>\n",
       "      <td>الطائف, المملكة العربية السعودية</td>\n",
       "      <td>0</td>\n",
       "      <td>مازلت أحتفظ بصوتك في هاتفي وأسمعه نهاية كل يوم...</td>\n",
       "      <td>ar</td>\n",
       "    </tr>\n",
       "    <tr>\n",
       "      <th>8</th>\n",
       "      <td>2019-06-18 19:25:01</td>\n",
       "      <td>1</td>\n",
       "      <td>24</td>\n",
       "      <td>66</td>\n",
       "      <td>NaN</td>\n",
       "      <td>0</td>\n",
       "      <td>انا متضرر من الصوت العالي للمسجد والان بحثت عن...</td>\n",
       "      <td>ar</td>\n",
       "    </tr>\n",
       "    <tr>\n",
       "      <th>9</th>\n",
       "      <td>2019-06-18 19:25:01</td>\n",
       "      <td>961</td>\n",
       "      <td>394</td>\n",
       "      <td>12806</td>\n",
       "      <td>bahrain</td>\n",
       "      <td>0</td>\n",
       "      <td>امشي دي ام</td>\n",
       "      <td>arz</td>\n",
       "    </tr>\n",
       "  </tbody>\n",
       "</table>\n",
       "</div>"
      ],
      "text/plain": [
       "           Created At  Followers  Following  Likes  \\\n",
       "0 2019-06-18 19:25:01        441       5000   1604   \n",
       "1 2019-06-18 19:25:01         72        187    771   \n",
       "2 2019-06-18 19:25:01        439        381   2152   \n",
       "3 2019-06-18 19:25:01        178        179   2622   \n",
       "4 2019-06-18 19:25:01         29        404     93   \n",
       "5 2019-06-18 19:25:01        814         71    275   \n",
       "6 2019-06-18 19:25:01       1225        996   5736   \n",
       "7 2019-06-18 19:25:01         56        245   2105   \n",
       "8 2019-06-18 19:25:01          1         24     66   \n",
       "9 2019-06-18 19:25:01        961        394  12806   \n",
       "\n",
       "                           Location  Retweet Count  \\\n",
       "0                     Mumbai, India              0   \n",
       "1                       دولة الكويت              0   \n",
       "2                               NaN              0   \n",
       "3                               NaN              0   \n",
       "4                               NaN              0   \n",
       "5                               NaN              0   \n",
       "6                               مصر              0   \n",
       "7  الطائف, المملكة العربية السعودية              0   \n",
       "8                               NaN              0   \n",
       "9                           bahrain              0   \n",
       "\n",
       "                                         clean_tweet Dialect Detection  \n",
       "0  مرحبا مكتب استقدام مومبائ الهند سائق خاص و عام...                ar  \n",
       "1                  وإنني لا أملك شيئا ثمينا سوى أمي                 ar  \n",
       "2                   الموضوع بيكسب فعلا انت ما بكدبش                arz  \n",
       "3                الحمد لله  المشاغبينوفلورزوفسحالصيف                ar  \n",
       "4                           لامستحيللل نعم مع العقيد                ar  \n",
       "5  السؤال دا صار يطرح نفسو بكثره والله هما اغبياء...               arz  \n",
       "6                                زعلانه ان حزنك راح                 ar  \n",
       "7  مازلت أحتفظ بصوتك في هاتفي وأسمعه نهاية كل يوم...                ar  \n",
       "8  انا متضرر من الصوت العالي للمسجد والان بحثت عن...                ar  \n",
       "9                                         امشي دي ام               arz  "
      ]
     },
     "execution_count": 159,
     "metadata": {},
     "output_type": "execute_result"
    }
   ],
   "source": [
    "df1.head(10)"
   ]
  },
  {
   "cell_type": "code",
   "execution_count": 162,
   "metadata": {
    "scrolled": true
   },
   "outputs": [
    {
     "data": {
      "text/html": [
       "<div>\n",
       "<style scoped>\n",
       "    .dataframe tbody tr th:only-of-type {\n",
       "        vertical-align: middle;\n",
       "    }\n",
       "\n",
       "    .dataframe tbody tr th {\n",
       "        vertical-align: top;\n",
       "    }\n",
       "\n",
       "    .dataframe thead th {\n",
       "        text-align: right;\n",
       "    }\n",
       "</style>\n",
       "<table border=\"1\" class=\"dataframe\">\n",
       "  <thead>\n",
       "    <tr style=\"text-align: right;\">\n",
       "      <th></th>\n",
       "      <th>Created At</th>\n",
       "      <th>Followers</th>\n",
       "      <th>Following</th>\n",
       "      <th>Likes</th>\n",
       "      <th>Location</th>\n",
       "      <th>Retweet Count</th>\n",
       "      <th>clean_tweet</th>\n",
       "      <th>Dialect Detection</th>\n",
       "    </tr>\n",
       "  </thead>\n",
       "  <tbody>\n",
       "    <tr>\n",
       "      <th>118</th>\n",
       "      <td>2019-06-19 19:12:46</td>\n",
       "      <td>8547</td>\n",
       "      <td>214</td>\n",
       "      <td>1887</td>\n",
       "      <td></td>\n",
       "      <td>0</td>\n",
       "      <td>ويقول يمبك ويزر ويدي</td>\n",
       "      <td>ar</td>\n",
       "    </tr>\n",
       "    <tr>\n",
       "      <th>771</th>\n",
       "      <td>2019-06-19 19:12:40</td>\n",
       "      <td>980</td>\n",
       "      <td>110</td>\n",
       "      <td>128</td>\n",
       "      <td></td>\n",
       "      <td>0</td>\n",
       "      <td>لا م قلت</td>\n",
       "      <td>ar</td>\n",
       "    </tr>\n",
       "    <tr>\n",
       "      <th>1382</th>\n",
       "      <td>2019-06-19 19:12:35</td>\n",
       "      <td>17</td>\n",
       "      <td>130</td>\n",
       "      <td>26</td>\n",
       "      <td></td>\n",
       "      <td>0</td>\n",
       "      <td>هههه</td>\n",
       "      <td>ar</td>\n",
       "    </tr>\n",
       "    <tr>\n",
       "      <th>469</th>\n",
       "      <td>2019-06-18 19:24:58</td>\n",
       "      <td>155</td>\n",
       "      <td>170</td>\n",
       "      <td>5213</td>\n",
       "      <td></td>\n",
       "      <td>0</td>\n",
       "      <td>لا تدمني نظرا إلي فوالذي جعل الهوى قدرا على كف...</td>\n",
       "      <td>ar</td>\n",
       "    </tr>\n",
       "    <tr>\n",
       "      <th>824</th>\n",
       "      <td>2019-06-19 19:12:40</td>\n",
       "      <td>8144</td>\n",
       "      <td>5994</td>\n",
       "      <td>26564</td>\n",
       "      <td></td>\n",
       "      <td>0</td>\n",
       "      <td>الجميل الفكر الواعي الراقي</td>\n",
       "      <td>ar</td>\n",
       "    </tr>\n",
       "    <tr>\n",
       "      <th>852</th>\n",
       "      <td>2019-06-18 19:24:55</td>\n",
       "      <td>1631</td>\n",
       "      <td>375</td>\n",
       "      <td>380</td>\n",
       "      <td>Milano</td>\n",
       "      <td>0</td>\n",
       "      <td>حيييلو هههههههههههههههههههههههههههههههههههههه...</td>\n",
       "      <td>ar</td>\n",
       "    </tr>\n",
       "    <tr>\n",
       "      <th>452</th>\n",
       "      <td>2019-06-18 19:24:58</td>\n",
       "      <td>663</td>\n",
       "      <td>439</td>\n",
       "      <td>468</td>\n",
       "      <td>Baghdad</td>\n",
       "      <td>0</td>\n",
       "      <td>بلنتي لفرنسا من اول وصول لمنطقة جزاء انجلترا</td>\n",
       "      <td>arz</td>\n",
       "    </tr>\n",
       "    <tr>\n",
       "      <th>123</th>\n",
       "      <td>2019-06-18 19:25:01</td>\n",
       "      <td>967</td>\n",
       "      <td>303</td>\n",
       "      <td>2531</td>\n",
       "      <td>#25JAN #ACAB</td>\n",
       "      <td>0</td>\n",
       "      <td>شوية مدعين خايفين ياخدوا موقف صح ففين بقى ال...</td>\n",
       "      <td>arz</td>\n",
       "    </tr>\n",
       "    <tr>\n",
       "      <th>1494</th>\n",
       "      <td>2019-06-19 19:12:34</td>\n",
       "      <td>593</td>\n",
       "      <td>346</td>\n",
       "      <td>73</td>\n",
       "      <td>' Saudia Arabia -  '</td>\n",
       "      <td>0</td>\n",
       "      <td>اللهم إجعلنا من المتقين يا رب العالمين</td>\n",
       "      <td>ar</td>\n",
       "    </tr>\n",
       "    <tr>\n",
       "      <th>820</th>\n",
       "      <td>2019-06-18 19:24:55</td>\n",
       "      <td>2170</td>\n",
       "      <td>2147</td>\n",
       "      <td>16773</td>\n",
       "      <td>..☕️🖇</td>\n",
       "      <td>0</td>\n",
       "      <td>يس</td>\n",
       "      <td>ar</td>\n",
       "    </tr>\n",
       "    <tr>\n",
       "      <th>641</th>\n",
       "      <td>2019-06-19 19:12:42</td>\n",
       "      <td>1583</td>\n",
       "      <td>149</td>\n",
       "      <td>85006</td>\n",
       "      <td>Always be tolerant</td>\n",
       "      <td>0</td>\n",
       "      <td>يستغلون قضية خاشقجي للإساءة للسعودية وقيادتها ...</td>\n",
       "      <td>ar</td>\n",
       "    </tr>\n",
       "    <tr>\n",
       "      <th>973</th>\n",
       "      <td>2019-06-18 19:24:53</td>\n",
       "      <td>1306</td>\n",
       "      <td>162</td>\n",
       "      <td>10232</td>\n",
       "      <td>Bangazii.libya</td>\n",
       "      <td>0</td>\n",
       "      <td>فيه ديمه بيشتي الشين والزين هوا صعب بس فيه</td>\n",
       "      <td>arz</td>\n",
       "    </tr>\n",
       "    <tr>\n",
       "      <th>1832</th>\n",
       "      <td>2019-06-19 19:12:31</td>\n",
       "      <td>1872</td>\n",
       "      <td>918</td>\n",
       "      <td>5886</td>\n",
       "      <td>Benghazi, Libya</td>\n",
       "      <td>0</td>\n",
       "      <td>المسدس لفي جنبك لا يدل علي رجولتك</td>\n",
       "      <td>ar</td>\n",
       "    </tr>\n",
       "    <tr>\n",
       "      <th>1294</th>\n",
       "      <td>2019-06-18 19:24:51</td>\n",
       "      <td>132</td>\n",
       "      <td>158</td>\n",
       "      <td>2536</td>\n",
       "      <td>CENTER OF THE UNIVERSE ⚓︎</td>\n",
       "      <td>0</td>\n",
       "      <td>أنا لو شفته ابحب له شفته</td>\n",
       "      <td>arz</td>\n",
       "    </tr>\n",
       "    <tr>\n",
       "      <th>33</th>\n",
       "      <td>2019-06-19 19:12:47</td>\n",
       "      <td>1233</td>\n",
       "      <td>889</td>\n",
       "      <td>14204</td>\n",
       "      <td>Egypt</td>\n",
       "      <td>0</td>\n",
       "      <td>في حاجة اسمها ما شاء الله تعرفوها ولا هتخلصوا ...</td>\n",
       "      <td>arz</td>\n",
       "    </tr>\n",
       "    <tr>\n",
       "      <th>1739</th>\n",
       "      <td>2019-06-18 19:24:47</td>\n",
       "      <td>135</td>\n",
       "      <td>61</td>\n",
       "      <td>3239</td>\n",
       "      <td>HALA MADRID 💕.</td>\n",
       "      <td>0</td>\n",
       "      <td>لا تحزن إن نسوك  فإن لك حبيبه لا تنساك ولن تنس...</td>\n",
       "      <td>arz</td>\n",
       "    </tr>\n",
       "    <tr>\n",
       "      <th>565</th>\n",
       "      <td>2019-06-19 19:12:42</td>\n",
       "      <td>385</td>\n",
       "      <td>86</td>\n",
       "      <td>1122</td>\n",
       "      <td>Jeddah</td>\n",
       "      <td>0</td>\n",
       "      <td>يسس</td>\n",
       "      <td>ar</td>\n",
       "    </tr>\n",
       "    <tr>\n",
       "      <th>1453</th>\n",
       "      <td>2019-06-19 19:12:34</td>\n",
       "      <td>697</td>\n",
       "      <td>1770</td>\n",
       "      <td>68</td>\n",
       "      <td>Jeddah</td>\n",
       "      <td>0</td>\n",
       "      <td>قل من ذا الذي يعصمكم من اللـه إن أراد بكم سوءا...</td>\n",
       "      <td>ar</td>\n",
       "    </tr>\n",
       "    <tr>\n",
       "      <th>1311</th>\n",
       "      <td>2019-06-18 19:24:51</td>\n",
       "      <td>503</td>\n",
       "      <td>317</td>\n",
       "      <td>9087</td>\n",
       "      <td>Qallin,Kafr El Shikh, Egypt</td>\n",
       "      <td>0</td>\n",
       "      <td>الناس بتقعد تنزل فيديوهات من دي ويقعدوا يتريقو...</td>\n",
       "      <td>ar</td>\n",
       "    </tr>\n",
       "    <tr>\n",
       "      <th>146</th>\n",
       "      <td>2019-06-19 19:12:46</td>\n",
       "      <td>8132</td>\n",
       "      <td>2849</td>\n",
       "      <td>7140</td>\n",
       "      <td>Riyadh</td>\n",
       "      <td>0</td>\n",
       "      <td>صحت اناملك يالجميله  ابدعت وامتعتي</td>\n",
       "      <td>ar</td>\n",
       "    </tr>\n",
       "    <tr>\n",
       "      <th>1028</th>\n",
       "      <td>2019-06-18 19:24:53</td>\n",
       "      <td>0</td>\n",
       "      <td>5</td>\n",
       "      <td>0</td>\n",
       "      <td>Saudi Arabia</td>\n",
       "      <td>0</td>\n",
       "      <td>بقدر مقدار الحب قدرينيوببعد الدار داريني  فالش...</td>\n",
       "      <td>ar</td>\n",
       "    </tr>\n",
       "    <tr>\n",
       "      <th>918</th>\n",
       "      <td>2019-06-19 19:12:39</td>\n",
       "      <td>441</td>\n",
       "      <td>204</td>\n",
       "      <td>1035</td>\n",
       "      <td>Yemen</td>\n",
       "      <td>0</td>\n",
       "      <td>تعال اليمن يعلموك الرجووووله يادلوع ابوك</td>\n",
       "      <td>ar</td>\n",
       "    </tr>\n",
       "    <tr>\n",
       "      <th>1763</th>\n",
       "      <td>2019-06-19 19:12:31</td>\n",
       "      <td>884</td>\n",
       "      <td>4218</td>\n",
       "      <td>2803</td>\n",
       "      <td>kuwait</td>\n",
       "      <td>0</td>\n",
       "      <td>جعله يفـل الوضـع دام العمـر فاني   شعاري هالي...</td>\n",
       "      <td>arz</td>\n",
       "    </tr>\n",
       "    <tr>\n",
       "      <th>1931</th>\n",
       "      <td>2019-06-19 19:12:30</td>\n",
       "      <td>1216</td>\n",
       "      <td>379</td>\n",
       "      <td>10547</td>\n",
       "      <td>ألهلال السعودي</td>\n",
       "      <td>0</td>\n",
       "      <td>وش يصبرني الى الساعه</td>\n",
       "      <td>arz</td>\n",
       "    </tr>\n",
       "    <tr>\n",
       "      <th>1685</th>\n",
       "      <td>2019-06-19 19:12:32</td>\n",
       "      <td>1330</td>\n",
       "      <td>1105</td>\n",
       "      <td>5655</td>\n",
       "      <td>السعودية.عالية نجد ...١٩٦٤م</td>\n",
       "      <td>0</td>\n",
       "      <td>ليس كل العربان بل أكثرهم مايصفى إلا خمس أو س...</td>\n",
       "      <td>arz</td>\n",
       "    </tr>\n",
       "  </tbody>\n",
       "</table>\n",
       "</div>"
      ],
      "text/plain": [
       "              Created At  Followers  Following  Likes  \\\n",
       "118  2019-06-19 19:12:46       8547        214   1887   \n",
       "771  2019-06-19 19:12:40        980        110    128   \n",
       "1382 2019-06-19 19:12:35         17        130     26   \n",
       "469  2019-06-18 19:24:58        155        170   5213   \n",
       "824  2019-06-19 19:12:40       8144       5994  26564   \n",
       "852  2019-06-18 19:24:55       1631        375    380   \n",
       "452  2019-06-18 19:24:58        663        439    468   \n",
       "123  2019-06-18 19:25:01        967        303   2531   \n",
       "1494 2019-06-19 19:12:34        593        346     73   \n",
       "820  2019-06-18 19:24:55       2170       2147  16773   \n",
       "641  2019-06-19 19:12:42       1583        149  85006   \n",
       "973  2019-06-18 19:24:53       1306        162  10232   \n",
       "1832 2019-06-19 19:12:31       1872        918   5886   \n",
       "1294 2019-06-18 19:24:51        132        158   2536   \n",
       "33   2019-06-19 19:12:47       1233        889  14204   \n",
       "1739 2019-06-18 19:24:47        135         61   3239   \n",
       "565  2019-06-19 19:12:42        385         86   1122   \n",
       "1453 2019-06-19 19:12:34        697       1770     68   \n",
       "1311 2019-06-18 19:24:51        503        317   9087   \n",
       "146  2019-06-19 19:12:46       8132       2849   7140   \n",
       "1028 2019-06-18 19:24:53          0          5      0   \n",
       "918  2019-06-19 19:12:39        441        204   1035   \n",
       "1763 2019-06-19 19:12:31        884       4218   2803   \n",
       "1931 2019-06-19 19:12:30       1216        379  10547   \n",
       "1685 2019-06-19 19:12:32       1330       1105   5655   \n",
       "\n",
       "                            Location  Retweet Count  \\\n",
       "118                                               0   \n",
       "771                                               0   \n",
       "1382                                              0   \n",
       "469                                               0   \n",
       "824                                               0   \n",
       "852                           Milano              0   \n",
       "452                          Baghdad              0   \n",
       "123                     #25JAN #ACAB              0   \n",
       "1494           ' Saudia Arabia -  '               0   \n",
       "820                           ..☕️🖇               0   \n",
       "641    Always be tolerant                         0   \n",
       "973                  Bangazii.libya               0   \n",
       "1832                 Benghazi, Libya              0   \n",
       "1294       CENTER OF THE UNIVERSE ⚓︎              0   \n",
       "33                             Egypt              0   \n",
       "1739                  HALA MADRID 💕.              0   \n",
       "565                           Jeddah              0   \n",
       "1453                          Jeddah              0   \n",
       "1311     Qallin,Kafr El Shikh, Egypt              0   \n",
       "146                           Riyadh              0   \n",
       "1028                    Saudi Arabia              0   \n",
       "918                            Yemen              0   \n",
       "1763                          kuwait              0   \n",
       "1931                  ألهلال السعودي              0   \n",
       "1685     السعودية.عالية نجد ...١٩٦٤م              0   \n",
       "\n",
       "                                            clean_tweet Dialect Detection  \n",
       "118                                ويقول يمبك ويزر ويدي                ar  \n",
       "771                                            لا م قلت                ar  \n",
       "1382                                               هههه                ar  \n",
       "469   لا تدمني نظرا إلي فوالذي جعل الهوى قدرا على كف...                ar  \n",
       "824                          الجميل الفكر الواعي الراقي                ar  \n",
       "852    حيييلو هههههههههههههههههههههههههههههههههههههه...                ar  \n",
       "452        بلنتي لفرنسا من اول وصول لمنطقة جزاء انجلترا               arz  \n",
       "123     شوية مدعين خايفين ياخدوا موقف صح ففين بقى ال...               arz  \n",
       "1494           اللهم إجعلنا من المتقين يا رب العالمين                  ar  \n",
       "820                                                  يس                ar  \n",
       "641   يستغلون قضية خاشقجي للإساءة للسعودية وقيادتها ...                ar  \n",
       "973          فيه ديمه بيشتي الشين والزين هوا صعب بس فيه               arz  \n",
       "1832                  المسدس لفي جنبك لا يدل علي رجولتك                ar  \n",
       "1294                           أنا لو شفته ابحب له شفته               arz  \n",
       "33    في حاجة اسمها ما شاء الله تعرفوها ولا هتخلصوا ...               arz  \n",
       "1739  لا تحزن إن نسوك  فإن لك حبيبه لا تنساك ولن تنس...               arz  \n",
       "565                                                 يسس                ar  \n",
       "1453  قل من ذا الذي يعصمكم من اللـه إن أراد بكم سوءا...                ar  \n",
       "1311  الناس بتقعد تنزل فيديوهات من دي ويقعدوا يتريقو...                ar  \n",
       "146                  صحت اناملك يالجميله  ابدعت وامتعتي                ar  \n",
       "1028  بقدر مقدار الحب قدرينيوببعد الدار داريني  فالش...                ar  \n",
       "918           تعال اليمن يعلموك الرجووووله يادلوع ابوك                 ar  \n",
       "1763   جعله يفـل الوضـع دام العمـر فاني   شعاري هالي...               arz  \n",
       "1931                             وش يصبرني الى الساعه                 arz  \n",
       "1685    ليس كل العربان بل أكثرهم مايصفى إلا خمس أو س...               arz  "
      ]
     },
     "execution_count": 162,
     "metadata": {},
     "output_type": "execute_result"
    }
   ],
   "source": [
    "df1.sort_values(by=['Location', 'Dialect Detection'] , ascending=True).head(25)"
   ]
  },
  {
   "cell_type": "code",
   "execution_count": 160,
   "metadata": {},
   "outputs": [
    {
     "data": {
      "text/plain": [
       "ar     6125\n",
       "arz    2110\n",
       "Name: Dialect Detection, dtype: int64"
      ]
     },
     "execution_count": 160,
     "metadata": {},
     "output_type": "execute_result"
    }
   ],
   "source": [
    "df1['Dialect Detection'].value_counts()"
   ]
  },
  {
   "cell_type": "code",
   "execution_count": 161,
   "metadata": {},
   "outputs": [],
   "source": [
    "df1.to_excel('Dialect Predicted on Arabic Tweets.xlsx')"
   ]
  },
  {
   "cell_type": "markdown",
   "metadata": {},
   "source": [
    "### Further Steps\n",
    "To improve the accuracy of the model, it would be helpful to add a word list in both dialects and a list of common grammar differences."
   ]
  }
 ],
 "metadata": {
  "kernelspec": {
   "display_name": "Python (myENV)",
   "language": "python",
   "name": "myenv"
  },
  "language_info": {
   "codemirror_mode": {
    "name": "ipython",
    "version": 3
   },
   "file_extension": ".py",
   "mimetype": "text/x-python",
   "name": "python",
   "nbconvert_exporter": "python",
   "pygments_lexer": "ipython3",
   "version": "3.5.2"
  }
 },
 "nbformat": 4,
 "nbformat_minor": 2
}
